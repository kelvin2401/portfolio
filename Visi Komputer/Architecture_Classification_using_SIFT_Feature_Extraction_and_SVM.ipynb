{
  "cells": [
    {
      "cell_type": "code",
      "execution_count": null,
      "metadata": {
        "id": "Dc1TLP-lAvSF"
      },
      "outputs": [],
      "source": [
        "from google.colab import drive\n",
        "from google.colab.patches import cv2_imshow\n",
        "from pathlib import Path\n",
        "import pandas as pd\n",
        "import numpy as np\n",
        "import cv2\n",
        "import glob\n",
        "import matplotlib.pyplot as plt\n",
        "import PIL\n",
        "from PIL import Image\n",
        "from sklearn.metrics import classification_report, confusion_matrix\n",
        "import itertools\n",
        "from sklearn import metrics\n",
        "from sklearn.metrics import f1_score\n",
        "from sklearn.metrics import jaccard_score\n",
        "from sklearn.model_selection import train_test_split\n",
        "from sklearn.metrics import accuracy_score\n",
        "from sklearn.svm import SVC\n",
        "from sklearn import svm\n",
        "from sklearn.model_selection import GridSearchCV\n",
        "from xgboost import XGBClassifier, plot_tree\n",
        "from sklearn.linear_model import LogisticRegression\n",
        "from sklearn.ensemble import RandomForestClassifier\n",
        "import random\n",
        "import warnings\n",
        "warnings.filterwarnings(\"ignore\")"
      ]
    },
    {
      "cell_type": "code",
      "execution_count": null,
      "metadata": {
        "colab": {
          "base_uri": "https://localhost:8080/"
        },
        "id": "D6zyCxTkA7_7",
        "outputId": "885ae97f-bd62-408b-bceb-3e40aec61b7f"
      },
      "outputs": [
        {
          "output_type": "stream",
          "name": "stdout",
          "text": [
            "Mounted at /content/drive/\n"
          ]
        }
      ],
      "source": [
        "drive.mount(\"/content/drive/\")"
      ]
    },
    {
      "cell_type": "code",
      "source": [
        "def getDes(Im, tool):\n",
        "    if tool == 'BRISK':\n",
        "        source = cv2.BRISK_create()\n",
        "        #print(\"BRISK Mode..\")\n",
        "    elif tool == 'SIFT':\n",
        "        source = cv2.SIFT_create()\n",
        "        #print(\"SIFT Mode..\")\n",
        "    elif tool == 'KAZE':\n",
        "        source = cv2.KAZE_create()\n",
        "        #print(\"KAZE Mode..\")\n",
        "    else:\n",
        "        print(\"Select a Mode!!\")\n",
        "    img = Im\n",
        "    kp, des = source.detectAndCompute(img, None)\n",
        "    return(des)"
      ],
      "metadata": {
        "id": "WmS8vkdNWBzi"
      },
      "execution_count": null,
      "outputs": []
    },
    {
      "cell_type": "code",
      "execution_count": null,
      "metadata": {
        "id": "adgmLNvLPnGA"
      },
      "outputs": [],
      "source": [
        "def bag_of_features(features, centres, k = 500):\n",
        "      vec = np.zeros((1, k))\n",
        "      for i in range(features.shape[0]):\n",
        "          feat = features[i]\n",
        "          diff = np.tile(feat, (k, 1)) - centres\n",
        "          dist = pow(((pow(diff, 2)).sum(axis = 1)), 0.5)\n",
        "          idx_dist = dist.argsort()\n",
        "          idx = idx_dist[0]\n",
        "          vec[0][idx] += 1\n",
        "      return vec"
      ]
    },
    {
      "cell_type": "markdown",
      "source": [
        "#SIFT Dengan Augmentasi"
      ],
      "metadata": {
        "id": "RmlqdItaFZCZ"
      }
    },
    {
      "cell_type": "markdown",
      "source": [
        "##Train Data"
      ],
      "metadata": {
        "id": "xvxFIQ_M6Rxs"
      }
    },
    {
      "cell_type": "markdown",
      "source": [
        "Load, preprocessing, dan augmentasi image dan mengambil deskriptor SIFT"
      ],
      "metadata": {
        "id": "MjB_lGOjIV9D"
      }
    },
    {
      "cell_type": "code",
      "source": [
        "dir = \"/content/drive/MyDrive/Kelompok Visi Komputer/dataset/data train/\"\n",
        "folders = ['American craftsman style', 'Art Deco architecture', 'Art Nouveau architecture', 'Baroque architecture',\n",
        "               'Beaux-Arts architecture', 'Deconstructivism', 'Greek Revival architecture', 'International style',\n",
        "               'Novelty architecture', 'Queen Anne architecture']\n",
        "IMAGE_SIZE = (150, 150)\n",
        "features = []\n",
        "labels = []\n",
        "i = 0\n",
        "counter = 0\n",
        "def fill(img, h, w):\n",
        "    return cv2.resize(img, (h, w), cv2.INTER_CUBIC)\n",
        "\n",
        "for folder in folders:\n",
        "  folder_dir = dir + folder\n",
        "  images = Path(folder_dir).glob('*.jpg')\n",
        "  for image in images:\n",
        "    if counter < 86:\n",
        "      image_pp = cv2.imread(str(image))\n",
        "      image_pp = cv2.resize(image_pp, IMAGE_SIZE)\n",
        "      image_pp = image_pp / 255.0\n",
        "      image_pp = cv2.normalize(image_pp, None, 0, 255, cv2.NORM_MINMAX).astype('uint8')\n",
        "      features.append(getDes(image_pp, 'SIFT'))\n",
        "      labels.append(i)\n",
        "      img = image_pp\n",
        "      # Horizontal flip\n",
        "      img_flip = cv2.flip(img, 1)\n",
        "      features.append(getDes(img_flip, 'SIFT'))\n",
        "      labels.append(i)\n",
        "      # Rotation\n",
        "      angle = 45\n",
        "      h, w = img.shape[:2]\n",
        "      M = cv2.getRotationMatrix2D((int(w/2), int(h/2)), angle, 1)\n",
        "      img_rotate = cv2.warpAffine(img, M, (w, h))\n",
        "      features.append(getDes(img_rotate, 'SIFT'))\n",
        "      labels.append(i)\n",
        "      # Zoom\n",
        "      value = random.uniform(0.6, 1)\n",
        "      h, w = img.shape[:2]\n",
        "      h_taken = int(value*h)\n",
        "      w_taken = int(value*w)\n",
        "      h_start = random.randint(0, h-h_taken)\n",
        "      w_start = random.randint(0, w-w_taken)\n",
        "      img_con = img[h_start:h_start+h_taken, w_start:w_start+w_taken, :]\n",
        "      img_zoom = fill(img_con, h, w)\n",
        "      features.append(getDes(img_zoom, 'SIFT'))\n",
        "      labels.append(i)\n",
        "      # Brighness\n",
        "      value = random.uniform(0.5, 1.4)\n",
        "      hsv = cv2.cvtColor(img, cv2.COLOR_BGR2HSV)\n",
        "      hsv = np.array(hsv, dtype = np.float64)\n",
        "      hsv[:,:,1] = hsv[:,:,1]*value\n",
        "      hsv[:,:,1][hsv[:,:,1]>255]  = 255\n",
        "      hsv[:,:,2] = hsv[:,:,2]*value\n",
        "      hsv[:,:,2][hsv[:,:,2]>255]  = 255\n",
        "      hsv = np.array(hsv, dtype = np.uint8)\n",
        "      img_bright = cv2.cvtColor(hsv, cv2.COLOR_HSV2BGR)\n",
        "      features.append(getDes(img_bright, 'SIFT'))\n",
        "      labels.append(i)\n",
        "    counter = counter + 1\n",
        "  i = i + 1\n",
        "  counter = 0\n",
        "features = np.vstack(features)"
      ],
      "metadata": {
        "id": "Bt8lVSWv1NSh"
      },
      "execution_count": null,
      "outputs": []
    },
    {
      "cell_type": "markdown",
      "source": [
        "Clustering deskriptor untuk mendapatkan centroid (representasi dari main feature)"
      ],
      "metadata": {
        "id": "IqZHHq8qIkYv"
      }
    },
    {
      "cell_type": "code",
      "execution_count": null,
      "metadata": {
        "id": "7D22wIBuPZpj"
      },
      "outputs": [],
      "source": [
        "k = 150\n",
        "criteria = (cv2.TERM_CRITERIA_EPS + cv2.TERM_CRITERIA_MAX_ITER, 10, 0.1)\n",
        "flags = cv2.KMEANS_RANDOM_CENTERS\n",
        "compactness, labels2, centres = cv2.kmeans(features, k, None, criteria, 10, flags)"
      ]
    },
    {
      "cell_type": "markdown",
      "source": [
        "Menggunakan \"bag of features\" untuk mendapatkan feature vector supaya dapat diinputkan ke model"
      ],
      "metadata": {
        "id": "HRriQknmI834"
      }
    },
    {
      "cell_type": "code",
      "execution_count": null,
      "metadata": {
        "id": "WVN9S-9fP8q9"
      },
      "outputs": [],
      "source": [
        "dir = \"/content/drive/MyDrive/Kelompok Visi Komputer/dataset/data train/\"\n",
        "folders = ['American craftsman style', 'Art Deco architecture', 'Art Nouveau architecture', 'Baroque architecture',\n",
        "               'Beaux-Arts architecture', 'Deconstructivism', 'Greek Revival architecture', 'International style',\n",
        "               'Novelty architecture', 'Queen Anne architecture']\n",
        "vec = []\n",
        "i = 0\n",
        "counter = 0\n",
        "for folder in folders:\n",
        "  folder_dir = dir + folder\n",
        "  images = Path(folder_dir).glob('*.jpg')\n",
        "  for image in images:\n",
        "    if counter < 86:\n",
        "      image_pp = cv2.imread(str(image))\n",
        "      image_pp = cv2.resize(image_pp, IMAGE_SIZE)\n",
        "      image_pp = image_pp / 255.0\n",
        "      image_pp = cv2.normalize(image_pp, None, 0, 255, cv2.NORM_MINMAX).astype('uint8')\n",
        "      img_des = getDes(image_pp, 'SIFT')\n",
        "      if img_des is not None:\n",
        "        img_vec = bag_of_features(img_des, centres, k)\n",
        "        vec.append(img_vec)\n",
        "      img = image_pp\n",
        "      # Horizontal flip\n",
        "      img_flip = cv2.flip(img, 1)\n",
        "      img_des = getDes(img_flip, 'SIFT')\n",
        "      if img_des is not None:\n",
        "        img_vec = bag_of_features(img_des, centres, k)\n",
        "        vec.append(img_vec)\n",
        "      # Rotation\n",
        "      angle = 45\n",
        "      h, w = img.shape[:2]\n",
        "      M = cv2.getRotationMatrix2D((int(w/2), int(h/2)), angle, 1)\n",
        "      img_rotate = cv2.warpAffine(img, M, (w, h))\n",
        "      img_des = getDes(img_rotate, 'SIFT')\n",
        "      if img_des is not None:\n",
        "        img_vec = bag_of_features(img_des, centres, k)\n",
        "        vec.append(img_vec)\n",
        "      # Zoom\n",
        "      value = random.uniform(0.6, 1)\n",
        "      h, w = img.shape[:2]\n",
        "      h_taken = int(value*h)\n",
        "      w_taken = int(value*w)\n",
        "      h_start = random.randint(0, h-h_taken)\n",
        "      w_start = random.randint(0, w-w_taken)\n",
        "      img_con = img[h_start:h_start+h_taken, w_start:w_start+w_taken, :]\n",
        "      img_zoom = fill(img_con, h, w)\n",
        "      img_des = getDes(img_zoom, 'SIFT')\n",
        "      if img_des is not None:\n",
        "        img_vec = bag_of_features(img_des, centres, k)\n",
        "        vec.append(img_vec)\n",
        "      # Brighness\n",
        "      value = random.uniform(0.5, 1.4)\n",
        "      hsv = cv2.cvtColor(img, cv2.COLOR_BGR2HSV)\n",
        "      hsv = np.array(hsv, dtype = np.float64)\n",
        "      hsv[:,:,1] = hsv[:,:,1]*value\n",
        "      hsv[:,:,1][hsv[:,:,1]>255]  = 255\n",
        "      hsv[:,:,2] = hsv[:,:,2]*value\n",
        "      hsv[:,:,2][hsv[:,:,2]>255]  = 255\n",
        "      hsv = np.array(hsv, dtype = np.uint8)\n",
        "      img_bright = cv2.cvtColor(hsv, cv2.COLOR_HSV2BGR)\n",
        "      img_des = getDes(img_bright, 'SIFT')\n",
        "      if img_des is not None:\n",
        "        img_vec = bag_of_features(img_des, centres, k)\n",
        "        vec.append(img_vec)\n",
        "    counter = counter + 1\n",
        "  i = i + 1\n",
        "  counter = 0\n",
        "vec = np.vstack(vec)\n",
        ""
      ]
    },
    {
      "cell_type": "code",
      "source": [
        "X_train = vec\n",
        "y_train = labels"
      ],
      "metadata": {
        "id": "AuEIyuER6e1g"
      },
      "execution_count": null,
      "outputs": []
    },
    {
      "cell_type": "markdown",
      "source": [
        "##Test Data"
      ],
      "metadata": {
        "id": "j925lWr76Udv"
      }
    },
    {
      "cell_type": "markdown",
      "source": [
        "Mendapatkan \"bag of features\" menggunakan centroid yang sama dengan train data"
      ],
      "metadata": {
        "id": "B6aVxvRaJInh"
      }
    },
    {
      "cell_type": "code",
      "execution_count": null,
      "metadata": {
        "id": "rtz38ZP76W53"
      },
      "outputs": [],
      "source": [
        "dir = \"/content/drive/MyDrive/Kelompok Visi Komputer/dataset/data test/\"\n",
        "folders = ['American craftsman style', 'Art Deco architecture', 'Art Nouveau architecture', 'Baroque architecture',\n",
        "               'Beaux-Arts architecture', 'Deconstructivism', 'Greek Revival architecture', 'International style',\n",
        "               'Novelty architecture', 'Queen Anne architecture']\n",
        "vec = []\n",
        "labels = []\n",
        "i = 0\n",
        "counter = 0\n",
        "for folder in folders:\n",
        "  folder_dir = dir + folder\n",
        "  images = Path(folder_dir).glob('*.jpg')\n",
        "  for image in images:\n",
        "    if counter < 36:\n",
        "      image_pp = cv2.imread(str(image))\n",
        "      image_pp = cv2.cvtColor(image_pp, cv2.COLOR_BGR2RGB)\n",
        "      image_pp = cv2.resize(image_pp, IMAGE_SIZE)\n",
        "      image_pp = image_pp / 255.0\n",
        "      image_pp = cv2.normalize(image_pp, None, 0, 255, cv2.NORM_MINMAX).astype('uint8')\n",
        "      img_des = getDes(image_pp, 'SIFT')\n",
        "      if img_des is not None:\n",
        "        img_vec = bag_of_features(img_des, centres, k)\n",
        "        vec.append(img_vec)\n",
        "      labels.append(i)\n",
        "    counter = counter + 1\n",
        "  i = i + 1\n",
        "  counter = 0\n",
        "vec = np.vstack(vec)\n",
        ""
      ]
    },
    {
      "cell_type": "code",
      "source": [
        "X_test = vec\n",
        "y_test = labels"
      ],
      "metadata": {
        "id": "tfWdXJ4x6qIi"
      },
      "execution_count": null,
      "outputs": []
    },
    {
      "cell_type": "markdown",
      "source": [
        "##Training Model dan Evaluasi"
      ],
      "metadata": {
        "id": "y3PcQwsm_9bb"
      }
    },
    {
      "cell_type": "code",
      "execution_count": null,
      "metadata": {
        "id": "nYziR7ZCI6ym"
      },
      "outputs": [],
      "source": [
        "def plot_confusion_matrix(cm, classes,\n",
        "                          normalize=False,\n",
        "                          title='Confusion matrix',\n",
        "                          cmap=plt.cm.Blues):\n",
        "    \"\"\"\n",
        "    This function prints and plots the confusion matrix.\n",
        "    Normalization can be applied by setting `normalize=True`.\n",
        "    \"\"\"\n",
        "    if normalize:\n",
        "        cm = cm.astype('float') / cm.sum(axis=1)[:, np.newaxis]\n",
        "        print(\"Normalized confusion matrix\")\n",
        "    else:\n",
        "        print('Confusion matrix, without normalization')\n",
        "\n",
        "    print(cm)\n",
        "\n",
        "    plt.imshow(cm, interpolation='nearest', cmap=cmap)\n",
        "    plt.title(title)\n",
        "    plt.colorbar()\n",
        "    tick_marks = np.arange(len(classes))\n",
        "    plt.xticks(tick_marks, classes, rotation=45)\n",
        "    plt.yticks(tick_marks, classes)\n",
        "\n",
        "    fmt = '.2f' if normalize else 'd'\n",
        "    thresh = cm.max() / 2.\n",
        "    for i, j in itertools.product(range(cm.shape[0]), range(cm.shape[1])):\n",
        "        plt.text(j, i, format(cm[i, j], fmt),\n",
        "                 horizontalalignment=\"center\",\n",
        "                 color=\"white\" if cm[i, j] > thresh else \"black\")\n",
        "\n",
        "    plt.tight_layout()\n",
        "    plt.ylabel('True label')\n",
        "    plt.xlabel('Predicted label')"
      ]
    },
    {
      "cell_type": "markdown",
      "source": [
        "###SVC"
      ],
      "metadata": {
        "id": "JvhWCCPiJQJg"
      }
    },
    {
      "cell_type": "code",
      "execution_count": null,
      "metadata": {
        "id": "M1zq3mdBSpfw"
      },
      "outputs": [],
      "source": [
        "clf = SVC()\n",
        "clf.fit(X_train, y_train)\n",
        "preds = clf.predict(X_test)\n",
        "acc = accuracy_score(y_test, preds)\n",
        "conf_mat = confusion_matrix(y_test, preds)"
      ]
    },
    {
      "cell_type": "code",
      "execution_count": null,
      "metadata": {
        "colab": {
          "base_uri": "https://localhost:8080/",
          "height": 797
        },
        "id": "lhFM3BDPV9xe",
        "outputId": "e4a75d84-2fdb-430d-c717-7831fa99e30c"
      },
      "outputs": [
        {
          "output_type": "stream",
          "name": "stdout",
          "text": [
            "              precision    recall  f1-score   support\n",
            "\n",
            "           0       0.28      0.31      0.29        36\n",
            "           1       0.20      0.08      0.12        36\n",
            "           2       0.29      0.17      0.21        36\n",
            "           3       0.24      0.28      0.26        36\n",
            "           4       0.37      0.31      0.33        36\n",
            "           5       0.27      0.36      0.31        36\n",
            "           6       0.42      0.50      0.46        36\n",
            "           7       0.59      0.47      0.52        36\n",
            "           8       0.24      0.39      0.30        36\n",
            "           9       0.26      0.25      0.26        36\n",
            "\n",
            "    accuracy                           0.31       360\n",
            "   macro avg       0.31      0.31      0.31       360\n",
            "weighted avg       0.31      0.31      0.31       360\n",
            "\n",
            "Confusion matrix, without normalization\n",
            "[[11  0  0  2  0  0  5  1  5 12]\n",
            " [ 2  3  4  5  6  3  3  4  3  3]\n",
            " [ 2  5  6  8  4  1  1  1  3  5]\n",
            " [ 3  2  3 10  4  3  4  0  7  0]\n",
            " [ 0  1  6  7 11  0  6  1  1  3]\n",
            " [ 1  0  0  1  0 13  0  3 18  0]\n",
            " [ 3  2  1  3  3  2 18  1  2  1]\n",
            " [ 1  0  0  0  1 16  1 17  0  0]\n",
            " [ 4  1  0  3  0 11  1  1 14  1]\n",
            " [12  1  1  3  1  0  4  0  5  9]]\n"
          ]
        },
        {
          "output_type": "display_data",
          "data": {
            "text/plain": [
              "<Figure size 432x288 with 2 Axes>"
            ],
            "image/png": "[encoded data removed]"
          },
          "metadata": {
            "needs_background": "light"
          }
        }
      ],
      "source": [
        "np.set_printoptions(precision=2)\n",
        "\n",
        "print (classification_report(y_test, preds))\n",
        "\n",
        "# Plot non-normalized confusion matrix\n",
        "plt.figure()\n",
        "plot_confusion_matrix(conf_mat, classes=['0','1','2','3','4','5','6','7','8','9'],normalize= False,  title='Confusion matrix')"
      ]
    },
    {
      "cell_type": "markdown",
      "source": [
        "###Logistic Regression Grid Search"
      ],
      "metadata": {
        "id": "-pi0zf-gKWeU"
      }
    },
    {
      "cell_type": "code",
      "execution_count": null,
      "metadata": {
        "id": "eiWZa2psKHe3"
      },
      "outputs": [],
      "source": [
        "param_grid = {'penalty': ['l1','l2'], 'C': [0.001,0.01,0.1,1,10,100,1000]}\n",
        "logreg=LogisticRegression()\n",
        "model=GridSearchCV(logreg,param_grid)"
      ]
    },
    {
      "cell_type": "code",
      "source": [
        "model.fit(X_train, y_train)\n",
        "preds = model.predict(X_test)\n",
        "acc = accuracy_score(y_test, preds)\n",
        "conf_mat = confusion_matrix(y_test, preds)"
      ],
      "metadata": {
        "id": "vFvfgXOOKHe4"
      },
      "execution_count": null,
      "outputs": []
    },
    {
      "cell_type": "code",
      "source": [
        "np.set_printoptions(precision=2)\n",
        "\n",
        "print (classification_report(y_test, preds))\n",
        "\n",
        "# Plot non-normalized confusion matrix\n",
        "plt.figure()\n",
        "plot_confusion_matrix(conf_mat, classes=['0','1','2','3','4','5','6','7','8','9'],normalize= False,  title='Confusion matrix')"
      ],
      "metadata": {
        "colab": {
          "base_uri": "https://localhost:8080/",
          "height": 797
        },
        "outputId": "56eea4c3-84ee-4caf-8342-620f840de287",
        "id": "4CrvHCYvKHe5"
      },
      "execution_count": null,
      "outputs": [
        {
          "output_type": "stream",
          "name": "stdout",
          "text": [
            "              precision    recall  f1-score   support\n",
            "\n",
            "           0       0.38      0.31      0.34        36\n",
            "           1       0.25      0.14      0.18        36\n",
            "           2       0.17      0.11      0.14        36\n",
            "           3       0.25      0.31      0.28        36\n",
            "           4       0.42      0.28      0.33        36\n",
            "           5       0.30      0.39      0.34        36\n",
            "           6       0.41      0.53      0.46        36\n",
            "           7       0.51      0.56      0.53        36\n",
            "           8       0.33      0.53      0.41        36\n",
            "           9       0.32      0.28      0.30        36\n",
            "\n",
            "    accuracy                           0.34       360\n",
            "   macro avg       0.33      0.34      0.33       360\n",
            "weighted avg       0.33      0.34      0.33       360\n",
            "\n",
            "Confusion matrix, without normalization\n",
            "[[11  1  0  2  0  1  5  2  4 10]\n",
            " [ 1  5  5  3  6  4  4  3  4  1]\n",
            " [ 1  7  4 10  2  2  1  1  2  6]\n",
            " [ 3  1  4 11  3  4  4  1  5  0]\n",
            " [ 0  2  6  9 10  0  6  1  0  2]\n",
            " [ 1  0  0  0  0 14  1  6 14  0]\n",
            " [ 2  1  1  3  3  2 19  2  2  1]\n",
            " [ 0  0  0  0  0 13  2 20  1  0]\n",
            " [ 2  2  0  2  0  7  1  2 19  1]\n",
            " [ 8  1  3  4  0  0  3  1  6 10]]\n"
          ]
        },
        {
          "output_type": "display_data",
          "data": {
            "text/plain": [
              "<Figure size 432x288 with 2 Axes>"
            ],
            "image/png": "[encoded data removed]"
          },
          "metadata": {
            "needs_background": "light"
          }
        }
      ]
    },
    {
      "cell_type": "markdown",
      "source": [
        "###Random Forest"
      ],
      "metadata": {
        "id": "v1w979-6LSwy"
      }
    },
    {
      "cell_type": "code",
      "source": [
        "model = RandomForestClassifier(50, max_depth=15, max_features=15)\n",
        "model.fit(X_train, y_train)\n",
        "preds = model.predict(X_test)\n",
        "acc = accuracy_score(y_test, preds)\n",
        "conf_mat = confusion_matrix(y_test, preds)"
      ],
      "metadata": {
        "id": "5K9GAzZ7LSwz"
      },
      "execution_count": null,
      "outputs": []
    },
    {
      "cell_type": "code",
      "source": [
        "np.set_printoptions(precision=2)\n",
        "\n",
        "print (classification_report(y_test, preds))\n",
        "\n",
        "# Plot non-normalized confusion matrix\n",
        "plt.figure()\n",
        "plot_confusion_matrix(conf_mat, classes=['0','1','2','3','4','5','6','7','8','9'],normalize= False,  title='Confusion matrix')"
      ],
      "metadata": {
        "colab": {
          "base_uri": "https://localhost:8080/",
          "height": 797
        },
        "outputId": "eda6532b-268f-4d72-c45f-f1b6d22c7b4d",
        "id": "wzEUanL7LSw0"
      },
      "execution_count": null,
      "outputs": [
        {
          "output_type": "stream",
          "name": "stdout",
          "text": [
            "              precision    recall  f1-score   support\n",
            "\n",
            "           0       0.42      0.39      0.41        36\n",
            "           1       0.17      0.06      0.08        36\n",
            "           2       0.30      0.17      0.21        36\n",
            "           3       0.22      0.33      0.26        36\n",
            "           4       0.38      0.25      0.30        36\n",
            "           5       0.29      0.50      0.37        36\n",
            "           6       0.23      0.28      0.25        36\n",
            "           7       0.48      0.36      0.41        36\n",
            "           8       0.25      0.36      0.30        36\n",
            "           9       0.30      0.28      0.29        36\n",
            "\n",
            "    accuracy                           0.30       360\n",
            "   macro avg       0.30      0.30      0.29       360\n",
            "weighted avg       0.30      0.30      0.29       360\n",
            "\n",
            "Confusion matrix, without normalization\n",
            "[[14  0  0  2  0  4  5  1  4  6]\n",
            " [ 3  2  4  1  3  4  5  5  5  4]\n",
            " [ 3  2  6 10  5  3  3  0  2  2]\n",
            " [ 0  2  3 12  1  2  8  1  5  2]\n",
            " [ 0  1  5 11  9  0  6  0  0  4]\n",
            " [ 0  0  0  1  0 18  0  2 15  0]\n",
            " [ 3  4  0  6  4  3 10  1  2  3]\n",
            " [ 0  1  1  0  1 13  3 13  3  1]\n",
            " [ 4  0  0  4  0 12  1  1 13  1]\n",
            " [ 6  0  1  8  1  3  2  3  2 10]]\n"
          ]
        },
        {
          "output_type": "display_data",
          "data": {
            "text/plain": [
              "<Figure size 432x288 with 2 Axes>"
            ],
            "image/png": "[encoded data removed]"
          },
          "metadata": {
            "needs_background": "light"
          }
        }
      ]
    },
    {
      "cell_type": "markdown",
      "source": [
        "###XGBoost Grid Search"
      ],
      "metadata": {
        "id": "XlB49C_3JY1s"
      }
    },
    {
      "cell_type": "code",
      "source": [
        "xgbc = XGBClassifier(objective='multiclass:softmax', learning_rate = 0.1,\n",
        "              max_depth = 1, n_estimators = 330)\n",
        "param_grid={'learning_rate':[0.1,0.2,0.3,0.4,0.5,0.6]}\n",
        "\n",
        "xgbc_g=GridSearchCV(xgbc,param_grid)\n",
        "xgbc_g.fit(X_train, y_train)\n",
        "preds_xgbc_g = xgbc_g.predict(X_test)"
      ],
      "metadata": {
        "id": "Q61KkCQz-CGD"
      },
      "execution_count": null,
      "outputs": []
    },
    {
      "cell_type": "code",
      "source": [
        "np.set_printoptions(precision=2)\n",
        "\n",
        "print (classification_report(y_test, preds_xgbc_g))\n",
        "\n",
        "# Plot non-normalized confusion matrix\n",
        "plt.figure()\n",
        "plot_confusion_matrix(conf_mat, classes=['0','1','2','3','4','5','6','7','8','9'],normalize= False,  title='Confusion matrix')"
      ],
      "metadata": {
        "colab": {
          "base_uri": "https://localhost:8080/",
          "height": 797
        },
        "id": "fqzfgqyN-V-7",
        "outputId": "d9414420-f71a-437a-86de-4c642cd44547"
      },
      "execution_count": null,
      "outputs": [
        {
          "output_type": "stream",
          "name": "stdout",
          "text": [
            "              precision    recall  f1-score   support\n",
            "\n",
            "           0       0.37      0.36      0.37        36\n",
            "           1       0.14      0.08      0.10        36\n",
            "           2       0.20      0.14      0.16        36\n",
            "           3       0.28      0.31      0.29        36\n",
            "           4       0.30      0.22      0.25        36\n",
            "           5       0.33      0.36      0.34        36\n",
            "           6       0.33      0.42      0.37        36\n",
            "           7       0.51      0.50      0.51        36\n",
            "           8       0.29      0.50      0.37        36\n",
            "           9       0.40      0.33      0.36        36\n",
            "\n",
            "    accuracy                           0.32       360\n",
            "   macro avg       0.31      0.32      0.31       360\n",
            "weighted avg       0.31      0.32      0.31       360\n",
            "\n",
            "Confusion matrix, without normalization\n",
            "[[14  0  0  2  0  4  5  1  4  6]\n",
            " [ 3  2  4  1  3  4  5  5  5  4]\n",
            " [ 3  2  6 10  5  3  3  0  2  2]\n",
            " [ 0  2  3 12  1  2  8  1  5  2]\n",
            " [ 0  1  5 11  9  0  6  0  0  4]\n",
            " [ 0  0  0  1  0 18  0  2 15  0]\n",
            " [ 3  4  0  6  4  3 10  1  2  3]\n",
            " [ 0  1  1  0  1 13  3 13  3  1]\n",
            " [ 4  0  0  4  0 12  1  1 13  1]\n",
            " [ 6  0  1  8  1  3  2  3  2 10]]\n"
          ]
        },
        {
          "output_type": "display_data",
          "data": {
            "text/plain": [
              "<Figure size 432x288 with 2 Axes>"
            ],
            "image/png": "[encoded data removed]"
          },
          "metadata": {
            "needs_background": "light"
          }
        }
      ]
    },
    {
      "cell_type": "markdown",
      "source": [
        "#SIFT Tanpa Augmentasi"
      ],
      "metadata": {
        "id": "4eOGBmzsaUQR"
      }
    },
    {
      "cell_type": "markdown",
      "source": [
        "##Train Data"
      ],
      "metadata": {
        "id": "-fQdkIwfaUQR"
      }
    },
    {
      "cell_type": "code",
      "source": [
        "dir = \"/content/drive/MyDrive/Kelompok Visi Komputer/dataset/data train/\"\n",
        "folders = ['American craftsman style', 'Art Deco architecture', 'Art Nouveau architecture', 'Baroque architecture',\n",
        "               'Beaux-Arts architecture', 'Deconstructivism', 'Greek Revival architecture', 'International style',\n",
        "               'Novelty architecture', 'Queen Anne architecture']\n",
        "IMAGE_SIZE = (150, 150)\n",
        "features = []\n",
        "labels = []\n",
        "i = 0\n",
        "counter = 0\n",
        "for folder in folders:\n",
        "  folder_dir = dir + folder\n",
        "  images = Path(folder_dir).glob('*.jpg')\n",
        "  for image in images:\n",
        "    if counter < 86:\n",
        "      image_pp = cv2.imread(str(image))\n",
        "      image_pp = cv2.resize(image_pp, IMAGE_SIZE)\n",
        "      image_pp = image_pp / 255.0\n",
        "      image_pp = cv2.normalize(image_pp, None, 0, 255, cv2.NORM_MINMAX).astype('uint8')\n",
        "      features.append(getDes(image_pp, 'SIFT'))\n",
        "      labels.append(i)\n",
        "    counter = counter + 1\n",
        "  i = i + 1\n",
        "  counter = 0\n",
        "features = np.vstack(features)"
      ],
      "metadata": {
        "id": "pfgIucqBaUQR"
      },
      "execution_count": null,
      "outputs": []
    },
    {
      "cell_type": "code",
      "execution_count": null,
      "metadata": {
        "id": "WWeMJ_gVaUQR"
      },
      "outputs": [],
      "source": [
        "k = 150\n",
        "criteria = (cv2.TERM_CRITERIA_EPS + cv2.TERM_CRITERIA_MAX_ITER, 10, 0.1)\n",
        "flags = cv2.KMEANS_RANDOM_CENTERS\n",
        "compactness, labels2, centres = cv2.kmeans(features, k, None, criteria, 10, flags)"
      ]
    },
    {
      "cell_type": "code",
      "execution_count": null,
      "metadata": {
        "id": "pwkqzn0naUQS"
      },
      "outputs": [],
      "source": [
        "dir = \"/content/drive/MyDrive/Kelompok Visi Komputer/dataset/data train/\"\n",
        "folders = ['American craftsman style', 'Art Deco architecture', 'Art Nouveau architecture', 'Baroque architecture',\n",
        "               'Beaux-Arts architecture', 'Deconstructivism', 'Greek Revival architecture', 'International style',\n",
        "               'Novelty architecture', 'Queen Anne architecture']\n",
        "vec = []\n",
        "i = 0\n",
        "counter = 0\n",
        "for folder in folders:\n",
        "  folder_dir = dir + folder\n",
        "  images = Path(folder_dir).glob('*.jpg')\n",
        "  for image in images:\n",
        "    if counter < 86:\n",
        "      image_pp = cv2.imread(str(image))\n",
        "      image_pp = cv2.resize(image_pp, IMAGE_SIZE)\n",
        "      image_pp = image_pp / 255.0\n",
        "      image_pp = cv2.normalize(image_pp, None, 0, 255, cv2.NORM_MINMAX).astype('uint8')\n",
        "      img_des = getDes(image_pp, 'SIFT')\n",
        "      if img_des is not None:\n",
        "        img_vec = bag_of_features(img_des, centres, k)\n",
        "        vec.append(img_vec)\n",
        "    counter = counter + 1\n",
        "  i = i + 1\n",
        "  counter = 0\n",
        "vec = np.vstack(vec)\n",
        ""
      ]
    },
    {
      "cell_type": "code",
      "source": [
        "X_train = vec\n",
        "y_train = labels"
      ],
      "metadata": {
        "id": "NrCkQhOGaUQS"
      },
      "execution_count": null,
      "outputs": []
    },
    {
      "cell_type": "markdown",
      "source": [
        "##Test Data"
      ],
      "metadata": {
        "id": "ljXrwlPiaUQS"
      }
    },
    {
      "cell_type": "code",
      "execution_count": null,
      "metadata": {
        "id": "J-SFeI8yaUQS"
      },
      "outputs": [],
      "source": [
        "dir = \"/content/drive/MyDrive/Kelompok Visi Komputer/dataset/data test/\"\n",
        "folders = ['American craftsman style', 'Art Deco architecture', 'Art Nouveau architecture', 'Baroque architecture',\n",
        "               'Beaux-Arts architecture', 'Deconstructivism', 'Greek Revival architecture', 'International style',\n",
        "               'Novelty architecture', 'Queen Anne architecture']\n",
        "vec = []\n",
        "labels = []\n",
        "i = 0\n",
        "counter = 0\n",
        "for folder in folders:\n",
        "  folder_dir = dir + folder\n",
        "  images = Path(folder_dir).glob('*.jpg')\n",
        "  for image in images:\n",
        "    if counter < 36:\n",
        "      image_pp = cv2.imread(str(image))\n",
        "      image_pp = cv2.cvtColor(image_pp, cv2.COLOR_BGR2RGB)\n",
        "      image_pp = cv2.resize(image_pp, IMAGE_SIZE)\n",
        "      image_pp = image_pp / 255.0\n",
        "      image_pp = cv2.normalize(image_pp, None, 0, 255, cv2.NORM_MINMAX).astype('uint8')\n",
        "      img_des = getDes(image_pp, 'SIFT')\n",
        "      if img_des is not None:\n",
        "        img_vec = bag_of_features(img_des, centres, k)\n",
        "        vec.append(img_vec)\n",
        "      labels.append(i)\n",
        "    counter = counter + 1\n",
        "  i = i + 1\n",
        "  counter = 0\n",
        "vec = np.vstack(vec)\n",
        ""
      ]
    },
    {
      "cell_type": "code",
      "source": [
        "X_test = vec\n",
        "y_test = labels"
      ],
      "metadata": {
        "id": "JHm2boW4aUQS"
      },
      "execution_count": null,
      "outputs": []
    },
    {
      "cell_type": "markdown",
      "source": [
        "##Training Model dan Evaluasi"
      ],
      "metadata": {
        "id": "CnuAOwQDaUQS"
      }
    },
    {
      "cell_type": "markdown",
      "source": [
        "###SVC"
      ],
      "metadata": {
        "id": "aVQiu-LcaUQS"
      }
    },
    {
      "cell_type": "code",
      "execution_count": null,
      "metadata": {
        "id": "ZSbiXkVtaUQS"
      },
      "outputs": [],
      "source": [
        "clf = SVC()\n",
        "clf.fit(X_train, y_train)\n",
        "preds = clf.predict(X_test)\n",
        "acc = accuracy_score(y_test, preds)\n",
        "conf_mat = confusion_matrix(y_test, preds)"
      ]
    },
    {
      "cell_type": "code",
      "execution_count": null,
      "metadata": {
        "colab": {
          "base_uri": "https://localhost:8080/",
          "height": 797
        },
        "outputId": "a76d77ab-b79c-471b-f188-1d760d0c38fe",
        "id": "xWsbNaWzaUQS"
      },
      "outputs": [
        {
          "output_type": "stream",
          "name": "stdout",
          "text": [
            "              precision    recall  f1-score   support\n",
            "\n",
            "           0       0.30      0.42      0.35        36\n",
            "           1       0.17      0.08      0.11        36\n",
            "           2       0.23      0.17      0.19        36\n",
            "           3       0.35      0.33      0.34        36\n",
            "           4       0.37      0.28      0.32        36\n",
            "           5       0.32      0.50      0.39        36\n",
            "           6       0.44      0.42      0.43        36\n",
            "           7       0.62      0.50      0.55        36\n",
            "           8       0.33      0.47      0.39        36\n",
            "           9       0.41      0.39      0.40        36\n",
            "\n",
            "    accuracy                           0.36       360\n",
            "   macro avg       0.35      0.36      0.35       360\n",
            "weighted avg       0.35      0.36      0.35       360\n",
            "\n",
            "Confusion matrix, without normalization\n",
            "[[15  1  0  1  1  1  5  0  7  5]\n",
            " [ 4  3  6  4  3  2  3  4  5  2]\n",
            " [ 2  9  6  5  4  1  0  0  2  7]\n",
            " [ 4  0  2 12  3  6  4  1  3  1]\n",
            " [ 2  1 10  5 10  0  4  2  0  2]\n",
            " [ 2  0  0  0  2 18  1  3 10  0]\n",
            " [ 4  4  0  2  3  3 15  1  3  1]\n",
            " [ 1  0  0  0  0 16  1 18  0  0]\n",
            " [ 6  0  0  2  0  8  1  0 17  2]\n",
            " [10  0  2  3  1  1  0  0  5 14]]\n"
          ]
        },
        {
          "output_type": "display_data",
          "data": {
            "text/plain": [
              "<Figure size 432x288 with 2 Axes>"
            ],
            "image/png": "[encoded data removed]"
          },
          "metadata": {
            "needs_background": "light"
          }
        }
      ],
      "source": [
        "np.set_printoptions(precision=2)\n",
        "\n",
        "print (classification_report(y_test, preds))\n",
        "\n",
        "# Plot non-normalized confusion matrix\n",
        "plt.figure()\n",
        "plot_confusion_matrix(conf_mat, classes=['0','1','2','3','4','5','6','7','8','9'],normalize= False,  title='Confusion matrix')"
      ]
    },
    {
      "cell_type": "markdown",
      "source": [
        "###Logistic Regression Grid Search"
      ],
      "metadata": {
        "id": "8K8JZLUXaUQT"
      }
    },
    {
      "cell_type": "code",
      "execution_count": null,
      "metadata": {
        "id": "3oL6xKFCaUQT"
      },
      "outputs": [],
      "source": [
        "param_grid = {'penalty': ['l1','l2'], 'C': [0.001,0.01,0.1,1,10,100,1000]}\n",
        "logreg=LogisticRegression()\n",
        "model=GridSearchCV(logreg,param_grid)"
      ]
    },
    {
      "cell_type": "code",
      "source": [
        "model.fit(X_train, y_train)\n",
        "preds = model.predict(X_test)\n",
        "acc = accuracy_score(y_test, preds)\n",
        "conf_mat = confusion_matrix(y_test, preds)"
      ],
      "metadata": {
        "id": "-A4VNLN0aUQT"
      },
      "execution_count": null,
      "outputs": []
    },
    {
      "cell_type": "code",
      "source": [
        "np.set_printoptions(precision=2)\n",
        "\n",
        "print (classification_report(y_test, preds))\n",
        "\n",
        "# Plot non-normalized confusion matrix\n",
        "plt.figure()\n",
        "plot_confusion_matrix(conf_mat, classes=['0','1','2','3','4','5','6','7','8','9'],normalize= False,  title='Confusion matrix')"
      ],
      "metadata": {
        "colab": {
          "base_uri": "https://localhost:8080/",
          "height": 797
        },
        "outputId": "888fcdb4-7d71-4ce3-a7f6-794017175303",
        "id": "OEAkYQb0aUQT"
      },
      "execution_count": null,
      "outputs": [
        {
          "output_type": "stream",
          "name": "stdout",
          "text": [
            "              precision    recall  f1-score   support\n",
            "\n",
            "           0       0.34      0.42      0.37        36\n",
            "           1       0.23      0.14      0.17        36\n",
            "           2       0.23      0.19      0.21        36\n",
            "           3       0.32      0.28      0.30        36\n",
            "           4       0.20      0.17      0.18        36\n",
            "           5       0.27      0.42      0.33        36\n",
            "           6       0.30      0.25      0.27        36\n",
            "           7       0.54      0.53      0.54        36\n",
            "           8       0.25      0.39      0.30        36\n",
            "           9       0.36      0.25      0.30        36\n",
            "\n",
            "    accuracy                           0.30       360\n",
            "   macro avg       0.30      0.30      0.30       360\n",
            "weighted avg       0.30      0.30      0.30       360\n",
            "\n",
            "Confusion matrix, without normalization\n",
            "[[15  0  0  1  1  0  8  0  6  5]\n",
            " [ 1  5  8  2  6  3  2  4  4  1]\n",
            " [ 1  8  7  3  4  2  2  1  2  6]\n",
            " [ 4  1  6 10  3  3  2  2  5  0]\n",
            " [ 2  4  8  8  6  1  3  3  0  1]\n",
            " [ 2  0  0  0  1 15  0  4 13  1]\n",
            " [ 4  2  1  2  7  5  9  0  5  1]\n",
            " [ 1  0  0  0  1 15  0 19  0  0]\n",
            " [ 5  0  0  2  0  9  3  2 14  1]\n",
            " [ 9  2  1  3  1  3  1  0  7  9]]\n"
          ]
        },
        {
          "output_type": "display_data",
          "data": {
            "text/plain": [
              "<Figure size 432x288 with 2 Axes>"
            ],
            "image/png": "[encoded data removed]"
          },
          "metadata": {
            "needs_background": "light"
          }
        }
      ]
    },
    {
      "cell_type": "markdown",
      "source": [
        "###Random Forest"
      ],
      "metadata": {
        "id": "8QeEWh1_aUQT"
      }
    },
    {
      "cell_type": "code",
      "source": [
        "model = RandomForestClassifier(50, max_depth=15, max_features=15)\n",
        "model.fit(X_train, y_train)\n",
        "preds = model.predict(X_test)\n",
        "acc = accuracy_score(y_test, preds)\n",
        "conf_mat = confusion_matrix(y_test, preds)"
      ],
      "metadata": {
        "id": "BV3AKdzMaUQT"
      },
      "execution_count": null,
      "outputs": []
    },
    {
      "cell_type": "code",
      "source": [
        "np.set_printoptions(precision=2)\n",
        "\n",
        "print (classification_report(y_test, preds))\n",
        "\n",
        "# Plot non-normalized confusion matrix\n",
        "plt.figure()\n",
        "plot_confusion_matrix(conf_mat, classes=['0','1','2','3','4','5','6','7','8','9'],normalize= False,  title='Confusion matrix')"
      ],
      "metadata": {
        "colab": {
          "base_uri": "https://localhost:8080/",
          "height": 797
        },
        "outputId": "ba2fe0ae-b3e4-47e7-dcf8-7793efe77ec0",
        "id": "5bvuBeF2aUQU"
      },
      "execution_count": null,
      "outputs": [
        {
          "output_type": "stream",
          "name": "stdout",
          "text": [
            "              precision    recall  f1-score   support\n",
            "\n",
            "           0       0.38      0.36      0.37        36\n",
            "           1       0.27      0.19      0.23        36\n",
            "           2       0.26      0.19      0.22        36\n",
            "           3       0.23      0.22      0.23        36\n",
            "           4       0.08      0.06      0.06        36\n",
            "           5       0.36      0.58      0.44        36\n",
            "           6       0.23      0.28      0.25        36\n",
            "           7       0.46      0.33      0.39        36\n",
            "           8       0.20      0.28      0.24        36\n",
            "           9       0.17      0.17      0.17        36\n",
            "\n",
            "    accuracy                           0.27       360\n",
            "   macro avg       0.26      0.27      0.26       360\n",
            "weighted avg       0.26      0.27      0.26       360\n",
            "\n",
            "Confusion matrix, without normalization\n",
            "[[13  1  0  0  0  1  5  1  5 10]\n",
            " [ 0  7  3  5  6  1  5  3  5  1]\n",
            " [ 3  6  7  5  3  1  3  0  3  5]\n",
            " [ 1  0  3  8  6  6  7  1  4  0]\n",
            " [ 0  6  9  9  2  0  5  1  0  4]\n",
            " [ 1  0  0  2  0 21  1  3  8  0]\n",
            " [ 1  3  2  1  4  2 10  3  5  5]\n",
            " [ 0  2  1  0  4 11  3 12  2  1]\n",
            " [ 4  1  1  3  0 13  1  0 10  3]\n",
            " [11  0  1  2  1  3  3  2  7  6]]\n"
          ]
        },
        {
          "output_type": "display_data",
          "data": {
            "text/plain": [
              "<Figure size 432x288 with 2 Axes>"
            ],
            "image/png": "[encoded data removed]"
          },
          "metadata": {
            "needs_background": "light"
          }
        }
      ]
    },
    {
      "cell_type": "markdown",
      "source": [
        "###XGBoost Grid Search"
      ],
      "metadata": {
        "id": "rAd5wRLkaUQU"
      }
    },
    {
      "cell_type": "code",
      "source": [
        "xgbc = XGBClassifier(objective='multiclass:softmax', learning_rate = 0.1,\n",
        "              max_depth = 1, n_estimators = 330)\n",
        "param_grid={'learning_rate':[0.1,0.2,0.3,0.4,0.5,0.6]}\n",
        "\n",
        "xgbc_g=GridSearchCV(xgbc,param_grid)\n",
        "xgbc_g.fit(X_train, y_train)\n",
        "preds_xgbc_g = xgbc_g.predict(X_test)"
      ],
      "metadata": {
        "id": "QLAS-jKCaUQU"
      },
      "execution_count": null,
      "outputs": []
    },
    {
      "cell_type": "code",
      "source": [
        "np.set_printoptions(precision=2)\n",
        "\n",
        "print (classification_report(y_test, preds_xgbc_g))\n",
        "\n",
        "# Plot non-normalized confusion matrix\n",
        "plt.figure()\n",
        "plot_confusion_matrix(conf_mat, classes=['0','1','2','3','4','5','6','7','8','9'],normalize= False,  title='Confusion matrix')"
      ],
      "metadata": {
        "colab": {
          "base_uri": "https://localhost:8080/"
        },
        "outputId": "a24237a6-779b-42c7-b10d-74b9597aee43",
        "id": "RaVXHl3OaUQU"
      },
      "execution_count": null,
      "outputs": [
        {
          "output_type": "stream",
          "name": "stdout",
          "text": [
            "              precision    recall  f1-score   support\n",
            "\n",
            "           0       0.41      0.42      0.41        36\n",
            "           1       0.15      0.11      0.13        36\n",
            "           2       0.12      0.08      0.10        36\n",
            "           3       0.29      0.28      0.29        36\n",
            "           4       0.24      0.25      0.24        36\n",
            "           5       0.28      0.44      0.34        36\n",
            "           6       0.33      0.31      0.32        36\n",
            "           7       0.56      0.56      0.56        36\n",
            "           8       0.24      0.31      0.27        36\n",
            "           9       0.36      0.28      0.31        36\n",
            "\n",
            "    accuracy                           0.30       360\n",
            "   macro avg       0.30      0.30      0.30       360\n",
            "weighted avg       0.30      0.30      0.30       360\n",
            "\n",
            "Confusion matrix, without normalization\n",
            "[[13  1  0  0  0  1  5  1  5 10]\n",
            " [ 0  7  3  5  6  1  5  3  5  1]\n",
            " [ 3  6  7  5  3  1  3  0  3  5]\n",
            " [ 1  0  3  8  6  6  7  1  4  0]\n",
            " [ 0  6  9  9  2  0  5  1  0  4]\n",
            " [ 1  0  0  2  0 21  1  3  8  0]\n",
            " [ 1  3  2  1  4  2 10  3  5  5]\n",
            " [ 0  2  1  0  4 11  3 12  2  1]\n",
            " [ 4  1  1  3  0 13  1  0 10  3]\n",
            " [11  0  1  2  1  3  3  2  7  6]]\n"
          ]
        },
        {
          "output_type": "display_data",
          "data": {
            "text/plain": [
              "<Figure size 432x288 with 2 Axes>"
            ],
            "image/png": "[encoded data removed]"
          },
          "metadata": {
            "needs_background": "light"
          }
        }
      ]
    },
    {
      "cell_type": "markdown",
      "source": [
        "#BRISK Dengan Augmentasi"
      ],
      "metadata": {
        "id": "qB70rvzKbD1E"
      }
    },
    {
      "cell_type": "markdown",
      "source": [
        "##Train Data"
      ],
      "metadata": {
        "id": "B7m-UdiPbD1F"
      }
    },
    {
      "cell_type": "code",
      "source": [
        "dir = \"/content/drive/MyDrive/Kelompok Visi Komputer/dataset/data train/\"\n",
        "folders = ['American craftsman style', 'Art Deco architecture', 'Art Nouveau architecture', 'Baroque architecture',\n",
        "               'Beaux-Arts architecture', 'Deconstructivism', 'Greek Revival architecture', 'International style',\n",
        "               'Novelty architecture', 'Queen Anne architecture']\n",
        "IMAGE_SIZE = (150, 150)\n",
        "features = []\n",
        "labels = []\n",
        "i = 0\n",
        "counter = 0\n",
        "for folder in folders:\n",
        "  folder_dir = dir + folder\n",
        "  images = Path(folder_dir).glob('*.jpg')\n",
        "  for image in images:\n",
        "    if counter < 86:\n",
        "      image_pp = cv2.imread(str(image))\n",
        "      image_pp = cv2.resize(image_pp, IMAGE_SIZE)\n",
        "      image_pp = image_pp / 255.0\n",
        "      image_pp = cv2.normalize(image_pp, None, 0, 255, cv2.NORM_MINMAX).astype('uint8')\n",
        "      features.append(np.float32(getDes(image_pp, 'BRISK')))\n",
        "      labels.append(i)\n",
        "      img = image_pp\n",
        "      # Horizontal flip\n",
        "      img_flip = cv2.flip(img, 1)\n",
        "      features.append(np.float32(getDes(img_flip, 'BRISK')))\n",
        "      labels.append(i)\n",
        "      # Rotation\n",
        "      angle = 45\n",
        "      h, w = img.shape[:2]\n",
        "      M = cv2.getRotationMatrix2D((int(w/2), int(h/2)), angle, 1)\n",
        "      img_rotate = cv2.warpAffine(img, M, (w, h))\n",
        "      features.append(np.float32(getDes(img_rotate, 'BRISK')))\n",
        "      labels.append(i)\n",
        "      # Zoom\n",
        "      value = random.uniform(0.6, 1)\n",
        "      h, w = img.shape[:2]\n",
        "      h_taken = int(value*h)\n",
        "      w_taken = int(value*w)\n",
        "      h_start = random.randint(0, h-h_taken)\n",
        "      w_start = random.randint(0, w-w_taken)\n",
        "      img_con = img[h_start:h_start+h_taken, w_start:w_start+w_taken, :]\n",
        "      img_zoom = fill(img_con, h, w)\n",
        "      features.append(np.float32(getDes(img_zoom, 'BRISK')))\n",
        "      labels.append(i)\n",
        "      # Brighness\n",
        "      value = random.uniform(0.5, 1.4)\n",
        "      hsv = cv2.cvtColor(img, cv2.COLOR_BGR2HSV)\n",
        "      hsv = np.array(hsv, dtype = np.float64)\n",
        "      hsv[:,:,1] = hsv[:,:,1]*value\n",
        "      hsv[:,:,1][hsv[:,:,1]>255]  = 255\n",
        "      hsv[:,:,2] = hsv[:,:,2]*value\n",
        "      hsv[:,:,2][hsv[:,:,2]>255]  = 255\n",
        "      hsv = np.array(hsv, dtype = np.uint8)\n",
        "      img_bright = cv2.cvtColor(hsv, cv2.COLOR_HSV2BGR)\n",
        "      features.append(np.float32(getDes(img_bright, 'BRISK')))\n",
        "      labels.append(i)\n",
        "    counter = counter + 1\n",
        "  i = i + 1\n",
        "  counter = 0\n",
        "features = np.vstack(features)"
      ],
      "metadata": {
        "id": "fhYywW9SbD1F"
      },
      "execution_count": null,
      "outputs": []
    },
    {
      "cell_type": "code",
      "execution_count": null,
      "metadata": {
        "id": "hPani3R4bD1F"
      },
      "outputs": [],
      "source": [
        "k = 150\n",
        "criteria = (cv2.TERM_CRITERIA_EPS + cv2.TERM_CRITERIA_MAX_ITER, 10, 0.1)\n",
        "flags = cv2.KMEANS_RANDOM_CENTERS\n",
        "compactness, labels2, centres = cv2.kmeans(features, k, None, criteria, 10, flags)"
      ]
    },
    {
      "cell_type": "code",
      "execution_count": null,
      "metadata": {
        "id": "QL0olM9TbD1F"
      },
      "outputs": [],
      "source": [
        "dir = \"/content/drive/MyDrive/Kelompok Visi Komputer/dataset/data train/\"\n",
        "folders = ['American craftsman style', 'Art Deco architecture', 'Art Nouveau architecture', 'Baroque architecture',\n",
        "               'Beaux-Arts architecture', 'Deconstructivism', 'Greek Revival architecture', 'International style',\n",
        "               'Novelty architecture', 'Queen Anne architecture']\n",
        "vec = []\n",
        "i = 0\n",
        "counter = 0\n",
        "for folder in folders:\n",
        "  folder_dir = dir + folder\n",
        "  images = Path(folder_dir).glob('*.jpg')\n",
        "  for image in images:\n",
        "    if counter < 86:\n",
        "      image_pp = cv2.imread(str(image))\n",
        "      image_pp = cv2.resize(image_pp, IMAGE_SIZE)\n",
        "      image_pp = image_pp / 255.0\n",
        "      image_pp = cv2.normalize(image_pp, None, 0, 255, cv2.NORM_MINMAX).astype('uint8')\n",
        "      img_des = getDes(image_pp, 'BRISK')\n",
        "      if img_des is not None:\n",
        "        img_vec = bag_of_features(img_des, centres, k)\n",
        "        vec.append(img_vec)\n",
        "      img = image_pp\n",
        "      # Horizontal flip\n",
        "      img_flip = cv2.flip(img, 1)\n",
        "      img_des = getDes(img_flip, 'BRISK')\n",
        "      if img_des is not None:\n",
        "        img_vec = bag_of_features(img_des, centres, k)\n",
        "        vec.append(img_vec)\n",
        "      # Rotation\n",
        "      angle = 45\n",
        "      h, w = img.shape[:2]\n",
        "      M = cv2.getRotationMatrix2D((int(w/2), int(h/2)), angle, 1)\n",
        "      img_rotate = cv2.warpAffine(img, M, (w, h))\n",
        "      img_des = getDes(img_rotate, 'BRISK')\n",
        "      if img_des is not None:\n",
        "        img_vec = bag_of_features(img_des, centres, k)\n",
        "        vec.append(img_vec)\n",
        "      # Zoom\n",
        "      value = random.uniform(0.6, 1)\n",
        "      h, w = img.shape[:2]\n",
        "      h_taken = int(value*h)\n",
        "      w_taken = int(value*w)\n",
        "      h_start = random.randint(0, h-h_taken)\n",
        "      w_start = random.randint(0, w-w_taken)\n",
        "      img_con = img[h_start:h_start+h_taken, w_start:w_start+w_taken, :]\n",
        "      img_zoom = fill(img_con, h, w)\n",
        "      img_des = getDes(img_zoom, 'BRISK')\n",
        "      if img_des is not None:\n",
        "        img_vec = bag_of_features(img_des, centres, k)\n",
        "        vec.append(img_vec)\n",
        "      # Brighness\n",
        "      value = random.uniform(0.5, 1.4)\n",
        "      hsv = cv2.cvtColor(img, cv2.COLOR_BGR2HSV)\n",
        "      hsv = np.array(hsv, dtype = np.float64)\n",
        "      hsv[:,:,1] = hsv[:,:,1]*value\n",
        "      hsv[:,:,1][hsv[:,:,1]>255]  = 255\n",
        "      hsv[:,:,2] = hsv[:,:,2]*value\n",
        "      hsv[:,:,2][hsv[:,:,2]>255]  = 255\n",
        "      hsv = np.array(hsv, dtype = np.uint8)\n",
        "      img_bright = cv2.cvtColor(hsv, cv2.COLOR_HSV2BGR)\n",
        "      img_des = getDes(img_bright, 'BRISK')\n",
        "      if img_des is not None:\n",
        "        img_vec = bag_of_features(img_des, centres, k)\n",
        "        vec.append(img_vec)\n",
        "    counter = counter + 1\n",
        "  i = i + 1\n",
        "  counter = 0\n",
        "vec = np.vstack(vec)\n",
        ""
      ]
    },
    {
      "cell_type": "code",
      "source": [
        "X_train = vec\n",
        "y_train = labels"
      ],
      "metadata": {
        "id": "BQDC3PEZbD1G"
      },
      "execution_count": null,
      "outputs": []
    },
    {
      "cell_type": "markdown",
      "source": [
        "##Test Data"
      ],
      "metadata": {
        "id": "SOUHr8LQbD1G"
      }
    },
    {
      "cell_type": "code",
      "execution_count": null,
      "metadata": {
        "id": "4axIlQKcbD1G"
      },
      "outputs": [],
      "source": [
        "dir = \"/content/drive/MyDrive/Kelompok Visi Komputer/dataset/data test/\"\n",
        "folders = ['American craftsman style', 'Art Deco architecture', 'Art Nouveau architecture', 'Baroque architecture',\n",
        "               'Beaux-Arts architecture', 'Deconstructivism', 'Greek Revival architecture', 'International style',\n",
        "               'Novelty architecture', 'Queen Anne architecture']\n",
        "vec = []\n",
        "labels = []\n",
        "i = 0\n",
        "counter = 0\n",
        "for folder in folders:\n",
        "  folder_dir = dir + folder\n",
        "  images = Path(folder_dir).glob('*.jpg')\n",
        "  for image in images:\n",
        "    if counter < 36:\n",
        "      image_pp = cv2.imread(str(image))\n",
        "      image_pp = cv2.cvtColor(image_pp, cv2.COLOR_BGR2RGB)\n",
        "      image_pp = cv2.resize(image_pp, IMAGE_SIZE)\n",
        "      image_pp = image_pp / 255.0\n",
        "      image_pp = cv2.normalize(image_pp, None, 0, 255, cv2.NORM_MINMAX).astype('uint8')\n",
        "      img_des = getDes(image_pp, 'BRISK')\n",
        "      if img_des is not None:\n",
        "        img_vec = bag_of_features(img_des, centres, k)\n",
        "        vec.append(img_vec)\n",
        "      labels.append(i)\n",
        "    counter = counter + 1\n",
        "  i = i + 1\n",
        "  counter = 0\n",
        "vec = np.vstack(vec)\n",
        ""
      ]
    },
    {
      "cell_type": "code",
      "source": [
        "X_test = vec\n",
        "y_test = labels"
      ],
      "metadata": {
        "id": "R_KrPQawbD1G"
      },
      "execution_count": null,
      "outputs": []
    },
    {
      "cell_type": "markdown",
      "source": [
        "##Training Model dan Evaluasi"
      ],
      "metadata": {
        "id": "fjqSvDdNbD1G"
      }
    },
    {
      "cell_type": "markdown",
      "source": [
        "###SVC"
      ],
      "metadata": {
        "id": "_7FrDYFPbD1G"
      }
    },
    {
      "cell_type": "code",
      "execution_count": null,
      "metadata": {
        "id": "nbD3y-gfbD1G"
      },
      "outputs": [],
      "source": [
        "clf = SVC()\n",
        "clf.fit(X_train, y_train)\n",
        "preds = clf.predict(X_test)\n",
        "acc = accuracy_score(y_test, preds)\n",
        "conf_mat = confusion_matrix(y_test, preds)"
      ]
    },
    {
      "cell_type": "code",
      "execution_count": null,
      "metadata": {
        "colab": {
          "base_uri": "https://localhost:8080/"
        },
        "outputId": "85268287-eee3-457d-8815-bacfd588b72d",
        "id": "g3_aX3d6bD1G"
      },
      "outputs": [
        {
          "output_type": "stream",
          "name": "stdout",
          "text": [
            "              precision    recall  f1-score   support\n",
            "\n",
            "           0       0.33      0.36      0.35        36\n",
            "           1       0.20      0.11      0.14        36\n",
            "           2       0.18      0.28      0.22        36\n",
            "           3       0.28      0.22      0.25        36\n",
            "           4       0.26      0.14      0.18        36\n",
            "           5       0.45      0.50      0.47        36\n",
            "           6       0.48      0.28      0.35        36\n",
            "           7       0.57      0.56      0.56        36\n",
            "           8       0.23      0.28      0.25        36\n",
            "           9       0.33      0.53      0.40        36\n",
            "\n",
            "    accuracy                           0.33       360\n",
            "   macro avg       0.33      0.33      0.32       360\n",
            "weighted avg       0.33      0.33      0.32       360\n",
            "\n",
            "Confusion matrix, without normalization\n",
            "[[13  0  2  1  0  1  2  0  2 15]\n",
            " [ 2  4 13  3  2  1  2  4  2  3]\n",
            " [ 2  3 10  5  5  2  1  3  1  4]\n",
            " [ 3  2  5  8  5  2  1  0  5  5]\n",
            " [ 0  0 18  6  5  1  0  3  0  3]\n",
            " [ 3  1  0  0  0 18  1  2 10  1]\n",
            " [ 4  3  4  5  1  2 10  0  4  3]\n",
            " [ 0  3  0  0  1  6  2 20  3  1]\n",
            " [ 6  3  1  1  0  7  2  2 10  4]\n",
            " [ 6  1  3  0  0  0  0  1  6 19]]\n"
          ]
        },
        {
          "output_type": "display_data",
          "data": {
            "text/plain": [
              "<Figure size 432x288 with 2 Axes>"
            ],
            "image/png": "[encoded data removed]"
          },
          "metadata": {
            "needs_background": "light"
          }
        }
      ],
      "source": [
        "np.set_printoptions(precision=2)\n",
        "\n",
        "print (classification_report(y_test, preds))\n",
        "\n",
        "# Plot non-normalized confusion matrix\n",
        "plt.figure()\n",
        "plot_confusion_matrix(conf_mat, classes=['0','1','2','3','4','5','6','7','8','9'],normalize= False,  title='Confusion matrix')"
      ]
    },
    {
      "cell_type": "markdown",
      "source": [
        "###Logistic Regression Grid Search"
      ],
      "metadata": {
        "id": "IyCfUbgcbD1H"
      }
    },
    {
      "cell_type": "code",
      "execution_count": null,
      "metadata": {
        "id": "T-Tm4jmEbD1H"
      },
      "outputs": [],
      "source": [
        "param_grid = {'penalty': ['l1','l2'], 'C': [0.001,0.01,0.1,1,10,100,1000]}\n",
        "logreg=LogisticRegression()\n",
        "model=GridSearchCV(logreg,param_grid)"
      ]
    },
    {
      "cell_type": "code",
      "source": [
        "model.fit(X_train, y_train)\n",
        "preds = model.predict(X_test)\n",
        "acc = accuracy_score(y_test, preds)\n",
        "conf_mat = confusion_matrix(y_test, preds)"
      ],
      "metadata": {
        "id": "H-PidmKebD1H"
      },
      "execution_count": null,
      "outputs": []
    },
    {
      "cell_type": "code",
      "source": [
        "np.set_printoptions(precision=2)\n",
        "\n",
        "print (classification_report(y_test, preds))\n",
        "\n",
        "# Plot non-normalized confusion matrix\n",
        "plt.figure()\n",
        "plot_confusion_matrix(conf_mat, classes=['0','1','2','3','4','5','6','7','8','9'],normalize= False,  title='Confusion matrix')"
      ],
      "metadata": {
        "colab": {
          "base_uri": "https://localhost:8080/"
        },
        "outputId": "7fff90b2-d01d-4b19-f910-e048e3270a76",
        "id": "6JOdlTQibD1H"
      },
      "execution_count": null,
      "outputs": [
        {
          "output_type": "stream",
          "name": "stdout",
          "text": [
            "              precision    recall  f1-score   support\n",
            "\n",
            "           0       0.33      0.42      0.37        36\n",
            "           1       0.26      0.17      0.20        36\n",
            "           2       0.14      0.17      0.15        36\n",
            "           3       0.21      0.19      0.20        36\n",
            "           4       0.19      0.17      0.18        36\n",
            "           5       0.18      0.17      0.17        36\n",
            "           6       0.50      0.33      0.40        36\n",
            "           7       0.61      0.53      0.57        36\n",
            "           8       0.23      0.33      0.27        36\n",
            "           9       0.33      0.39      0.36        36\n",
            "\n",
            "    accuracy                           0.29       360\n",
            "   macro avg       0.30      0.29      0.29       360\n",
            "weighted avg       0.30      0.29      0.29       360\n",
            "\n",
            "Confusion matrix, without normalization\n",
            "[[15  0  0  4  0  1  2  0  2 12]\n",
            " [ 3  6 11  3  3  2  1  1  2  4]\n",
            " [ 5  4  6  5  6  4  1  1  2  2]\n",
            " [ 2  2  4  7  6  3  1  1  6  4]\n",
            " [ 0  1 15  6  6  0  2  4  0  2]\n",
            " [ 3  2  1  1  1  6  2  3 17  0]\n",
            " [ 5  2  5  2  3  3 12  0  3  1]\n",
            " [ 1  2  0  1  3  8  0 19  2  0]\n",
            " [ 6  2  0  2  3  4  2  2 12  3]\n",
            " [ 6  2  0  2  1  3  1  0  7 14]]\n"
          ]
        },
        {
          "output_type": "display_data",
          "data": {
            "text/plain": [
              "<Figure size 432x288 with 2 Axes>"
            ],
            "image/png": "[encoded data removed]"
          },
          "metadata": {
            "needs_background": "light"
          }
        }
      ]
    },
    {
      "cell_type": "markdown",
      "source": [
        "###Random Forest"
      ],
      "metadata": {
        "id": "JvFvb1ulbD1H"
      }
    },
    {
      "cell_type": "code",
      "source": [
        "model = RandomForestClassifier(50, max_depth=15, max_features=15)\n",
        "model.fit(X_train, y_train)\n",
        "preds = model.predict(X_test)\n",
        "acc = accuracy_score(y_test, preds)\n",
        "conf_mat = confusion_matrix(y_test, preds)"
      ],
      "metadata": {
        "id": "YEb7vo4mbD1I"
      },
      "execution_count": null,
      "outputs": []
    },
    {
      "cell_type": "code",
      "source": [
        "np.set_printoptions(precision=2)\n",
        "\n",
        "print (classification_report(y_test, preds))\n",
        "\n",
        "# Plot non-normalized confusion matrix\n",
        "plt.figure()\n",
        "plot_confusion_matrix(conf_mat, classes=['0','1','2','3','4','5','6','7','8','9'],normalize= False,  title='Confusion matrix')"
      ],
      "metadata": {
        "colab": {
          "base_uri": "https://localhost:8080/"
        },
        "outputId": "fa0159fc-39cb-4e2d-cbd2-72db2d2fc016",
        "id": "IQwtcJcYbD1I"
      },
      "execution_count": null,
      "outputs": [
        {
          "output_type": "stream",
          "name": "stdout",
          "text": [
            "              precision    recall  f1-score   support\n",
            "\n",
            "           0       0.22      0.31      0.25        36\n",
            "           1       0.14      0.08      0.10        36\n",
            "           2       0.15      0.19      0.17        36\n",
            "           3       0.13      0.11      0.12        36\n",
            "           4       0.17      0.08      0.11        36\n",
            "           5       0.35      0.33      0.34        36\n",
            "           6       0.33      0.31      0.32        36\n",
            "           7       0.73      0.44      0.55        36\n",
            "           8       0.24      0.25      0.24        36\n",
            "           9       0.28      0.50      0.36        36\n",
            "\n",
            "    accuracy                           0.26       360\n",
            "   macro avg       0.27      0.26      0.26       360\n",
            "weighted avg       0.27      0.26      0.26       360\n",
            "\n",
            "Confusion matrix, without normalization\n",
            "[[11  0  2  2  1  1  2  0  3 14]\n",
            " [11  3  9  2  2  0  5  1  1  2]\n",
            " [ 2  4  7  5  5  2  1  1  1  8]\n",
            " [ 5  2  5  4  4  2  2  1  2  9]\n",
            " [ 0  4 16  8  3  1  2  0  2  0]\n",
            " [ 6  1  1  0  0 12  4  0 10  2]\n",
            " [ 6  1  1  2  2  1 11  1  3  8]\n",
            " [ 1  3  2  0  1  8  1 16  3  1]\n",
            " [ 4  3  1  6  0  7  3  1  9  2]\n",
            " [ 5  1  4  1  0  0  2  1  4 18]]\n"
          ]
        },
        {
          "output_type": "display_data",
          "data": {
            "text/plain": [
              "<Figure size 432x288 with 2 Axes>"
            ],
            "image/png": "[encoded data removed]"
          },
          "metadata": {
            "needs_background": "light"
          }
        }
      ]
    },
    {
      "cell_type": "markdown",
      "source": [
        "###XGBoost Grid Search"
      ],
      "metadata": {
        "id": "6r2o4JtTbD1I"
      }
    },
    {
      "cell_type": "code",
      "source": [
        "xgbc = XGBClassifier(objective='multiclass:softmax', learning_rate = 0.1,\n",
        "              max_depth = 1, n_estimators = 330)\n",
        "param_grid={'learning_rate':[0.1,0.2,0.3,0.4,0.5,0.6]}\n",
        "\n",
        "xgbc_g=GridSearchCV(xgbc,param_grid)\n",
        "xgbc_g.fit(X_train, y_train)\n",
        "preds_xgbc_g = xgbc_g.predict(X_test)"
      ],
      "metadata": {
        "id": "O4iGmRtHbD1I"
      },
      "execution_count": null,
      "outputs": []
    },
    {
      "cell_type": "code",
      "source": [
        "np.set_printoptions(precision=2)\n",
        "\n",
        "print (classification_report(y_test, preds_xgbc_g))\n",
        "\n",
        "# Plot non-normalized confusion matrix\n",
        "plt.figure()\n",
        "plot_confusion_matrix(conf_mat, classes=['0','1','2','3','4','5','6','7','8','9'],normalize= False,  title='Confusion matrix')"
      ],
      "metadata": {
        "colab": {
          "base_uri": "https://localhost:8080/"
        },
        "outputId": "2108d2db-44de-4e20-869e-c7de7c3bbfd1",
        "id": "vGH6_yaVbD1I"
      },
      "execution_count": null,
      "outputs": [
        {
          "output_type": "stream",
          "name": "stdout",
          "text": [
            "              precision    recall  f1-score   support\n",
            "\n",
            "           0       0.28      0.33      0.30        36\n",
            "           1       0.17      0.11      0.14        36\n",
            "           2       0.15      0.19      0.17        36\n",
            "           3       0.21      0.19      0.20        36\n",
            "           4       0.22      0.17      0.19        36\n",
            "           5       0.29      0.22      0.25        36\n",
            "           6       0.39      0.31      0.34        36\n",
            "           7       0.58      0.53      0.55        36\n",
            "           8       0.20      0.28      0.24        36\n",
            "           9       0.25      0.33      0.29        36\n",
            "\n",
            "    accuracy                           0.27       360\n",
            "   macro avg       0.27      0.27      0.27       360\n",
            "weighted avg       0.27      0.27      0.27       360\n",
            "\n",
            "Confusion matrix, without normalization\n",
            "[[11  0  2  2  1  1  2  0  3 14]\n",
            " [11  3  9  2  2  0  5  1  1  2]\n",
            " [ 2  4  7  5  5  2  1  1  1  8]\n",
            " [ 5  2  5  4  4  2  2  1  2  9]\n",
            " [ 0  4 16  8  3  1  2  0  2  0]\n",
            " [ 6  1  1  0  0 12  4  0 10  2]\n",
            " [ 6  1  1  2  2  1 11  1  3  8]\n",
            " [ 1  3  2  0  1  8  1 16  3  1]\n",
            " [ 4  3  1  6  0  7  3  1  9  2]\n",
            " [ 5  1  4  1  0  0  2  1  4 18]]\n"
          ]
        },
        {
          "output_type": "display_data",
          "data": {
            "text/plain": [
              "<Figure size 432x288 with 2 Axes>"
            ],
            "image/png": "[encoded data removed]"
          },
          "metadata": {
            "needs_background": "light"
          }
        }
      ]
    },
    {
      "cell_type": "markdown",
      "source": [
        "#BRISK Tanpa Augmentasi"
      ],
      "metadata": {
        "id": "XeHFQndfbD1I"
      }
    },
    {
      "cell_type": "markdown",
      "source": [
        "##Train Data"
      ],
      "metadata": {
        "id": "SxfhJRhRbD1I"
      }
    },
    {
      "cell_type": "code",
      "source": [
        "dir = \"/content/drive/MyDrive/Kelompok Visi Komputer/dataset/data train/\"\n",
        "folders = ['American craftsman style', 'Art Deco architecture', 'Art Nouveau architecture', 'Baroque architecture',\n",
        "               'Beaux-Arts architecture', 'Deconstructivism', 'Greek Revival architecture', 'International style',\n",
        "               'Novelty architecture', 'Queen Anne architecture']\n",
        "IMAGE_SIZE = (150, 150)\n",
        "features = []\n",
        "labels = []\n",
        "i = 0\n",
        "counter = 0\n",
        "for folder in folders:\n",
        "  folder_dir = dir + folder\n",
        "  images = Path(folder_dir).glob('*.jpg')\n",
        "  for image in images:\n",
        "    if counter < 86:\n",
        "      image_pp = cv2.imread(str(image))\n",
        "      image_pp = cv2.resize(image_pp, IMAGE_SIZE)\n",
        "      image_pp = image_pp / 255.0\n",
        "      image_pp = cv2.normalize(image_pp, None, 0, 255, cv2.NORM_MINMAX).astype('uint8')\n",
        "      features.append(np.float32(getDes(image_pp, 'BRISK')))\n",
        "      labels.append(i)\n",
        "    counter = counter + 1\n",
        "  i = i + 1\n",
        "  counter = 0\n",
        "features = np.vstack(features)"
      ],
      "metadata": {
        "id": "ANH8ohIUbD1I"
      },
      "execution_count": null,
      "outputs": []
    },
    {
      "cell_type": "code",
      "execution_count": null,
      "metadata": {
        "id": "dd8DOxoFbD1I"
      },
      "outputs": [],
      "source": [
        "k = 150\n",
        "criteria = (cv2.TERM_CRITERIA_EPS + cv2.TERM_CRITERIA_MAX_ITER, 10, 0.1)\n",
        "flags = cv2.KMEANS_RANDOM_CENTERS\n",
        "compactness, labels2, centres = cv2.kmeans(features, k, None, criteria, 10, flags)"
      ]
    },
    {
      "cell_type": "code",
      "execution_count": null,
      "metadata": {
        "id": "2fPRErbObD1I"
      },
      "outputs": [],
      "source": [
        "dir = \"/content/drive/MyDrive/Kelompok Visi Komputer/dataset/data train/\"\n",
        "folders = ['American craftsman style', 'Art Deco architecture', 'Art Nouveau architecture', 'Baroque architecture',\n",
        "               'Beaux-Arts architecture', 'Deconstructivism', 'Greek Revival architecture', 'International style',\n",
        "               'Novelty architecture', 'Queen Anne architecture']\n",
        "vec = []\n",
        "i = 0\n",
        "counter = 0\n",
        "for folder in folders:\n",
        "  folder_dir = dir + folder\n",
        "  images = Path(folder_dir).glob('*.jpg')\n",
        "  for image in images:\n",
        "    if counter < 86:\n",
        "      image_pp = cv2.imread(str(image))\n",
        "      image_pp = cv2.resize(image_pp, IMAGE_SIZE)\n",
        "      image_pp = image_pp / 255.0\n",
        "      image_pp = cv2.normalize(image_pp, None, 0, 255, cv2.NORM_MINMAX).astype('uint8')\n",
        "      img_des = getDes(image_pp, 'BRISK')\n",
        "      if img_des is not None:\n",
        "        img_vec = bag_of_features(img_des, centres, k)\n",
        "        vec.append(img_vec)\n",
        "    counter = counter + 1\n",
        "  i = i + 1\n",
        "  counter = 0\n",
        "vec = np.vstack(vec)\n",
        ""
      ]
    },
    {
      "cell_type": "code",
      "source": [
        "X_train = vec\n",
        "y_train = labels"
      ],
      "metadata": {
        "id": "jcPwY5GEbD1I"
      },
      "execution_count": null,
      "outputs": []
    },
    {
      "cell_type": "markdown",
      "source": [
        "##Test Data"
      ],
      "metadata": {
        "id": "Q4hFpjDvbD1J"
      }
    },
    {
      "cell_type": "code",
      "execution_count": null,
      "metadata": {
        "id": "lp9zxveWbD1J"
      },
      "outputs": [],
      "source": [
        "dir = \"/content/drive/MyDrive/Kelompok Visi Komputer/dataset/data test/\"\n",
        "folders = ['American craftsman style', 'Art Deco architecture', 'Art Nouveau architecture', 'Baroque architecture',\n",
        "               'Beaux-Arts architecture', 'Deconstructivism', 'Greek Revival architecture', 'International style',\n",
        "               'Novelty architecture', 'Queen Anne architecture']\n",
        "vec = []\n",
        "labels = []\n",
        "i = 0\n",
        "counter = 0\n",
        "for folder in folders:\n",
        "  folder_dir = dir + folder\n",
        "  images = Path(folder_dir).glob('*.jpg')\n",
        "  for image in images:\n",
        "    if counter < 36:\n",
        "      image_pp = cv2.imread(str(image))\n",
        "      image_pp = cv2.cvtColor(image_pp, cv2.COLOR_BGR2RGB)\n",
        "      image_pp = cv2.resize(image_pp, IMAGE_SIZE)\n",
        "      image_pp = image_pp / 255.0\n",
        "      image_pp = cv2.normalize(image_pp, None, 0, 255, cv2.NORM_MINMAX).astype('uint8')\n",
        "      img_des = getDes(image_pp, 'BRISK')\n",
        "      if img_des is not None:\n",
        "        img_vec = bag_of_features(img_des, centres, k)\n",
        "        vec.append(img_vec)\n",
        "      labels.append(i)\n",
        "    counter = counter + 1\n",
        "  i = i + 1\n",
        "  counter = 0\n",
        "vec = np.vstack(vec)\n",
        ""
      ]
    },
    {
      "cell_type": "code",
      "source": [
        "X_test = vec\n",
        "y_test = labels"
      ],
      "metadata": {
        "id": "C20DstRsbD1J"
      },
      "execution_count": null,
      "outputs": []
    },
    {
      "cell_type": "markdown",
      "source": [
        "##Training Model dan Evaluasi"
      ],
      "metadata": {
        "id": "xkIbaxSebD1J"
      }
    },
    {
      "cell_type": "markdown",
      "source": [
        "###SVC"
      ],
      "metadata": {
        "id": "zc9dpZiDbD1J"
      }
    },
    {
      "cell_type": "code",
      "execution_count": null,
      "metadata": {
        "id": "ongYKb_FbD1J"
      },
      "outputs": [],
      "source": [
        "clf = SVC()\n",
        "clf.fit(X_train, y_train)\n",
        "preds = clf.predict(X_test)\n",
        "acc = accuracy_score(y_test, preds)\n",
        "conf_mat = confusion_matrix(y_test, preds)"
      ]
    },
    {
      "cell_type": "code",
      "execution_count": null,
      "metadata": {
        "colab": {
          "base_uri": "https://localhost:8080/"
        },
        "outputId": "f381b420-089d-41bb-de9d-aaa1e462f8c2",
        "id": "FQX6SN4abD1J"
      },
      "outputs": [
        {
          "output_type": "stream",
          "name": "stdout",
          "text": [
            "              precision    recall  f1-score   support\n",
            "\n",
            "           0       0.35      0.36      0.36        36\n",
            "           1       0.21      0.14      0.17        36\n",
            "           2       0.20      0.25      0.23        36\n",
            "           3       0.37      0.31      0.33        36\n",
            "           4       0.40      0.17      0.24        36\n",
            "           5       0.41      0.44      0.43        36\n",
            "           6       0.34      0.42      0.37        36\n",
            "           7       0.53      0.50      0.51        36\n",
            "           8       0.23      0.31      0.26        36\n",
            "           9       0.27      0.33      0.30        36\n",
            "\n",
            "    accuracy                           0.32       360\n",
            "   macro avg       0.33      0.32      0.32       360\n",
            "weighted avg       0.33      0.32      0.32       360\n",
            "\n",
            "Confusion matrix, without normalization\n",
            "[[13  1  0  0  0  1  5  0  6 10]\n",
            " [ 2  5 10  1  1  0  5  4  4  4]\n",
            " [ 1  3  9  7  4  1  2  1  2  6]\n",
            " [ 2  2  4 11  2  0  5  1  4  5]\n",
            " [ 1  3 14  6  6  1  3  1  0  1]\n",
            " [ 2  1  0  0  0 16  2  4  8  3]\n",
            " [ 2  3  3  3  0  2 15  1  5  2]\n",
            " [ 0  3  0  0  1 10  2 18  2  0]\n",
            " [ 3  3  0  2  0  8  5  2 11  2]\n",
            " [11  0  4  0  1  0  0  2  6 12]]\n"
          ]
        },
        {
          "output_type": "display_data",
          "data": {
            "text/plain": [
              "<Figure size 432x288 with 2 Axes>"
            ],
            "image/png": "[encoded data removed]"
          },
          "metadata": {
            "needs_background": "light"
          }
        }
      ],
      "source": [
        "np.set_printoptions(precision=2)\n",
        "\n",
        "print (classification_report(y_test, preds))\n",
        "\n",
        "# Plot non-normalized confusion matrix\n",
        "plt.figure()\n",
        "plot_confusion_matrix(conf_mat, classes=['0','1','2','3','4','5','6','7','8','9'],normalize= False,  title='Confusion matrix')"
      ]
    },
    {
      "cell_type": "markdown",
      "source": [
        "###Logistic Regression Grid Search"
      ],
      "metadata": {
        "id": "ttPaBYEHbD1J"
      }
    },
    {
      "cell_type": "code",
      "execution_count": null,
      "metadata": {
        "id": "05BTk_-CbD1K"
      },
      "outputs": [],
      "source": [
        "param_grid = {'penalty': ['l1','l2'], 'C': [0.001,0.01,0.1,1,10,100,1000]}\n",
        "logreg=LogisticRegression()\n",
        "model=GridSearchCV(logreg,param_grid)"
      ]
    },
    {
      "cell_type": "code",
      "source": [
        "model.fit(X_train, y_train)\n",
        "preds = model.predict(X_test)\n",
        "acc = accuracy_score(y_test, preds)\n",
        "conf_mat = confusion_matrix(y_test, preds)"
      ],
      "metadata": {
        "id": "gdCHr3dUbD1K"
      },
      "execution_count": null,
      "outputs": []
    },
    {
      "cell_type": "code",
      "source": [
        "np.set_printoptions(precision=2)\n",
        "\n",
        "print (classification_report(y_test, preds))\n",
        "\n",
        "# Plot non-normalized confusion matrix\n",
        "plt.figure()\n",
        "plot_confusion_matrix(conf_mat, classes=['0','1','2','3','4','5','6','7','8','9'],normalize= False,  title='Confusion matrix')"
      ],
      "metadata": {
        "colab": {
          "base_uri": "https://localhost:8080/"
        },
        "outputId": "c53507fc-411c-441c-c6a4-cf34c79b58d5",
        "id": "0Km2vkdxbD1K"
      },
      "execution_count": null,
      "outputs": [
        {
          "output_type": "stream",
          "name": "stdout",
          "text": [
            "              precision    recall  f1-score   support\n",
            "\n",
            "           0       0.30      0.36      0.33        36\n",
            "           1       0.21      0.17      0.18        36\n",
            "           2       0.20      0.19      0.20        36\n",
            "           3       0.28      0.31      0.29        36\n",
            "           4       0.30      0.17      0.21        36\n",
            "           5       0.19      0.14      0.16        36\n",
            "           6       0.38      0.31      0.34        36\n",
            "           7       0.51      0.61      0.56        36\n",
            "           8       0.25      0.39      0.30        36\n",
            "           9       0.23      0.25      0.24        36\n",
            "\n",
            "    accuracy                           0.29       360\n",
            "   macro avg       0.28      0.29      0.28       360\n",
            "weighted avg       0.28      0.29      0.28       360\n",
            "\n",
            "Confusion matrix, without normalization\n",
            "[[13  0  0  1  1  2  2  1  6 10]\n",
            " [ 2  6  9  2  4  3  2  2  3  3]\n",
            " [ 3  4  7  5  5  3  2  0  2  5]\n",
            " [ 3  5  3 11  1  0  1  2  4  6]\n",
            " [ 0  3  9 10  6  3  1  4  0  0]\n",
            " [ 4  2  0  0  0  5  3  5 14  3]\n",
            " [ 1  3  3  5  1  4 11  1  6  1]\n",
            " [ 1  3  1  0  1  5  2 22  1  0]\n",
            " [ 3  3  0  4  0  1  5  4 14  2]\n",
            " [14  0  3  1  1  0  0  2  6  9]]\n"
          ]
        },
        {
          "output_type": "display_data",
          "data": {
            "text/plain": [
              "<Figure size 432x288 with 2 Axes>"
            ],
            "image/png": "[encoded data removed]"
          },
          "metadata": {
            "needs_background": "light"
          }
        }
      ]
    },
    {
      "cell_type": "markdown",
      "source": [
        "###Random Forest"
      ],
      "metadata": {
        "id": "y2QnbwkrbD1K"
      }
    },
    {
      "cell_type": "code",
      "source": [
        "model = RandomForestClassifier(50, max_depth=15, max_features=15)\n",
        "model.fit(X_train, y_train)\n",
        "preds = model.predict(X_test)\n",
        "acc = accuracy_score(y_test, preds)\n",
        "conf_mat = confusion_matrix(y_test, preds)"
      ],
      "metadata": {
        "id": "Cd-d2WK1bD1K"
      },
      "execution_count": null,
      "outputs": []
    },
    {
      "cell_type": "code",
      "source": [
        "np.set_printoptions(precision=2)\n",
        "\n",
        "print (classification_report(y_test, preds))\n",
        "\n",
        "# Plot non-normalized confusion matrix\n",
        "plt.figure()\n",
        "plot_confusion_matrix(conf_mat, classes=['0','1','2','3','4','5','6','7','8','9'],normalize= False,  title='Confusion matrix')"
      ],
      "metadata": {
        "colab": {
          "base_uri": "https://localhost:8080/"
        },
        "outputId": "cbbd0e15-8c13-4de4-c5df-03295a681974",
        "id": "Z0jwxTRybD1K"
      },
      "execution_count": null,
      "outputs": [
        {
          "output_type": "stream",
          "name": "stdout",
          "text": [
            "              precision    recall  f1-score   support\n",
            "\n",
            "           0       0.27      0.39      0.32        36\n",
            "           1       0.13      0.08      0.10        36\n",
            "           2       0.23      0.28      0.25        36\n",
            "           3       0.28      0.25      0.26        36\n",
            "           4       0.05      0.03      0.04        36\n",
            "           5       0.37      0.47      0.41        36\n",
            "           6       0.24      0.22      0.23        36\n",
            "           7       0.61      0.53      0.57        36\n",
            "           8       0.24      0.25      0.24        36\n",
            "           9       0.17      0.19      0.18        36\n",
            "\n",
            "    accuracy                           0.27       360\n",
            "   macro avg       0.26      0.27      0.26       360\n",
            "weighted avg       0.26      0.27      0.26       360\n",
            "\n",
            "Confusion matrix, without normalization\n",
            "[[14  0  0  0  1  1  3  0  6 11]\n",
            " [ 1  3  9  5  4  0  1  3  4  6]\n",
            " [ 4  3 10  4  4  0  2  1  3  5]\n",
            " [ 2  3  7  9  3  4  4  1  1  2]\n",
            " [ 1  5 11  6  1  0  4  3  0  5]\n",
            " [ 3  1  0  0  1 17  2  3  9  0]\n",
            " [ 5  3  2  4  2  7  8  0  2  3]\n",
            " [ 2  2  2  0  2  5  2 19  2  0]\n",
            " [ 3  3  0  3  1 12  3  1  9  1]\n",
            " [17  0  3  1  2  0  4  0  2  7]]\n"
          ]
        },
        {
          "output_type": "display_data",
          "data": {
            "text/plain": [
              "<Figure size 432x288 with 2 Axes>"
            ],
            "image/png": "[encoded data removed]"
          },
          "metadata": {
            "needs_background": "light"
          }
        }
      ]
    },
    {
      "cell_type": "markdown",
      "source": [
        "###XGBoost Grid Search"
      ],
      "metadata": {
        "id": "0JGtHo8kbD1K"
      }
    },
    {
      "cell_type": "code",
      "source": [
        "xgbc = XGBClassifier(objective='multiclass:softmax', learning_rate = 0.1,\n",
        "              max_depth = 1, n_estimators = 330)\n",
        "param_grid={'learning_rate':[0.1,0.2,0.3,0.4,0.5,0.6]}\n",
        "\n",
        "xgbc_g=GridSearchCV(xgbc,param_grid)\n",
        "xgbc_g.fit(X_train, y_train)\n",
        "preds_xgbc_g = xgbc_g.predict(X_test)"
      ],
      "metadata": {
        "id": "1HR_ul_1bD1K"
      },
      "execution_count": null,
      "outputs": []
    },
    {
      "cell_type": "code",
      "source": [
        "np.set_printoptions(precision=2)\n",
        "\n",
        "print (classification_report(y_test, preds_xgbc_g))\n",
        "\n",
        "# Plot non-normalized confusion matrix\n",
        "plt.figure()\n",
        "plot_confusion_matrix(conf_mat, classes=['0','1','2','3','4','5','6','7','8','9'],normalize= False,  title='Confusion matrix')"
      ],
      "metadata": {
        "colab": {
          "base_uri": "https://localhost:8080/"
        },
        "id": "T1_ijXlQbD1K",
        "outputId": "6a6b374c-d3ae-46fd-e282-d179d7b8a65f"
      },
      "execution_count": null,
      "outputs": [
        {
          "output_type": "stream",
          "name": "stdout",
          "text": [
            "              precision    recall  f1-score   support\n",
            "\n",
            "           0       0.26      0.31      0.28        36\n",
            "           1       0.06      0.06      0.06        36\n",
            "           2       0.13      0.11      0.12        36\n",
            "           3       0.20      0.19      0.20        36\n",
            "           4       0.30      0.22      0.25        36\n",
            "           5       0.30      0.25      0.27        36\n",
            "           6       0.33      0.33      0.33        36\n",
            "           7       0.50      0.64      0.56        36\n",
            "           8       0.12      0.14      0.13        36\n",
            "           9       0.19      0.22      0.21        36\n",
            "\n",
            "    accuracy                           0.25       360\n",
            "   macro avg       0.24      0.25      0.24       360\n",
            "weighted avg       0.24      0.25      0.24       360\n",
            "\n",
            "Confusion matrix, without normalization\n",
            "[[14  0  0  0  1  1  3  0  6 11]\n",
            " [ 1  3  9  5  4  0  1  3  4  6]\n",
            " [ 4  3 10  4  4  0  2  1  3  5]\n",
            " [ 2  3  7  9  3  4  4  1  1  2]\n",
            " [ 1  5 11  6  1  0  4  3  0  5]\n",
            " [ 3  1  0  0  1 17  2  3  9  0]\n",
            " [ 5  3  2  4  2  7  8  0  2  3]\n",
            " [ 2  2  2  0  2  5  2 19  2  0]\n",
            " [ 3  3  0  3  1 12  3  1  9  1]\n",
            " [17  0  3  1  2  0  4  0  2  7]]\n"
          ]
        },
        {
          "output_type": "display_data",
          "data": {
            "text/plain": [
              "<Figure size 432x288 with 2 Axes>"
            ],
            "image/png": "[encoded data removed]"
          },
          "metadata": {
            "needs_background": "light"
          }
        }
      ]
    },
    {
      "cell_type": "markdown",
      "source": [
        "#KAZE Dengan Augmentasi"
      ],
      "metadata": {
        "id": "pyOpMXYsd4WD"
      }
    },
    {
      "cell_type": "markdown",
      "source": [
        "##Train Data"
      ],
      "metadata": {
        "id": "4uP_Siyjd4WD"
      }
    },
    {
      "cell_type": "code",
      "source": [
        "dir = \"/content/drive/MyDrive/Kelompok Visi Komputer/dataset/data train/\"\n",
        "folders = ['American craftsman style', 'Art Deco architecture', 'Art Nouveau architecture', 'Baroque architecture',\n",
        "               'Beaux-Arts architecture', 'Deconstructivism', 'Greek Revival architecture', 'International style',\n",
        "               'Novelty architecture', 'Queen Anne architecture']\n",
        "IMAGE_SIZE = (150, 150)\n",
        "features = []\n",
        "labels = []\n",
        "i = 0\n",
        "counter = 0\n",
        "for folder in folders:\n",
        "  folder_dir = dir + folder\n",
        "  images = Path(folder_dir).glob('*.jpg')\n",
        "  for image in images:\n",
        "    if counter < 86:\n",
        "      image_pp = cv2.imread(str(image))\n",
        "      image_pp = cv2.resize(image_pp, IMAGE_SIZE)\n",
        "      image_pp = image_pp / 255.0\n",
        "      image_pp = cv2.normalize(image_pp, None, 0, 255, cv2.NORM_MINMAX).astype('uint8')\n",
        "      features.append(np.float32(getDes(image_pp, 'KAZE')))\n",
        "      labels.append(i)\n",
        "      img = image_pp\n",
        "      # Horizontal flip\n",
        "      img_flip = cv2.flip(img, 1)\n",
        "      features.append(np.float32(getDes(img_flip, 'KAZE')))\n",
        "      labels.append(i)\n",
        "      # Rotation\n",
        "      angle = 45\n",
        "      h, w = img.shape[:2]\n",
        "      M = cv2.getRotationMatrix2D((int(w/2), int(h/2)), angle, 1)\n",
        "      img_rotate = cv2.warpAffine(img, M, (w, h))\n",
        "      features.append(np.float32(getDes(img_rotate, 'KAZE')))\n",
        "      labels.append(i)\n",
        "      # Zoom\n",
        "      value = random.uniform(0.6, 1)\n",
        "      h, w = img.shape[:2]\n",
        "      h_taken = int(value*h)\n",
        "      w_taken = int(value*w)\n",
        "      h_start = random.randint(0, h-h_taken)\n",
        "      w_start = random.randint(0, w-w_taken)\n",
        "      img_con = img[h_start:h_start+h_taken, w_start:w_start+w_taken, :]\n",
        "      img_zoom = fill(img_con, h, w)\n",
        "      features.append(np.float32(getDes(img_zoom, 'KAZE')))\n",
        "      labels.append(i)\n",
        "      # Brighness\n",
        "      value = random.uniform(0.5, 1.4)\n",
        "      hsv = cv2.cvtColor(img, cv2.COLOR_BGR2HSV)\n",
        "      hsv = np.array(hsv, dtype = np.float64)\n",
        "      hsv[:,:,1] = hsv[:,:,1]*value\n",
        "      hsv[:,:,1][hsv[:,:,1]>255]  = 255\n",
        "      hsv[:,:,2] = hsv[:,:,2]*value\n",
        "      hsv[:,:,2][hsv[:,:,2]>255]  = 255\n",
        "      hsv = np.array(hsv, dtype = np.uint8)\n",
        "      img_bright = cv2.cvtColor(hsv, cv2.COLOR_HSV2BGR)\n",
        "      features.append(np.float32(getDes(img_bright, 'KAZE')))\n",
        "      labels.append(i)\n",
        "    counter = counter + 1\n",
        "  i = i + 1\n",
        "  counter = 0\n",
        "features = np.vstack(features)"
      ],
      "metadata": {
        "id": "yUk0dhRGd4WD"
      },
      "execution_count": null,
      "outputs": []
    },
    {
      "cell_type": "code",
      "execution_count": null,
      "metadata": {
        "id": "SZQhGHJ_d4WE"
      },
      "outputs": [],
      "source": [
        "k = 150\n",
        "criteria = (cv2.TERM_CRITERIA_EPS + cv2.TERM_CRITERIA_MAX_ITER, 10, 0.1)\n",
        "flags = cv2.KMEANS_RANDOM_CENTERS\n",
        "compactness, labels2, centres = cv2.kmeans(features, k, None, criteria, 10, flags)"
      ]
    },
    {
      "cell_type": "code",
      "execution_count": null,
      "metadata": {
        "id": "O-aJuvWld4WE"
      },
      "outputs": [],
      "source": [
        "dir = \"/content/drive/MyDrive/Kelompok Visi Komputer/dataset/data train/\"\n",
        "folders = ['American craftsman style', 'Art Deco architecture', 'Art Nouveau architecture', 'Baroque architecture',\n",
        "               'Beaux-Arts architecture', 'Deconstructivism', 'Greek Revival architecture', 'International style',\n",
        "               'Novelty architecture', 'Queen Anne architecture']\n",
        "vec = []\n",
        "i = 0\n",
        "counter = 0\n",
        "for folder in folders:\n",
        "  folder_dir = dir + folder\n",
        "  images = Path(folder_dir).glob('*.jpg')\n",
        "  for image in images:\n",
        "    if counter < 86:\n",
        "      image_pp = cv2.imread(str(image))\n",
        "      image_pp = cv2.resize(image_pp, IMAGE_SIZE)\n",
        "      image_pp = image_pp / 255.0\n",
        "      image_pp = cv2.normalize(image_pp, None, 0, 255, cv2.NORM_MINMAX).astype('uint8')\n",
        "      img_des = getDes(image_pp, 'KAZE')\n",
        "      if img_des is not None:\n",
        "        img_vec = bag_of_features(img_des, centres, k)\n",
        "        vec.append(img_vec)\n",
        "      img = image_pp\n",
        "      # Horizontal flip\n",
        "      img_flip = cv2.flip(img, 1)\n",
        "      img_des = getDes(img_flip, 'KAZE')\n",
        "      if img_des is not None:\n",
        "        img_vec = bag_of_features(img_des, centres, k)\n",
        "        vec.append(img_vec)\n",
        "      # Rotation\n",
        "      angle = 45\n",
        "      h, w = img.shape[:2]\n",
        "      M = cv2.getRotationMatrix2D((int(w/2), int(h/2)), angle, 1)\n",
        "      img_rotate = cv2.warpAffine(img, M, (w, h))\n",
        "      img_des = getDes(img_rotate, 'KAZE')\n",
        "      if img_des is not None:\n",
        "        img_vec = bag_of_features(img_des, centres, k)\n",
        "        vec.append(img_vec)\n",
        "      # Zoom\n",
        "      value = random.uniform(0.6, 1)\n",
        "      h, w = img.shape[:2]\n",
        "      h_taken = int(value*h)\n",
        "      w_taken = int(value*w)\n",
        "      h_start = random.randint(0, h-h_taken)\n",
        "      w_start = random.randint(0, w-w_taken)\n",
        "      img_con = img[h_start:h_start+h_taken, w_start:w_start+w_taken, :]\n",
        "      img_zoom = fill(img_con, h, w)\n",
        "      img_des = getDes(img_zoom, 'KAZE')\n",
        "      if img_des is not None:\n",
        "        img_vec = bag_of_features(img_des, centres, k)\n",
        "        vec.append(img_vec)\n",
        "      # Brighness\n",
        "      value = random.uniform(0.5, 1.4)\n",
        "      hsv = cv2.cvtColor(img, cv2.COLOR_BGR2HSV)\n",
        "      hsv = np.array(hsv, dtype = np.float64)\n",
        "      hsv[:,:,1] = hsv[:,:,1]*value\n",
        "      hsv[:,:,1][hsv[:,:,1]>255]  = 255\n",
        "      hsv[:,:,2] = hsv[:,:,2]*value\n",
        "      hsv[:,:,2][hsv[:,:,2]>255]  = 255\n",
        "      hsv = np.array(hsv, dtype = np.uint8)\n",
        "      img_bright = cv2.cvtColor(hsv, cv2.COLOR_HSV2BGR)\n",
        "      img_des = getDes(img_bright, 'KAZE')\n",
        "      if img_des is not None:\n",
        "        img_vec = bag_of_features(img_des, centres, k)\n",
        "        vec.append(img_vec)\n",
        "    counter = counter + 1\n",
        "  i = i + 1\n",
        "  counter = 0\n",
        "vec = np.vstack(vec)\n",
        ""
      ]
    },
    {
      "cell_type": "code",
      "source": [
        "X_train = vec\n",
        "y_train = labels"
      ],
      "metadata": {
        "id": "-90ZCSaEd4WE"
      },
      "execution_count": null,
      "outputs": []
    },
    {
      "cell_type": "markdown",
      "source": [
        "##Test Data"
      ],
      "metadata": {
        "id": "0W2JExFId4WE"
      }
    },
    {
      "cell_type": "code",
      "execution_count": null,
      "metadata": {
        "id": "P72jClxkd4WE"
      },
      "outputs": [],
      "source": [
        "dir = \"/content/drive/MyDrive/Kelompok Visi Komputer/dataset/data test/\"\n",
        "folders = ['American craftsman style', 'Art Deco architecture', 'Art Nouveau architecture', 'Baroque architecture',\n",
        "               'Beaux-Arts architecture', 'Deconstructivism', 'Greek Revival architecture', 'International style',\n",
        "               'Novelty architecture', 'Queen Anne architecture']\n",
        "vec = []\n",
        "labels = []\n",
        "i = 0\n",
        "counter = 0\n",
        "for folder in folders:\n",
        "  folder_dir = dir + folder\n",
        "  images = Path(folder_dir).glob('*.jpg')\n",
        "  for image in images:\n",
        "    if counter < 36:\n",
        "      image_pp = cv2.imread(str(image))\n",
        "      image_pp = cv2.cvtColor(image_pp, cv2.COLOR_BGR2RGB)\n",
        "      image_pp = cv2.resize(image_pp, IMAGE_SIZE)\n",
        "      image_pp = image_pp / 255.0\n",
        "      image_pp = cv2.normalize(image_pp, None, 0, 255, cv2.NORM_MINMAX).astype('uint8')\n",
        "      img_des = getDes(image_pp, 'KAZE')\n",
        "      if img_des is not None:\n",
        "        img_vec = bag_of_features(img_des, centres, k)\n",
        "        vec.append(img_vec)\n",
        "      labels.append(i)\n",
        "    counter = counter + 1\n",
        "  i = i + 1\n",
        "  counter = 0\n",
        "vec = np.vstack(vec)\n",
        ""
      ]
    },
    {
      "cell_type": "code",
      "source": [
        "X_test = vec\n",
        "y_test = labels"
      ],
      "metadata": {
        "id": "o7rhraF0d4WE"
      },
      "execution_count": null,
      "outputs": []
    },
    {
      "cell_type": "markdown",
      "source": [
        "##Training Model dan Evaluasi"
      ],
      "metadata": {
        "id": "GmgiD9JNd4WE"
      }
    },
    {
      "cell_type": "markdown",
      "source": [
        "###SVC"
      ],
      "metadata": {
        "id": "YRadP5pzd4WE"
      }
    },
    {
      "cell_type": "code",
      "execution_count": null,
      "metadata": {
        "id": "zm8CY7Yrd4WF",
        "colab": {
          "base_uri": "https://localhost:8080/",
          "height": 380
        },
        "outputId": "f059aaf3-17c3-4258-9f97-ffa4155f00f0"
      },
      "outputs": [
        {
          "output_type": "error",
          "ename": "ValueError",
          "evalue": "ignored",
          "traceback": [
            "\u001b[0;31m---------------------------------------------------------------------------\u001b[0m",
            "\u001b[0;31mValueError\u001b[0m                                Traceback (most recent call last)",
            "\u001b[0;32m<ipython-input-73-2e0cb522e4dd>\u001b[0m in \u001b[0;36m<module>\u001b[0;34m\u001b[0m\n\u001b[1;32m      1\u001b[0m \u001b[0mclf\u001b[0m \u001b[0;34m=\u001b[0m \u001b[0mSVC\u001b[0m\u001b[0;34m(\u001b[0m\u001b[0;34m)\u001b[0m\u001b[0;34m\u001b[0m\u001b[0;34m\u001b[0m\u001b[0m\n\u001b[0;32m----> 2\u001b[0;31m \u001b[0mclf\u001b[0m\u001b[0;34m.\u001b[0m\u001b[0mfit\u001b[0m\u001b[0;34m(\u001b[0m\u001b[0mX_train\u001b[0m\u001b[0;34m,\u001b[0m \u001b[0my_train\u001b[0m\u001b[0;34m)\u001b[0m\u001b[0;34m\u001b[0m\u001b[0;34m\u001b[0m\u001b[0m\n\u001b[0m\u001b[1;32m      3\u001b[0m \u001b[0mpreds\u001b[0m \u001b[0;34m=\u001b[0m \u001b[0mclf\u001b[0m\u001b[0;34m.\u001b[0m\u001b[0mpredict\u001b[0m\u001b[0;34m(\u001b[0m\u001b[0mX_test\u001b[0m\u001b[0;34m)\u001b[0m\u001b[0;34m\u001b[0m\u001b[0;34m\u001b[0m\u001b[0m\n\u001b[1;32m      4\u001b[0m \u001b[0macc\u001b[0m \u001b[0;34m=\u001b[0m \u001b[0maccuracy_score\u001b[0m\u001b[0;34m(\u001b[0m\u001b[0my_test\u001b[0m\u001b[0;34m,\u001b[0m \u001b[0mpreds\u001b[0m\u001b[0;34m)\u001b[0m\u001b[0;34m\u001b[0m\u001b[0;34m\u001b[0m\u001b[0m\n\u001b[1;32m      5\u001b[0m \u001b[0mconf_mat\u001b[0m \u001b[0;34m=\u001b[0m \u001b[0mconfusion_matrix\u001b[0m\u001b[0;34m(\u001b[0m\u001b[0my_test\u001b[0m\u001b[0;34m,\u001b[0m \u001b[0mpreds\u001b[0m\u001b[0;34m)\u001b[0m\u001b[0;34m\u001b[0m\u001b[0;34m\u001b[0m\u001b[0m\n",
            "\u001b[0;32m/usr/local/lib/python3.7/dist-packages/sklearn/svm/_base.py\u001b[0m in \u001b[0;36mfit\u001b[0;34m(self, X, y, sample_weight)\u001b[0m\n\u001b[1;32m    194\u001b[0m                 \u001b[0morder\u001b[0m\u001b[0;34m=\u001b[0m\u001b[0;34m\"C\"\u001b[0m\u001b[0;34m,\u001b[0m\u001b[0;34m\u001b[0m\u001b[0;34m\u001b[0m\u001b[0m\n\u001b[1;32m    195\u001b[0m                 \u001b[0maccept_sparse\u001b[0m\u001b[0;34m=\u001b[0m\u001b[0;34m\"csr\"\u001b[0m\u001b[0;34m,\u001b[0m\u001b[0;34m\u001b[0m\u001b[0;34m\u001b[0m\u001b[0m\n\u001b[0;32m--> 196\u001b[0;31m                 \u001b[0maccept_large_sparse\u001b[0m\u001b[0;34m=\u001b[0m\u001b[0;32mFalse\u001b[0m\u001b[0;34m,\u001b[0m\u001b[0;34m\u001b[0m\u001b[0;34m\u001b[0m\u001b[0m\n\u001b[0m\u001b[1;32m    197\u001b[0m             )\n\u001b[1;32m    198\u001b[0m \u001b[0;34m\u001b[0m\u001b[0m\n",
            "\u001b[0;32m/usr/local/lib/python3.7/dist-packages/sklearn/base.py\u001b[0m in \u001b[0;36m_validate_data\u001b[0;34m(self, X, y, reset, validate_separately, **check_params)\u001b[0m\n\u001b[1;32m    579\u001b[0m                 \u001b[0my\u001b[0m \u001b[0;34m=\u001b[0m \u001b[0mcheck_array\u001b[0m\u001b[0;34m(\u001b[0m\u001b[0my\u001b[0m\u001b[0;34m,\u001b[0m \u001b[0;34m**\u001b[0m\u001b[0mcheck_y_params\u001b[0m\u001b[0;34m)\u001b[0m\u001b[0;34m\u001b[0m\u001b[0;34m\u001b[0m\u001b[0m\n\u001b[1;32m    580\u001b[0m             \u001b[0;32melse\u001b[0m\u001b[0;34m:\u001b[0m\u001b[0;34m\u001b[0m\u001b[0;34m\u001b[0m\u001b[0m\n\u001b[0;32m--> 581\u001b[0;31m                 \u001b[0mX\u001b[0m\u001b[0;34m,\u001b[0m \u001b[0my\u001b[0m \u001b[0;34m=\u001b[0m \u001b[0mcheck_X_y\u001b[0m\u001b[0;34m(\u001b[0m\u001b[0mX\u001b[0m\u001b[0;34m,\u001b[0m \u001b[0my\u001b[0m\u001b[0;34m,\u001b[0m \u001b[0;34m**\u001b[0m\u001b[0mcheck_params\u001b[0m\u001b[0;34m)\u001b[0m\u001b[0;34m\u001b[0m\u001b[0;34m\u001b[0m\u001b[0m\n\u001b[0m\u001b[1;32m    582\u001b[0m             \u001b[0mout\u001b[0m \u001b[0;34m=\u001b[0m \u001b[0mX\u001b[0m\u001b[0;34m,\u001b[0m \u001b[0my\u001b[0m\u001b[0;34m\u001b[0m\u001b[0;34m\u001b[0m\u001b[0m\n\u001b[1;32m    583\u001b[0m \u001b[0;34m\u001b[0m\u001b[0m\n",
            "\u001b[0;32m/usr/local/lib/python3.7/dist-packages/sklearn/utils/validation.py\u001b[0m in \u001b[0;36mcheck_X_y\u001b[0;34m(X, y, accept_sparse, accept_large_sparse, dtype, order, copy, force_all_finite, ensure_2d, allow_nd, multi_output, ensure_min_samples, ensure_min_features, y_numeric, estimator)\u001b[0m\n\u001b[1;32m    979\u001b[0m     \u001b[0my\u001b[0m \u001b[0;34m=\u001b[0m \u001b[0m_check_y\u001b[0m\u001b[0;34m(\u001b[0m\u001b[0my\u001b[0m\u001b[0;34m,\u001b[0m \u001b[0mmulti_output\u001b[0m\u001b[0;34m=\u001b[0m\u001b[0mmulti_output\u001b[0m\u001b[0;34m,\u001b[0m \u001b[0my_numeric\u001b[0m\u001b[0;34m=\u001b[0m\u001b[0my_numeric\u001b[0m\u001b[0;34m)\u001b[0m\u001b[0;34m\u001b[0m\u001b[0;34m\u001b[0m\u001b[0m\n\u001b[1;32m    980\u001b[0m \u001b[0;34m\u001b[0m\u001b[0m\n\u001b[0;32m--> 981\u001b[0;31m     \u001b[0mcheck_consistent_length\u001b[0m\u001b[0;34m(\u001b[0m\u001b[0mX\u001b[0m\u001b[0;34m,\u001b[0m \u001b[0my\u001b[0m\u001b[0;34m)\u001b[0m\u001b[0;34m\u001b[0m\u001b[0;34m\u001b[0m\u001b[0m\n\u001b[0m\u001b[1;32m    982\u001b[0m \u001b[0;34m\u001b[0m\u001b[0m\n\u001b[1;32m    983\u001b[0m     \u001b[0;32mreturn\u001b[0m \u001b[0mX\u001b[0m\u001b[0;34m,\u001b[0m \u001b[0my\u001b[0m\u001b[0;34m\u001b[0m\u001b[0;34m\u001b[0m\u001b[0m\n",
            "\u001b[0;32m/usr/local/lib/python3.7/dist-packages/sklearn/utils/validation.py\u001b[0m in \u001b[0;36mcheck_consistent_length\u001b[0;34m(*arrays)\u001b[0m\n\u001b[1;32m    332\u001b[0m         raise ValueError(\n\u001b[1;32m    333\u001b[0m             \u001b[0;34m\"Found input variables with inconsistent numbers of samples: %r\"\u001b[0m\u001b[0;34m\u001b[0m\u001b[0;34m\u001b[0m\u001b[0m\n\u001b[0;32m--> 334\u001b[0;31m             \u001b[0;34m%\u001b[0m \u001b[0;34m[\u001b[0m\u001b[0mint\u001b[0m\u001b[0;34m(\u001b[0m\u001b[0ml\u001b[0m\u001b[0;34m)\u001b[0m \u001b[0;32mfor\u001b[0m \u001b[0ml\u001b[0m \u001b[0;32min\u001b[0m \u001b[0mlengths\u001b[0m\u001b[0;34m]\u001b[0m\u001b[0;34m\u001b[0m\u001b[0;34m\u001b[0m\u001b[0m\n\u001b[0m\u001b[1;32m    335\u001b[0m         )\n\u001b[1;32m    336\u001b[0m \u001b[0;34m\u001b[0m\u001b[0m\n",
            "\u001b[0;31mValueError\u001b[0m: Found input variables with inconsistent numbers of samples: [4299, 4300]"
          ]
        }
      ],
      "source": [
        "clf = SVC()\n",
        "clf.fit(X_train, y_train)\n",
        "preds = clf.predict(X_test)\n",
        "acc = accuracy_score(y_test, preds)\n",
        "conf_mat = confusion_matrix(y_test, preds)"
      ]
    },
    {
      "cell_type": "code",
      "execution_count": null,
      "metadata": {
        "id": "5dJNpwDid4WF"
      },
      "outputs": [],
      "source": [
        "np.set_printoptions(precision=2)\n",
        "\n",
        "print (classification_report(y_test, preds))\n",
        "\n",
        "# Plot non-normalized confusion matrix\n",
        "plt.figure()\n",
        "plot_confusion_matrix(conf_mat, classes=['0','1','2','3','4','5','6','7','8','9'],normalize= False,  title='Confusion matrix')"
      ]
    },
    {
      "cell_type": "markdown",
      "source": [
        "###Logistic Regression Grid Search"
      ],
      "metadata": {
        "id": "DHtTIryUd4WF"
      }
    },
    {
      "cell_type": "code",
      "execution_count": null,
      "metadata": {
        "id": "Cnbz6KcCd4WF"
      },
      "outputs": [],
      "source": [
        "param_grid = {'penalty': ['l1','l2'], 'C': [0.001,0.01,0.1,1,10,100,1000]}\n",
        "logreg=LogisticRegression()\n",
        "model=GridSearchCV(logreg,param_grid)"
      ]
    },
    {
      "cell_type": "code",
      "source": [
        "model.fit(X_train, y_train)\n",
        "preds = model.predict(X_test)\n",
        "acc = accuracy_score(y_test, preds)\n",
        "conf_mat = confusion_matrix(y_test, preds)"
      ],
      "metadata": {
        "id": "MKtN3Z5Ld4WF"
      },
      "execution_count": null,
      "outputs": []
    },
    {
      "cell_type": "code",
      "source": [
        "np.set_printoptions(precision=2)\n",
        "\n",
        "print (classification_report(y_test, preds))\n",
        "\n",
        "# Plot non-normalized confusion matrix\n",
        "plt.figure()\n",
        "plot_confusion_matrix(conf_mat, classes=['0','1','2','3','4','5','6','7','8','9'],normalize= False,  title='Confusion matrix')"
      ],
      "metadata": {
        "id": "HON1N-T1d4WG"
      },
      "execution_count": null,
      "outputs": []
    },
    {
      "cell_type": "markdown",
      "source": [
        "###Random Forest"
      ],
      "metadata": {
        "id": "ha5q_DZXd4WG"
      }
    },
    {
      "cell_type": "code",
      "source": [
        "model = RandomForestClassifier(50, max_depth=15, max_features=15)\n",
        "model.fit(X_train, y_train)\n",
        "preds = model.predict(X_test)\n",
        "acc = accuracy_score(y_test, preds)\n",
        "conf_mat = confusion_matrix(y_test, preds)"
      ],
      "metadata": {
        "id": "hxIVm65Rd4WG"
      },
      "execution_count": null,
      "outputs": []
    },
    {
      "cell_type": "code",
      "source": [
        "np.set_printoptions(precision=2)\n",
        "\n",
        "print (classification_report(y_test, preds))\n",
        "\n",
        "# Plot non-normalized confusion matrix\n",
        "plt.figure()\n",
        "plot_confusion_matrix(conf_mat, classes=['0','1','2','3','4','5','6','7','8','9'],normalize= False,  title='Confusion matrix')"
      ],
      "metadata": {
        "id": "04pfPjKcd4WG"
      },
      "execution_count": null,
      "outputs": []
    },
    {
      "cell_type": "markdown",
      "source": [
        "###XGBoost Grid Search"
      ],
      "metadata": {
        "id": "PzoNK2yld4WG"
      }
    },
    {
      "cell_type": "code",
      "source": [
        "xgbc = XGBClassifier(objective='multiclass:softmax', learning_rate = 0.1,\n",
        "              max_depth = 1, n_estimators = 330)\n",
        "param_grid={'learning_rate':[0.1,0.2,0.3,0.4,0.5,0.6]}\n",
        "\n",
        "xgbc_g=GridSearchCV(xgbc,param_grid)\n",
        "xgbc_g.fit(X_train, y_train)\n",
        "preds_xgbc_g = xgbc_g.predict(X_test)"
      ],
      "metadata": {
        "id": "gOdvTDJcd4WG"
      },
      "execution_count": null,
      "outputs": []
    },
    {
      "cell_type": "code",
      "source": [
        "np.set_printoptions(precision=2)\n",
        "\n",
        "print (classification_report(y_test, preds_xgbc_g))\n",
        "\n",
        "# Plot non-normalized confusion matrix\n",
        "plt.figure()\n",
        "plot_confusion_matrix(conf_mat, classes=['0','1','2','3','4','5','6','7','8','9'],normalize= False,  title='Confusion matrix')"
      ],
      "metadata": {
        "id": "xrqg8PwWd4WG"
      },
      "execution_count": null,
      "outputs": []
    },
    {
      "cell_type": "markdown",
      "source": [
        "#KAZE Tanpa Augmentasi"
      ],
      "metadata": {
        "id": "-Vi5B7gVd4WG"
      }
    },
    {
      "cell_type": "markdown",
      "source": [
        "##Train Data"
      ],
      "metadata": {
        "id": "1Bzc2A29d4WG"
      }
    },
    {
      "cell_type": "code",
      "source": [
        "dir = \"/content/drive/MyDrive/Kelompok Visi Komputer/dataset/data train/\"\n",
        "folders = ['American craftsman style', 'Art Deco architecture', 'Art Nouveau architecture', 'Baroque architecture',\n",
        "               'Beaux-Arts architecture', 'Deconstructivism', 'Greek Revival architecture', 'International style',\n",
        "               'Novelty architecture', 'Queen Anne architecture']\n",
        "IMAGE_SIZE = (150, 150)\n",
        "features = []\n",
        "labels = []\n",
        "i = 0\n",
        "counter = 0\n",
        "for folder in folders:\n",
        "  folder_dir = dir + folder\n",
        "  images = Path(folder_dir).glob('*.jpg')\n",
        "  for image in images:\n",
        "    if counter < 86:\n",
        "      image_pp = cv2.imread(str(image))\n",
        "      image_pp = cv2.resize(image_pp, IMAGE_SIZE)\n",
        "      image_pp = image_pp / 255.0\n",
        "      image_pp = cv2.normalize(image_pp, None, 0, 255, cv2.NORM_MINMAX).astype('uint8')\n",
        "      features.append(np.float32(getDes(image_pp, 'KAZE')))\n",
        "      labels.append(i)\n",
        "    counter = counter + 1\n",
        "  i = i + 1\n",
        "  counter = 0\n",
        "features = np.vstack(features)"
      ],
      "metadata": {
        "id": "nXztH3TAd4WG"
      },
      "execution_count": null,
      "outputs": []
    },
    {
      "cell_type": "code",
      "execution_count": null,
      "metadata": {
        "id": "YZIlDaKqd4WH"
      },
      "outputs": [],
      "source": [
        "k = 150\n",
        "criteria = (cv2.TERM_CRITERIA_EPS + cv2.TERM_CRITERIA_MAX_ITER, 10, 0.1)\n",
        "flags = cv2.KMEANS_RANDOM_CENTERS\n",
        "compactness, labels2, centres = cv2.kmeans(features, k, None, criteria, 10, flags)"
      ]
    },
    {
      "cell_type": "code",
      "execution_count": null,
      "metadata": {
        "id": "dnFKt2lbd4WH"
      },
      "outputs": [],
      "source": [
        "dir = \"/content/drive/MyDrive/Kelompok Visi Komputer/dataset/data train/\"\n",
        "folders = ['American craftsman style', 'Art Deco architecture', 'Art Nouveau architecture', 'Baroque architecture',\n",
        "               'Beaux-Arts architecture', 'Deconstructivism', 'Greek Revival architecture', 'International style',\n",
        "               'Novelty architecture', 'Queen Anne architecture']\n",
        "vec = []\n",
        "i = 0\n",
        "counter = 0\n",
        "for folder in folders:\n",
        "  folder_dir = dir + folder\n",
        "  images = Path(folder_dir).glob('*.jpg')\n",
        "  for image in images:\n",
        "    if counter < 86:\n",
        "      image_pp = cv2.imread(str(image))\n",
        "      image_pp = cv2.resize(image_pp, IMAGE_SIZE)\n",
        "      image_pp = image_pp / 255.0\n",
        "      image_pp = cv2.normalize(image_pp, None, 0, 255, cv2.NORM_MINMAX).astype('uint8')\n",
        "      img_des = getDes(image_pp, 'KAZE')\n",
        "      if img_des is not None:\n",
        "        img_vec = bag_of_features(img_des, centres, k)\n",
        "        vec.append(img_vec)\n",
        "    counter = counter + 1\n",
        "  i = i + 1\n",
        "  counter = 0\n",
        "vec = np.vstack(vec)\n",
        ""
      ]
    },
    {
      "cell_type": "code",
      "source": [
        "X_train = vec\n",
        "y_train = labels"
      ],
      "metadata": {
        "id": "Vr0LhLz9d4WH"
      },
      "execution_count": null,
      "outputs": []
    },
    {
      "cell_type": "markdown",
      "source": [
        "##Test Data"
      ],
      "metadata": {
        "id": "ZoGMqcQKd4WH"
      }
    },
    {
      "cell_type": "code",
      "execution_count": null,
      "metadata": {
        "id": "1D2n9123d4WH"
      },
      "outputs": [],
      "source": [
        "dir = \"/content/drive/MyDrive/Kelompok Visi Komputer/dataset/data test/\"\n",
        "folders = ['American craftsman style', 'Art Deco architecture', 'Art Nouveau architecture', 'Baroque architecture',\n",
        "               'Beaux-Arts architecture', 'Deconstructivism', 'Greek Revival architecture', 'International style',\n",
        "               'Novelty architecture', 'Queen Anne architecture']\n",
        "vec = []\n",
        "labels = []\n",
        "i = 0\n",
        "counter = 0\n",
        "for folder in folders:\n",
        "  folder_dir = dir + folder\n",
        "  images = Path(folder_dir).glob('*.jpg')\n",
        "  for image in images:\n",
        "    if counter < 36:\n",
        "      image_pp = cv2.imread(str(image))\n",
        "      image_pp = cv2.cvtColor(image_pp, cv2.COLOR_BGR2RGB)\n",
        "      image_pp = cv2.resize(image_pp, IMAGE_SIZE)\n",
        "      image_pp = image_pp / 255.0\n",
        "      image_pp = cv2.normalize(image_pp, None, 0, 255, cv2.NORM_MINMAX).astype('uint8')\n",
        "      img_des = getDes(image_pp, 'KAZE')\n",
        "      if img_des is not None:\n",
        "        img_vec = bag_of_features(img_des, centres, k)\n",
        "        vec.append(img_vec)\n",
        "      labels.append(i)\n",
        "    counter = counter + 1\n",
        "  i = i + 1\n",
        "  counter = 0\n",
        "vec = np.vstack(vec)\n",
        ""
      ]
    },
    {
      "cell_type": "code",
      "source": [
        "X_test = vec\n",
        "y_test = labels"
      ],
      "metadata": {
        "id": "ySv2UTSGd4WH"
      },
      "execution_count": null,
      "outputs": []
    },
    {
      "cell_type": "markdown",
      "source": [
        "##Training Model dan Evaluasi"
      ],
      "metadata": {
        "id": "YqpDDuIwd4WH"
      }
    },
    {
      "cell_type": "markdown",
      "source": [
        "###SVC"
      ],
      "metadata": {
        "id": "Ig-dnZKbd4WH"
      }
    },
    {
      "cell_type": "code",
      "execution_count": null,
      "metadata": {
        "id": "x64WDQUkd4WH"
      },
      "outputs": [],
      "source": [
        "clf = SVC()\n",
        "clf.fit(X_train, y_train)\n",
        "preds = clf.predict(X_test)\n",
        "acc = accuracy_score(y_test, preds)\n",
        "conf_mat = confusion_matrix(y_test, preds)"
      ]
    },
    {
      "cell_type": "code",
      "execution_count": null,
      "metadata": {
        "id": "UYYXXFaqd4WI"
      },
      "outputs": [],
      "source": [
        "np.set_printoptions(precision=2)\n",
        "\n",
        "print (classification_report(y_test, preds))\n",
        "\n",
        "# Plot non-normalized confusion matrix\n",
        "plt.figure()\n",
        "plot_confusion_matrix(conf_mat, classes=['0','1','2','3','4','5','6','7','8','9'],normalize= False,  title='Confusion matrix')"
      ]
    },
    {
      "cell_type": "markdown",
      "source": [
        "###Logistic Regression Grid Search"
      ],
      "metadata": {
        "id": "0fO4lHY5d4WI"
      }
    },
    {
      "cell_type": "code",
      "execution_count": null,
      "metadata": {
        "id": "COgE4jlwd4WI"
      },
      "outputs": [],
      "source": [
        "param_grid = {'penalty': ['l1','l2'], 'C': [0.001,0.01,0.1,1,10,100,1000]}\n",
        "logreg=LogisticRegression()\n",
        "model=GridSearchCV(logreg,param_grid)"
      ]
    },
    {
      "cell_type": "code",
      "source": [
        "model.fit(X_train, y_train)\n",
        "preds = model.predict(X_test)\n",
        "acc = accuracy_score(y_test, preds)\n",
        "conf_mat = confusion_matrix(y_test, preds)"
      ],
      "metadata": {
        "id": "FRDotSmmd4WI"
      },
      "execution_count": null,
      "outputs": []
    },
    {
      "cell_type": "code",
      "source": [
        "np.set_printoptions(precision=2)\n",
        "\n",
        "print (classification_report(y_test, preds))\n",
        "\n",
        "# Plot non-normalized confusion matrix\n",
        "plt.figure()\n",
        "plot_confusion_matrix(conf_mat, classes=['0','1','2','3','4','5','6','7','8','9'],normalize= False,  title='Confusion matrix')"
      ],
      "metadata": {
        "id": "p1sd-Iald4WI"
      },
      "execution_count": null,
      "outputs": []
    },
    {
      "cell_type": "markdown",
      "source": [
        "###Random Forest"
      ],
      "metadata": {
        "id": "5aMT9BTRd4WI"
      }
    },
    {
      "cell_type": "code",
      "source": [
        "model = RandomForestClassifier(50, max_depth=15, max_features=15)\n",
        "model.fit(X_train, y_train)\n",
        "preds = model.predict(X_test)\n",
        "acc = accuracy_score(y_test, preds)\n",
        "conf_mat = confusion_matrix(y_test, preds)"
      ],
      "metadata": {
        "id": "zVnDMzgZd4WI"
      },
      "execution_count": null,
      "outputs": []
    },
    {
      "cell_type": "code",
      "source": [
        "np.set_printoptions(precision=2)\n",
        "\n",
        "print (classification_report(y_test, preds))\n",
        "\n",
        "# Plot non-normalized confusion matrix\n",
        "plt.figure()\n",
        "plot_confusion_matrix(conf_mat, classes=['0','1','2','3','4','5','6','7','8','9'],normalize= False,  title='Confusion matrix')"
      ],
      "metadata": {
        "id": "_nYdsac2d4WJ"
      },
      "execution_count": null,
      "outputs": []
    },
    {
      "cell_type": "markdown",
      "source": [
        "###XGBoost Grid Search"
      ],
      "metadata": {
        "id": "GZw9RxGXd4WJ"
      }
    },
    {
      "cell_type": "code",
      "source": [
        "xgbc = XGBClassifier(objective='multiclass:softmax', learning_rate = 0.1,\n",
        "              max_depth = 1, n_estimators = 330)\n",
        "param_grid={'learning_rate':[0.1,0.2,0.3,0.4,0.5,0.6]}\n",
        "\n",
        "xgbc_g=GridSearchCV(xgbc,param_grid)\n",
        "xgbc_g.fit(X_train, y_train)\n",
        "preds_xgbc_g = xgbc_g.predict(X_test)"
      ],
      "metadata": {
        "id": "kYvVlGJMd4WJ"
      },
      "execution_count": null,
      "outputs": []
    },
    {
      "cell_type": "code",
      "source": [
        "np.set_printoptions(precision=2)\n",
        "\n",
        "print (classification_report(y_test, preds_xgbc_g))\n",
        "\n",
        "# Plot non-normalized confusion matrix\n",
        "plt.figure()\n",
        "plot_confusion_matrix(conf_mat, classes=['0','1','2','3','4','5','6','7','8','9'],normalize= False,  title='Confusion matrix')"
      ],
      "metadata": {
        "id": "lfi42TFhd4WJ"
      },
      "execution_count": null,
      "outputs": []
    },
    {
      "cell_type": "code",
      "source": [
        "count_0 = 0\n",
        "count_1 = 0\n",
        "count_2 = 0\n",
        "count_3 = 0\n",
        "count_4 = 0\n",
        "count_5 = 0\n",
        "count_6 = 0\n",
        "count_7 = 0\n",
        "count_8 = 0\n",
        "count_9 = 0\n",
        "\n",
        "for n in y_train:\n",
        "  if n == 0:\n",
        "    count_0 = count_0 + 1\n",
        "  if n == 1:\n",
        "    count_1 = count_1 + 1\n",
        "  if n == 2:\n",
        "    count_2 = count_2 + 1\n",
        "  if n == 3:\n",
        "    count_3 = count_3 + 1\n",
        "  if n == 4:\n",
        "    count_4 = count_4 + 1\n",
        "  if n == 5:\n",
        "    count_5 = count_5 + 1\n",
        "  if n == 6:\n",
        "    count_6 = count_6 + 1\n",
        "  if n == 7:\n",
        "    count_7 = count_7 + 1\n",
        "  if n == 8:\n",
        "    count_8 = count_8 + 1\n",
        "  if n == 9:\n",
        "    count_9 = count_9 + 1\n",
        "\n",
        "print(count_0)\n",
        "print(count_1)\n",
        "print(count_2)\n",
        "print(count_3)\n",
        "print(count_4)\n",
        "print(count_5)\n",
        "print(count_6)\n",
        "print(count_7)\n",
        "print(count_8)\n",
        "print(count_9)"
      ],
      "metadata": {
        "id": "cYDob70QdylE"
      },
      "execution_count": null,
      "outputs": []
    },
    {
      "cell_type": "code",
      "source": [
        "count_0 = 0\n",
        "count_1 = 0\n",
        "count_2 = 0\n",
        "count_3 = 0\n",
        "count_4 = 0\n",
        "count_5 = 0\n",
        "count_6 = 0\n",
        "count_7 = 0\n",
        "count_8 = 0\n",
        "count_9 = 0\n",
        "\n",
        "for n in y_test:\n",
        "  if n == 0:\n",
        "    count_0 = count_0 + 1\n",
        "  if n == 1:\n",
        "    count_1 = count_1 + 1\n",
        "  if n == 2:\n",
        "    count_2 = count_2 + 1\n",
        "  if n == 3:\n",
        "    count_3 = count_3 + 1\n",
        "  if n == 4:\n",
        "    count_4 = count_4 + 1\n",
        "  if n == 5:\n",
        "    count_5 = count_5 + 1\n",
        "  if n == 6:\n",
        "    count_6 = count_6 + 1\n",
        "  if n == 7:\n",
        "    count_7 = count_7 + 1\n",
        "  if n == 8:\n",
        "    count_8 = count_8 + 1\n",
        "  if n == 9:\n",
        "    count_9 = count_9 + 1\n",
        "\n",
        "print(count_0)\n",
        "print(count_1)\n",
        "print(count_2)\n",
        "print(count_3)\n",
        "print(count_4)\n",
        "print(count_5)\n",
        "print(count_6)\n",
        "print(count_7)\n",
        "print(count_8)\n",
        "print(count_9)"
      ],
      "metadata": {
        "id": "yDhBTMI1hWIa"
      },
      "execution_count": null,
      "outputs": []
    },
    {
      "cell_type": "code",
      "source": [],
      "metadata": {
        "id": "7lYN_MuqhZWt"
      },
      "execution_count": null,
      "outputs": []
    }
  ],
  "metadata": {
    "accelerator": "GPU",
    "colab": {
      "provenance": [],
      "toc_visible": true
    },
    "kernelspec": {
      "display_name": "Python 3",
      "name": "python3"
    },
    "language_info": {
      "name": "python"
    }
  },
  "nbformat": 4,
  "nbformat_minor": 0
}