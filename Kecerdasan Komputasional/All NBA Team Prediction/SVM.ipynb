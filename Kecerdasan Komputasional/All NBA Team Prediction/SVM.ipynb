{
 "cells": [
  {
   "cell_type": "markdown",
   "id": "68377974",
   "metadata": {},
   "source": [
    "Import Libraries"
   ]
  },
  {
   "cell_type": "code",
   "execution_count": 1,
   "id": "c5be5e11",
   "metadata": {},
   "outputs": [],
   "source": [
    "import pandas as pd\n",
    "import pylab as pl\n",
    "import numpy as np\n",
    "import scipy.optimize as opt\n",
    "from sklearn import preprocessing\n",
    "from sklearn.model_selection import train_test_split\n",
    "%matplotlib inline \n",
    "import matplotlib.pyplot as plt"
   ]
  },
  {
   "cell_type": "markdown",
   "id": "0c99697b",
   "metadata": {},
   "source": [
    "Load Data From CSV File"
   ]
  },
  {
   "cell_type": "code",
   "execution_count": null,
   "id": "a6e7d43a",
   "metadata": {},
   "outputs": [],
   "source": [
    "my_data = pd.read_csv(\"1991_stats2.csv\")\n",
    "my_data.head()"
   ]
  },
  {
   "cell_type": "code",
   "execution_count": null,
   "id": "6df7793a",
   "metadata": {},
   "outputs": [],
   "source": [
    "ax = my_data[my_data['isAllNBA'] == 1][0:50].plot(kind='scatter', x='MP', y='PTS', color='DarkBlue', label='All-NBA');\n",
    "my_data[my_data['isAllNBA'] == 0][0:50].plot(kind='scatter', x='MP', y='PTS', color='Yellow', label='not All-NBA', ax=ax);\n",
    "plt.show()"
   ]
  },
  {
   "cell_type": "markdown",
   "id": "14fa11c1",
   "metadata": {},
   "source": [
    "Data pre-processing and selection"
   ]
  },
  {
   "cell_type": "code",
   "execution_count": null,
   "id": "50776755",
   "metadata": {},
   "outputs": [],
   "source": [
    "feature_df = my_data[['Pos', 'MP', 'FG', 'FGA', 'FG%', '3P', '3PA', '3P%', '2P', '2PA', '2P%', 'eFG%', 'FT', 'FTA', 'FT%', 'ORB', 'DRB', 'TRB', 'AST', 'STL', 'BLK', 'TOV', 'PF', 'PTS']].values\n",
    "le_pos = preprocessing.LabelEncoder()\n",
    "le_pos.fit(['PG','SG','SF','PF','C'])\n",
    "feature_df[:,0] = le_pos.transform(feature_df[:,0])\n",
    "X_train = np.asarray(feature_df)\n",
    "X_train[0:5]"
   ]
  },
  {
   "cell_type": "code",
   "execution_count": null,
   "id": "89e4da35",
   "metadata": {},
   "outputs": [],
   "source": [
    "my_data['isAllNBA'] = my_data['isAllNBA'].astype('int')\n",
    "y_train = np.asarray(my_data['isAllNBA'])\n",
    "y_train [0:5]"
   ]
  },
  {
   "cell_type": "code",
   "execution_count": null,
   "id": "b5b8c401",
   "metadata": {},
   "outputs": [],
   "source": [
    "my_data2 = pd.read_csv(\"1992_stats.csv\")\n",
    "my_data2.head()"
   ]
  },
  {
   "cell_type": "code",
   "execution_count": null,
   "id": "939203c4",
   "metadata": {},
   "outputs": [],
   "source": [
    "feature_df2 = my_data2[['Pos', 'MP', 'FG', 'FGA', 'FG%', '3P', '3PA', '3P%', '2P', '2PA', '2P%', 'eFG%', 'FT', 'FTA', 'FT%', 'ORB', 'DRB', 'TRB', 'AST', 'STL', 'BLK', 'TOV', 'PF', 'PTS']].values\n",
    "le_pos2 = preprocessing.LabelEncoder()\n",
    "le_pos2.fit(['PG','SG','SF','PF','C'])\n",
    "feature_df2[:,0] = le_pos2.transform(feature_df2[:,0])\n",
    "X_test = np.asarray(feature_df2)\n",
    "X_test[0:5]"
   ]
  },
  {
   "cell_type": "code",
   "execution_count": null,
   "id": "62d7a728",
   "metadata": {},
   "outputs": [],
   "source": [
    "my_data2['isAllNBA'] = my_data2['isAllNBA'].astype('int')\n",
    "y_test = np.asarray(my_data2['isAllNBA'])\n",
    "y_test [0:5]"
   ]
  },
  {
   "cell_type": "markdown",
   "id": "6f0fea21",
   "metadata": {},
   "source": [
    "Modeling"
   ]
  },
  {
   "cell_type": "code",
   "execution_count": null,
   "id": "7e4ccf80",
   "metadata": {},
   "outputs": [],
   "source": [
    "from sklearn import svm\n",
    "clf = svm.SVC(kernel='rbf')\n",
    "clf.fit(X_train, y_train) "
   ]
  },
  {
   "cell_type": "code",
   "execution_count": null,
   "id": "199522f2",
   "metadata": {},
   "outputs": [],
   "source": [
    "yhat = clf.predict(X_test)\n",
    "yhat [0:5]"
   ]
  },
  {
   "cell_type": "markdown",
   "id": "b07efaab",
   "metadata": {},
   "source": [
    "Evaluation"
   ]
  },
  {
   "cell_type": "code",
   "execution_count": null,
   "id": "666b7c5d",
   "metadata": {},
   "outputs": [],
   "source": [
    "from sklearn.metrics import classification_report, confusion_matrix\n",
    "import itertools"
   ]
  },
  {
   "cell_type": "code",
   "execution_count": null,
   "id": "9d19f8cb",
   "metadata": {},
   "outputs": [],
   "source": [
    "def plot_confusion_matrix(cm, classes,\n",
    "                          normalize=False,\n",
    "                          title='Confusion matrix',\n",
    "                          cmap=plt.cm.Blues):\n",
    "    \"\"\"\n",
    "    This function prints and plots the confusion matrix.\n",
    "    Normalization can be applied by setting `normalize=True`.\n",
    "    \"\"\"\n",
    "    if normalize:\n",
    "        cm = cm.astype('float') / cm.sum(axis=1)[:, np.newaxis]\n",
    "        print(\"Normalized confusion matrix\")\n",
    "    else:\n",
    "        print('Confusion matrix, without normalization')\n",
    "\n",
    "    print(cm)\n",
    "\n",
    "    plt.imshow(cm, interpolation='nearest', cmap=cmap)\n",
    "    plt.title(title)\n",
    "    plt.colorbar()\n",
    "    tick_marks = np.arange(len(classes))\n",
    "    plt.xticks(tick_marks, classes, rotation=45)\n",
    "    plt.yticks(tick_marks, classes)\n",
    "\n",
    "    fmt = '.2f' if normalize else 'd'\n",
    "    thresh = cm.max() / 2.\n",
    "    for i, j in itertools.product(range(cm.shape[0]), range(cm.shape[1])):\n",
    "        plt.text(j, i, format(cm[i, j], fmt),\n",
    "                 horizontalalignment=\"center\",\n",
    "                 color=\"white\" if cm[i, j] > thresh else \"black\")\n",
    "\n",
    "    plt.tight_layout()\n",
    "    plt.ylabel('True label')\n",
    "    plt.xlabel('Predicted label')"
   ]
  },
  {
   "cell_type": "code",
   "execution_count": null,
   "id": "09d197a9",
   "metadata": {},
   "outputs": [],
   "source": [
    "# Compute confusion matrix\n",
    "cnf_matrix = confusion_matrix(y_test, yhat, labels=[0,1])\n",
    "np.set_printoptions(precision=2)\n",
    "\n",
    "print (classification_report(y_test, yhat))\n",
    "\n",
    "# Plot non-normalized confusion matrix\n",
    "plt.figure()\n",
    "plot_confusion_matrix(cnf_matrix, classes=['Not All-NBA(0)','All-NBA(1)'],normalize= False,  title='Confusion matrix')"
   ]
  },
  {
   "cell_type": "code",
   "execution_count": null,
   "id": "10f64eff",
   "metadata": {},
   "outputs": [],
   "source": [
    "from sklearn.metrics import f1_score\n",
    "f1_score(y_test, yhat, average='weighted') "
   ]
  },
  {
   "cell_type": "code",
   "execution_count": null,
   "id": "06619b81",
   "metadata": {},
   "outputs": [],
   "source": [
    "from sklearn.metrics import jaccard_score\n",
    "jaccard_score(y_test, yhat,pos_label=0)"
   ]
  },
  {
   "cell_type": "code",
   "execution_count": null,
   "id": "3446b7ca",
   "metadata": {},
   "outputs": [],
   "source": [
    "from sklearn import svm\n",
    "clf2 = svm.SVC(kernel='linear')\n",
    "clf2.fit(X_train, y_train) \n",
    "yhat2 = clf.predict(X_test)\n",
    "yhat2 [0:5]\n",
    "cnf_matrix = confusion_matrix(y_test, yhat2, labels=[0, 1])\n",
    "np.set_printoptions(precision=2)\n",
    "print (classification_report(y_test, yhat2))\n",
    "plt.figure()\n",
    "plot_confusion_matrix(cnf_matrix, classes=['Not All-NBA(0)','All-NBA(1)'],normalize= False,  title='Confusion matrix')\n",
    "print(\"Avg F1-score: %.4f\" % f1_score(y_test, yhat2, average='weighted'))\n",
    "print(\"Jaccard score: %.4f\" % jaccard_score(y_test, yhat2,pos_label=0))"
   ]
  },
  {
   "cell_type": "code",
   "execution_count": null,
   "id": "707b87d3",
   "metadata": {},
   "outputs": [],
   "source": [
    "yhat[0:100]"
   ]
  },
  {
   "cell_type": "code",
   "execution_count": null,
   "id": "3d0e24b7",
   "metadata": {},
   "outputs": [],
   "source": [
    "yhat2[0:100]"
   ]
  },
  {
   "cell_type": "code",
   "execution_count": null,
   "id": "bb1022db",
   "metadata": {},
   "outputs": [],
   "source": [
    "from sklearn.linear_model import LogisticRegression\n",
    "LR = LogisticRegression(C=0.01, solver='liblinear').fit(X_train,y_train)\n",
    "LR"
   ]
  },
  {
   "cell_type": "code",
   "execution_count": null,
   "id": "3ef1592b",
   "metadata": {},
   "outputs": [],
   "source": []
  }
 ],
 "metadata": {
  "kernelspec": {
   "display_name": "Python 3 (ipykernel)",
   "language": "python",
   "name": "python3"
  },
  "language_info": {
   "codemirror_mode": {
    "name": "ipython",
    "version": 3
   },
   "file_extension": ".py",
   "mimetype": "text/x-python",
   "name": "python",
   "nbconvert_exporter": "python",
   "pygments_lexer": "ipython3",
   "version": "3.9.7"
  }
 },
 "nbformat": 4,
 "nbformat_minor": 5
}
