{
 "cells": [
  {
   "cell_type": "markdown",
   "id": "68377974",
   "metadata": {},
   "source": [
    "Import Libraries"
   ]
  },
  {
   "cell_type": "code",
   "execution_count": 1,
   "id": "c5be5e11",
   "metadata": {},
   "outputs": [],
   "source": [
    "import pandas as pd\n",
    "import pylab as pl\n",
    "import numpy as np\n",
    "import scipy.optimize as opt\n",
    "from sklearn import preprocessing\n",
    "from sklearn.model_selection import train_test_split\n",
    "%matplotlib inline \n",
    "import matplotlib.pyplot as plt"
   ]
  },
  {
   "cell_type": "markdown",
   "id": "4086ee91",
   "metadata": {},
   "source": [
    "Load Data From CSV File"
   ]
  },
  {
   "cell_type": "code",
   "execution_count": 2,
   "id": "a6e7d43a",
   "metadata": {},
   "outputs": [
    {
     "data": {
      "text/html": [
       "<div>\n",
       "<style scoped>\n",
       "    .dataframe tbody tr th:only-of-type {\n",
       "        vertical-align: middle;\n",
       "    }\n",
       "\n",
       "    .dataframe tbody tr th {\n",
       "        vertical-align: top;\n",
       "    }\n",
       "\n",
       "    .dataframe thead th {\n",
       "        text-align: right;\n",
       "    }\n",
       "</style>\n",
       "<table border=\"1\" class=\"dataframe\">\n",
       "  <thead>\n",
       "    <tr style=\"text-align: right;\">\n",
       "      <th></th>\n",
       "      <th>Pos</th>\n",
       "      <th>MP</th>\n",
       "      <th>PER</th>\n",
       "      <th>TS%</th>\n",
       "      <th>3PAr</th>\n",
       "      <th>FTr</th>\n",
       "      <th>ORB%</th>\n",
       "      <th>DRB%</th>\n",
       "      <th>TRB%</th>\n",
       "      <th>AST%</th>\n",
       "      <th>...</th>\n",
       "      <th>USG%</th>\n",
       "      <th>OWS</th>\n",
       "      <th>DWS</th>\n",
       "      <th>WS</th>\n",
       "      <th>WS/48</th>\n",
       "      <th>OBPM</th>\n",
       "      <th>DBPM</th>\n",
       "      <th>BPM</th>\n",
       "      <th>VORP</th>\n",
       "      <th>isAllNBA</th>\n",
       "    </tr>\n",
       "  </thead>\n",
       "  <tbody>\n",
       "    <tr>\n",
       "      <th>0</th>\n",
       "      <td>SF</td>\n",
       "      <td>3315</td>\n",
       "      <td>21.4</td>\n",
       "      <td>0.618</td>\n",
       "      <td>0.092</td>\n",
       "      <td>0.400</td>\n",
       "      <td>4.7</td>\n",
       "      <td>10.0</td>\n",
       "      <td>7.4</td>\n",
       "      <td>14.9</td>\n",
       "      <td>...</td>\n",
       "      <td>23.5</td>\n",
       "      <td>9.7</td>\n",
       "      <td>2.4</td>\n",
       "      <td>12.2</td>\n",
       "      <td>0.176</td>\n",
       "      <td>4.5</td>\n",
       "      <td>0.1</td>\n",
       "      <td>4.7</td>\n",
       "      <td>5.6</td>\n",
       "      <td>1</td>\n",
       "    </tr>\n",
       "    <tr>\n",
       "      <th>1</th>\n",
       "      <td>PF</td>\n",
       "      <td>3302</td>\n",
       "      <td>24.8</td>\n",
       "      <td>0.596</td>\n",
       "      <td>0.009</td>\n",
       "      <td>0.552</td>\n",
       "      <td>9.0</td>\n",
       "      <td>24.5</td>\n",
       "      <td>17.2</td>\n",
       "      <td>14.7</td>\n",
       "      <td>...</td>\n",
       "      <td>30.1</td>\n",
       "      <td>9.9</td>\n",
       "      <td>5.6</td>\n",
       "      <td>15.5</td>\n",
       "      <td>0.225</td>\n",
       "      <td>4.8</td>\n",
       "      <td>0.6</td>\n",
       "      <td>5.4</td>\n",
       "      <td>6.2</td>\n",
       "      <td>1</td>\n",
       "    </tr>\n",
       "    <tr>\n",
       "      <th>2</th>\n",
       "      <td>PG</td>\n",
       "      <td>3215</td>\n",
       "      <td>20.9</td>\n",
       "      <td>0.547</td>\n",
       "      <td>0.162</td>\n",
       "      <td>0.246</td>\n",
       "      <td>3.0</td>\n",
       "      <td>8.4</td>\n",
       "      <td>5.7</td>\n",
       "      <td>36.8</td>\n",
       "      <td>...</td>\n",
       "      <td>24.7</td>\n",
       "      <td>7.4</td>\n",
       "      <td>2.5</td>\n",
       "      <td>9.9</td>\n",
       "      <td>0.148</td>\n",
       "      <td>4.5</td>\n",
       "      <td>-0.1</td>\n",
       "      <td>4.4</td>\n",
       "      <td>5.2</td>\n",
       "      <td>0</td>\n",
       "    </tr>\n",
       "    <tr>\n",
       "      <th>3</th>\n",
       "      <td>SF</td>\n",
       "      <td>3196</td>\n",
       "      <td>16.6</td>\n",
       "      <td>0.499</td>\n",
       "      <td>0.008</td>\n",
       "      <td>0.283</td>\n",
       "      <td>6.3</td>\n",
       "      <td>15.7</td>\n",
       "      <td>10.7</td>\n",
       "      <td>17.1</td>\n",
       "      <td>...</td>\n",
       "      <td>22.7</td>\n",
       "      <td>2.6</td>\n",
       "      <td>2.9</td>\n",
       "      <td>5.4</td>\n",
       "      <td>0.081</td>\n",
       "      <td>0.5</td>\n",
       "      <td>0.4</td>\n",
       "      <td>0.9</td>\n",
       "      <td>2.3</td>\n",
       "      <td>0</td>\n",
       "    </tr>\n",
       "    <tr>\n",
       "      <th>4</th>\n",
       "      <td>PG</td>\n",
       "      <td>3154</td>\n",
       "      <td>18.1</td>\n",
       "      <td>0.492</td>\n",
       "      <td>0.095</td>\n",
       "      <td>0.122</td>\n",
       "      <td>2.8</td>\n",
       "      <td>8.0</td>\n",
       "      <td>5.3</td>\n",
       "      <td>37.6</td>\n",
       "      <td>...</td>\n",
       "      <td>21.8</td>\n",
       "      <td>4.5</td>\n",
       "      <td>1.3</td>\n",
       "      <td>5.9</td>\n",
       "      <td>0.089</td>\n",
       "      <td>3.1</td>\n",
       "      <td>-1.1</td>\n",
       "      <td>2.0</td>\n",
       "      <td>3.2</td>\n",
       "      <td>0</td>\n",
       "    </tr>\n",
       "  </tbody>\n",
       "</table>\n",
       "<p>5 rows × 23 columns</p>\n",
       "</div>"
      ],
      "text/plain": [
       "  Pos    MP   PER    TS%   3PAr    FTr  ORB%  DRB%  TRB%  AST%  ...  USG%  \\\n",
       "0  SF  3315  21.4  0.618  0.092  0.400   4.7  10.0   7.4  14.9  ...  23.5   \n",
       "1  PF  3302  24.8  0.596  0.009  0.552   9.0  24.5  17.2  14.7  ...  30.1   \n",
       "2  PG  3215  20.9  0.547  0.162  0.246   3.0   8.4   5.7  36.8  ...  24.7   \n",
       "3  SF  3196  16.6  0.499  0.008  0.283   6.3  15.7  10.7  17.1  ...  22.7   \n",
       "4  PG  3154  18.1  0.492  0.095  0.122   2.8   8.0   5.3  37.6  ...  21.8   \n",
       "\n",
       "   OWS  DWS    WS  WS/48  OBPM  DBPM  BPM  VORP  isAllNBA  \n",
       "0  9.7  2.4  12.2  0.176   4.5   0.1  4.7   5.6         1  \n",
       "1  9.9  5.6  15.5  0.225   4.8   0.6  5.4   6.2         1  \n",
       "2  7.4  2.5   9.9  0.148   4.5  -0.1  4.4   5.2         0  \n",
       "3  2.6  2.9   5.4  0.081   0.5   0.4  0.9   2.3         0  \n",
       "4  4.5  1.3   5.9  0.089   3.1  -1.1  2.0   3.2         0  \n",
       "\n",
       "[5 rows x 23 columns]"
      ]
     },
     "execution_count": 2,
     "metadata": {},
     "output_type": "execute_result"
    }
   ],
   "source": [
    "my_data = pd.read_csv(\"1991_advanced.csv\")\n",
    "my_data.head()"
   ]
  },
  {
   "cell_type": "code",
   "execution_count": 3,
   "id": "6df7793a",
   "metadata": {},
   "outputs": [
    {
     "data": {
      "image/png": "[encoded data removed]",
      "text/plain": [
       "<Figure size 432x288 with 1 Axes>"
      ]
     },
     "metadata": {
      "needs_background": "light"
     },
     "output_type": "display_data"
    }
   ],
   "source": [
    "ax = my_data[my_data['isAllNBA'] == 1][0:50].plot(kind='scatter', x='MP', y='BPM', color='DarkBlue', label='All-NBA');\n",
    "my_data[my_data['isAllNBA'] == 0][0:50].plot(kind='scatter', x='MP', y='BPM', color='Yellow', label='not All-NBA', ax=ax);\n",
    "plt.show()"
   ]
  },
  {
   "cell_type": "markdown",
   "id": "14fa11c1",
   "metadata": {},
   "source": [
    "Data pre-processing and selection"
   ]
  },
  {
   "cell_type": "code",
   "execution_count": 4,
   "id": "50776755",
   "metadata": {},
   "outputs": [
    {
     "data": {
      "text/plain": [
       "array([[3, 21.4, 0.618, 0.092, 0.4, 4.7, 10.0, 7.4, 14.9, 2.4, 1.1, 12.6,\n",
       "        23.5, 9.7, 2.4, 12.2, 0.176, 4.5, 0.1, 4.7, 5.6],\n",
       "       [1, 24.8, 0.596, 0.009, 0.552, 9.0, 24.5, 17.2, 14.7, 1.4, 1.5,\n",
       "        10.9, 30.1, 9.9, 5.6, 15.5, 0.225, 4.8, 0.6, 5.4, 6.2],\n",
       "       [2, 20.9, 0.547, 0.162, 0.246, 3.0, 8.4, 5.7, 36.8, 3.1, 0.2,\n",
       "        13.6, 24.7, 7.4, 2.5, 9.9, 0.148, 4.5, -0.1, 4.4, 5.2],\n",
       "       [3, 16.6, 0.499, 0.008, 0.283, 6.3, 15.7, 10.7, 17.1, 2.6, 1.1,\n",
       "        12.4, 22.7, 2.6, 2.9, 5.4, 0.081, 0.5, 0.4, 0.9, 2.3],\n",
       "       [2, 18.1, 0.492, 0.095, 0.122, 2.8, 8.0, 5.3, 37.6, 2.2, 0.3,\n",
       "        10.9, 21.8, 4.5, 1.3, 5.9, 0.089, 3.1, -1.1, 2.0, 3.2]],\n",
       "      dtype=object)"
      ]
     },
     "execution_count": 4,
     "metadata": {},
     "output_type": "execute_result"
    }
   ],
   "source": [
    "feature_df = my_data[['Pos','PER', 'TS%', '3PAr', 'FTr', 'ORB%', 'DRB%', 'TRB%', 'AST%', 'STL%', 'BLK%', 'TOV%', 'USG%', 'OWS', 'DWS', 'WS', 'WS/48', 'OBPM', 'DBPM', 'BPM', 'VORP']].values\n",
    "le_pos = preprocessing.LabelEncoder()\n",
    "le_pos.fit(['PG','SG','SF','PF','C'])\n",
    "feature_df[:,0] = le_pos.transform(feature_df[:,0])\n",
    "X_train = np.asarray(feature_df)\n",
    "X_train[0:5]"
   ]
  },
  {
   "cell_type": "code",
   "execution_count": 5,
   "id": "89e4da35",
   "metadata": {},
   "outputs": [
    {
     "data": {
      "text/plain": [
       "array([1, 1, 0, 0, 0])"
      ]
     },
     "execution_count": 5,
     "metadata": {},
     "output_type": "execute_result"
    }
   ],
   "source": [
    "my_data['isAllNBA'] = my_data['isAllNBA'].astype('int')\n",
    "y_train = np.asarray(my_data['isAllNBA'])\n",
    "y_train [0:5]"
   ]
  },
  {
   "cell_type": "code",
   "execution_count": 6,
   "id": "b5b8c401",
   "metadata": {},
   "outputs": [
    {
     "data": {
      "text/html": [
       "<div>\n",
       "<style scoped>\n",
       "    .dataframe tbody tr th:only-of-type {\n",
       "        vertical-align: middle;\n",
       "    }\n",
       "\n",
       "    .dataframe tbody tr th {\n",
       "        vertical-align: top;\n",
       "    }\n",
       "\n",
       "    .dataframe thead th {\n",
       "        text-align: right;\n",
       "    }\n",
       "</style>\n",
       "<table border=\"1\" class=\"dataframe\">\n",
       "  <thead>\n",
       "    <tr style=\"text-align: right;\">\n",
       "      <th></th>\n",
       "      <th>Pos</th>\n",
       "      <th>MP</th>\n",
       "      <th>PER</th>\n",
       "      <th>TS%</th>\n",
       "      <th>3PAr</th>\n",
       "      <th>FTr</th>\n",
       "      <th>ORB%</th>\n",
       "      <th>DRB%</th>\n",
       "      <th>TRB%</th>\n",
       "      <th>AST%</th>\n",
       "      <th>...</th>\n",
       "      <th>USG%</th>\n",
       "      <th>OWS</th>\n",
       "      <th>DWS</th>\n",
       "      <th>WS</th>\n",
       "      <th>WS/48</th>\n",
       "      <th>OBPM</th>\n",
       "      <th>DBPM</th>\n",
       "      <th>BPM</th>\n",
       "      <th>VORP</th>\n",
       "      <th>isAllNBA</th>\n",
       "    </tr>\n",
       "  </thead>\n",
       "  <tbody>\n",
       "    <tr>\n",
       "      <th>0</th>\n",
       "      <td>SF</td>\n",
       "      <td>3346</td>\n",
       "      <td>19.9</td>\n",
       "      <td>0.586</td>\n",
       "      <td>0.110</td>\n",
       "      <td>0.265</td>\n",
       "      <td>4.2</td>\n",
       "      <td>10.4</td>\n",
       "      <td>7.4</td>\n",
       "      <td>12.2</td>\n",
       "      <td>...</td>\n",
       "      <td>23.6</td>\n",
       "      <td>8.1</td>\n",
       "      <td>2.7</td>\n",
       "      <td>10.8</td>\n",
       "      <td>0.155</td>\n",
       "      <td>3.6</td>\n",
       "      <td>0.1</td>\n",
       "      <td>3.7</td>\n",
       "      <td>4.8</td>\n",
       "      <td>1</td>\n",
       "    </tr>\n",
       "    <tr>\n",
       "      <th>1</th>\n",
       "      <td>PG</td>\n",
       "      <td>3332</td>\n",
       "      <td>19.1</td>\n",
       "      <td>0.537</td>\n",
       "      <td>0.236</td>\n",
       "      <td>0.244</td>\n",
       "      <td>2.7</td>\n",
       "      <td>7.4</td>\n",
       "      <td>5.1</td>\n",
       "      <td>33.3</td>\n",
       "      <td>...</td>\n",
       "      <td>24.4</td>\n",
       "      <td>7.2</td>\n",
       "      <td>2.0</td>\n",
       "      <td>9.2</td>\n",
       "      <td>0.132</td>\n",
       "      <td>3.9</td>\n",
       "      <td>-1.1</td>\n",
       "      <td>2.8</td>\n",
       "      <td>4.1</td>\n",
       "      <td>1</td>\n",
       "    </tr>\n",
       "    <tr>\n",
       "      <th>2</th>\n",
       "      <td>PF</td>\n",
       "      <td>3301</td>\n",
       "      <td>17.0</td>\n",
       "      <td>0.574</td>\n",
       "      <td>0.159</td>\n",
       "      <td>0.220</td>\n",
       "      <td>18.1</td>\n",
       "      <td>34.1</td>\n",
       "      <td>26.2</td>\n",
       "      <td>8.2</td>\n",
       "      <td>...</td>\n",
       "      <td>11.1</td>\n",
       "      <td>5.6</td>\n",
       "      <td>7.0</td>\n",
       "      <td>12.6</td>\n",
       "      <td>0.183</td>\n",
       "      <td>1.9</td>\n",
       "      <td>0.9</td>\n",
       "      <td>2.8</td>\n",
       "      <td>4.0</td>\n",
       "      <td>1</td>\n",
       "    </tr>\n",
       "    <tr>\n",
       "      <th>3</th>\n",
       "      <td>SG</td>\n",
       "      <td>3192</td>\n",
       "      <td>15.4</td>\n",
       "      <td>0.538</td>\n",
       "      <td>0.092</td>\n",
       "      <td>0.362</td>\n",
       "      <td>2.9</td>\n",
       "      <td>3.7</td>\n",
       "      <td>3.3</td>\n",
       "      <td>18.9</td>\n",
       "      <td>...</td>\n",
       "      <td>23.6</td>\n",
       "      <td>5.7</td>\n",
       "      <td>2.5</td>\n",
       "      <td>8.2</td>\n",
       "      <td>0.123</td>\n",
       "      <td>1.3</td>\n",
       "      <td>-0.5</td>\n",
       "      <td>0.7</td>\n",
       "      <td>2.2</td>\n",
       "      <td>0</td>\n",
       "    </tr>\n",
       "    <tr>\n",
       "      <th>4</th>\n",
       "      <td>SF</td>\n",
       "      <td>3164</td>\n",
       "      <td>21.5</td>\n",
       "      <td>0.555</td>\n",
       "      <td>0.059</td>\n",
       "      <td>0.319</td>\n",
       "      <td>6.9</td>\n",
       "      <td>15.8</td>\n",
       "      <td>11.5</td>\n",
       "      <td>25.8</td>\n",
       "      <td>...</td>\n",
       "      <td>24.6</td>\n",
       "      <td>7.1</td>\n",
       "      <td>5.5</td>\n",
       "      <td>12.7</td>\n",
       "      <td>0.192</td>\n",
       "      <td>4.1</td>\n",
       "      <td>2.0</td>\n",
       "      <td>6.1</td>\n",
       "      <td>6.4</td>\n",
       "      <td>1</td>\n",
       "    </tr>\n",
       "  </tbody>\n",
       "</table>\n",
       "<p>5 rows × 23 columns</p>\n",
       "</div>"
      ],
      "text/plain": [
       "  Pos    MP   PER    TS%   3PAr    FTr  ORB%  DRB%  TRB%  AST%  ...  USG%  \\\n",
       "0  SF  3346  19.9  0.586  0.110  0.265   4.2  10.4   7.4  12.2  ...  23.6   \n",
       "1  PG  3332  19.1  0.537  0.236  0.244   2.7   7.4   5.1  33.3  ...  24.4   \n",
       "2  PF  3301  17.0  0.574  0.159  0.220  18.1  34.1  26.2   8.2  ...  11.1   \n",
       "3  SG  3192  15.4  0.538  0.092  0.362   2.9   3.7   3.3  18.9  ...  23.6   \n",
       "4  SF  3164  21.5  0.555  0.059  0.319   6.9  15.8  11.5  25.8  ...  24.6   \n",
       "\n",
       "   OWS  DWS    WS  WS/48  OBPM  DBPM  BPM  VORP  isAllNBA  \n",
       "0  8.1  2.7  10.8  0.155   3.6   0.1  3.7   4.8         1  \n",
       "1  7.2  2.0   9.2  0.132   3.9  -1.1  2.8   4.1         1  \n",
       "2  5.6  7.0  12.6  0.183   1.9   0.9  2.8   4.0         1  \n",
       "3  5.7  2.5   8.2  0.123   1.3  -0.5  0.7   2.2         0  \n",
       "4  7.1  5.5  12.7  0.192   4.1   2.0  6.1   6.4         1  \n",
       "\n",
       "[5 rows x 23 columns]"
      ]
     },
     "execution_count": 6,
     "metadata": {},
     "output_type": "execute_result"
    }
   ],
   "source": [
    "my_data2 = pd.read_csv(\"1992_advanced.csv\")\n",
    "my_data2.head()"
   ]
  },
  {
   "cell_type": "code",
   "execution_count": 7,
   "id": "939203c4",
   "metadata": {},
   "outputs": [
    {
     "data": {
      "text/plain": [
       "array([[3, 19.9, 0.586, 0.11, 0.265, 4.2, 10.4, 7.4, 12.2, 2.4, 1.1,\n",
       "        10.2, 23.6, 8.1, 2.7, 10.8, 0.155, 3.6, 0.1, 3.7, 4.8],\n",
       "       [2, 19.1, 0.537, 0.236, 0.244, 2.7, 7.4, 5.1, 33.3, 2.3, 0.2,\n",
       "        13.2, 24.4, 7.2, 2.0, 9.2, 0.132, 3.9, -1.1, 2.8, 4.1],\n",
       "       [1, 17.0, 0.574, 0.159, 0.22, 18.1, 34.1, 26.2, 8.2, 1.1, 1.3,\n",
       "        16.7, 11.1, 5.6, 7.0, 12.6, 0.183, 1.9, 0.9, 2.8, 4.0],\n",
       "       [4, 15.4, 0.538, 0.092, 0.362, 2.9, 3.7, 3.3, 18.9, 1.2, 0.2,\n",
       "        11.3, 23.6, 5.7, 2.5, 8.2, 0.123, 1.3, -0.5, 0.7, 2.2],\n",
       "       [3, 21.5, 0.555, 0.059, 0.319, 6.9, 15.8, 11.5, 25.8, 2.5, 1.8,\n",
       "        14.0, 24.6, 7.1, 5.5, 12.7, 0.192, 4.1, 2.0, 6.1, 6.4]],\n",
       "      dtype=object)"
      ]
     },
     "execution_count": 7,
     "metadata": {},
     "output_type": "execute_result"
    }
   ],
   "source": [
    "feature_df2 = my_data2[['Pos','PER', 'TS%', '3PAr', 'FTr', 'ORB%', 'DRB%', 'TRB%', 'AST%', 'STL%', 'BLK%', 'TOV%', 'USG%', 'OWS', 'DWS', 'WS', 'WS/48', 'OBPM', 'DBPM', 'BPM', 'VORP']].values\n",
    "le_pos2 = preprocessing.LabelEncoder()\n",
    "le_pos2.fit(['PG','SG','SF','PF','C'])\n",
    "feature_df2[:,0] = le_pos2.transform(feature_df2[:,0])\n",
    "X_test = np.asarray(feature_df2)\n",
    "X_test[0:5]"
   ]
  },
  {
   "cell_type": "code",
   "execution_count": 8,
   "id": "62d7a728",
   "metadata": {},
   "outputs": [
    {
     "data": {
      "text/plain": [
       "array([1, 1, 1, 0, 1])"
      ]
     },
     "execution_count": 8,
     "metadata": {},
     "output_type": "execute_result"
    }
   ],
   "source": [
    "my_data2['isAllNBA'] = my_data2['isAllNBA'].astype('int')\n",
    "y_test = np.asarray(my_data2['isAllNBA'])\n",
    "y_test [0:5]"
   ]
  },
  {
   "cell_type": "markdown",
   "id": "6f0fea21",
   "metadata": {},
   "source": [
    "Modeling"
   ]
  },
  {
   "cell_type": "code",
   "execution_count": 9,
   "id": "7e4ccf80",
   "metadata": {},
   "outputs": [
    {
     "data": {
      "text/plain": [
       "SVC()"
      ]
     },
     "execution_count": 9,
     "metadata": {},
     "output_type": "execute_result"
    }
   ],
   "source": [
    "from sklearn import svm\n",
    "clf = svm.SVC(kernel='rbf')\n",
    "clf.fit(X_train, y_train) "
   ]
  },
  {
   "cell_type": "code",
   "execution_count": 10,
   "id": "199522f2",
   "metadata": {},
   "outputs": [
    {
     "data": {
      "text/plain": [
       "array([0, 0, 0, 0, 0])"
      ]
     },
     "execution_count": 10,
     "metadata": {},
     "output_type": "execute_result"
    }
   ],
   "source": [
    "yhat = clf.predict(X_test)\n",
    "yhat [0:5]"
   ]
  },
  {
   "cell_type": "markdown",
   "id": "b07efaab",
   "metadata": {},
   "source": [
    "Evaluation"
   ]
  },
  {
   "cell_type": "code",
   "execution_count": 11,
   "id": "666b7c5d",
   "metadata": {},
   "outputs": [],
   "source": [
    "from sklearn.metrics import classification_report, confusion_matrix\n",
    "import itertools"
   ]
  },
  {
   "cell_type": "code",
   "execution_count": 12,
   "id": "9d19f8cb",
   "metadata": {},
   "outputs": [],
   "source": [
    "def plot_confusion_matrix(cm, classes,\n",
    "                          normalize=False,\n",
    "                          title='Confusion matrix',\n",
    "                          cmap=plt.cm.Blues):\n",
    "    \"\"\"\n",
    "    This function prints and plots the confusion matrix.\n",
    "    Normalization can be applied by setting `normalize=True`.\n",
    "    \"\"\"\n",
    "    if normalize:\n",
    "        cm = cm.astype('float') / cm.sum(axis=1)[:, np.newaxis]\n",
    "        print(\"Normalized confusion matrix\")\n",
    "    else:\n",
    "        print('Confusion matrix, without normalization')\n",
    "\n",
    "    print(cm)\n",
    "\n",
    "    plt.imshow(cm, interpolation='nearest', cmap=cmap)\n",
    "    plt.title(title)\n",
    "    plt.colorbar()\n",
    "    tick_marks = np.arange(len(classes))\n",
    "    plt.xticks(tick_marks, classes, rotation=45)\n",
    "    plt.yticks(tick_marks, classes)\n",
    "\n",
    "    fmt = '.2f' if normalize else 'd'\n",
    "    thresh = cm.max() / 2.\n",
    "    for i, j in itertools.product(range(cm.shape[0]), range(cm.shape[1])):\n",
    "        plt.text(j, i, format(cm[i, j], fmt),\n",
    "                 horizontalalignment=\"center\",\n",
    "                 color=\"white\" if cm[i, j] > thresh else \"black\")\n",
    "\n",
    "    plt.tight_layout()\n",
    "    plt.ylabel('True label')\n",
    "    plt.xlabel('Predicted label')"
   ]
  },
  {
   "cell_type": "code",
   "execution_count": 13,
   "id": "09d197a9",
   "metadata": {},
   "outputs": [
    {
     "name": "stdout",
     "output_type": "stream",
     "text": [
      "              precision    recall  f1-score   support\n",
      "\n",
      "           0       0.94      0.99      0.97       135\n",
      "           1       0.88      0.47      0.61        15\n",
      "\n",
      "    accuracy                           0.94       150\n",
      "   macro avg       0.91      0.73      0.79       150\n",
      "weighted avg       0.94      0.94      0.93       150\n",
      "\n",
      "Confusion matrix, without normalization\n",
      "[[134   1]\n",
      " [  8   7]]\n"
     ]
    },
    {
     "data": {
      "image/png": "[encoded data removed]",
      "text/plain": [
       "<Figure size 432x288 with 2 Axes>"
      ]
     },
     "metadata": {
      "needs_background": "light"
     },
     "output_type": "display_data"
    }
   ],
   "source": [
    "# Compute confusion matrix\n",
    "cnf_matrix = confusion_matrix(y_test, yhat, labels=[0,1])\n",
    "np.set_printoptions(precision=2)\n",
    "\n",
    "print (classification_report(y_test, yhat))\n",
    "\n",
    "# Plot non-normalized confusion matrix\n",
    "plt.figure()\n",
    "plot_confusion_matrix(cnf_matrix, classes=['Not All-NBA(0)','All-NBA(1)'],normalize= False,  title='Confusion matrix')"
   ]
  },
  {
   "cell_type": "code",
   "execution_count": 14,
   "id": "10f64eff",
   "metadata": {},
   "outputs": [
    {
     "data": {
      "text/plain": [
       "0.9316276879610736"
      ]
     },
     "execution_count": 14,
     "metadata": {},
     "output_type": "execute_result"
    }
   ],
   "source": [
    "from sklearn.metrics import f1_score\n",
    "f1_score(y_test, yhat, average='weighted') "
   ]
  },
  {
   "cell_type": "code",
   "execution_count": 15,
   "id": "06619b81",
   "metadata": {},
   "outputs": [
    {
     "data": {
      "text/plain": [
       "0.9370629370629371"
      ]
     },
     "execution_count": 15,
     "metadata": {},
     "output_type": "execute_result"
    }
   ],
   "source": [
    "from sklearn.metrics import jaccard_score\n",
    "jaccard_score(y_test, yhat,pos_label=0)"
   ]
  },
  {
   "cell_type": "code",
   "execution_count": 16,
   "id": "3446b7ca",
   "metadata": {},
   "outputs": [
    {
     "name": "stdout",
     "output_type": "stream",
     "text": [
      "              precision    recall  f1-score   support\n",
      "\n",
      "           0       0.94      0.99      0.97       135\n",
      "           1       0.88      0.47      0.61        15\n",
      "\n",
      "    accuracy                           0.94       150\n",
      "   macro avg       0.91      0.73      0.79       150\n",
      "weighted avg       0.94      0.94      0.93       150\n",
      "\n",
      "Confusion matrix, without normalization\n",
      "[[134   1]\n",
      " [  8   7]]\n",
      "Avg F1-score: 0.9316\n",
      "Jaccard score: 0.9371\n"
     ]
    },
    {
     "data": {
      "image/png": "[encoded data removed]",
      "text/plain": [
       "<Figure size 432x288 with 2 Axes>"
      ]
     },
     "metadata": {
      "needs_background": "light"
     },
     "output_type": "display_data"
    }
   ],
   "source": [
    "from sklearn import svm\n",
    "clf2 = svm.SVC(kernel='linear')\n",
    "clf2.fit(X_train, y_train) \n",
    "yhat2 = clf.predict(X_test)\n",
    "yhat2 [0:5]\n",
    "cnf_matrix = confusion_matrix(y_test, yhat2, labels=[0, 1])\n",
    "np.set_printoptions(precision=2)\n",
    "print (classification_report(y_test, yhat2))\n",
    "plt.figure()\n",
    "plot_confusion_matrix(cnf_matrix, classes=['Not All-NBA(0)','All-NBA(1)'],normalize= False,  title='Confusion matrix')\n",
    "print(\"Avg F1-score: %.4f\" % f1_score(y_test, yhat2, average='weighted'))\n",
    "print(\"Jaccard score: %.4f\" % jaccard_score(y_test, yhat2,pos_label=0))"
   ]
  },
  {
   "cell_type": "code",
   "execution_count": 17,
   "id": "707b87d3",
   "metadata": {},
   "outputs": [
    {
     "data": {
      "text/plain": [
       "array([0, 0, 0, 0, 0, 1, 0, 0, 0, 1, 0, 0, 0, 0, 0, 0, 1, 0, 0, 0, 0, 1,\n",
       "       0, 0, 0, 0, 0, 0, 0, 0, 0, 0, 1, 0, 0, 0, 0, 0, 0, 0, 0, 0, 0, 1,\n",
       "       0, 0, 0, 0, 0, 0, 0, 0, 1, 0, 0, 1, 0, 0, 0, 0, 0, 0, 0, 0, 0, 0,\n",
       "       0, 0, 0, 0, 0, 0, 0, 0, 0, 0, 0, 0, 0, 0, 0, 0, 0, 0, 0, 0, 0, 0,\n",
       "       0, 0, 0, 0, 0, 0, 0, 0, 0, 0, 0, 0])"
      ]
     },
     "execution_count": 17,
     "metadata": {},
     "output_type": "execute_result"
    }
   ],
   "source": [
    "yhat[0:100]"
   ]
  },
  {
   "cell_type": "code",
   "execution_count": 19,
   "id": "3d0e24b7",
   "metadata": {},
   "outputs": [
    {
     "data": {
      "text/plain": [
       "array([1, 1, 1, 0, 1, 1, 0, 0, 0, 1, 0, 0, 0, 0, 0, 0, 1, 0, 0, 0, 0, 1,\n",
       "       1, 0, 0, 0, 0, 0, 0, 0, 1, 0, 1, 0, 0, 0, 0, 0, 0, 0, 0, 0, 0, 1,\n",
       "       0, 0, 0, 0, 0, 0, 0, 1, 0, 0, 0, 1, 0, 0, 0, 0, 0, 0, 0, 0, 0, 0,\n",
       "       0, 0, 0, 0, 0, 0, 0, 0, 0, 0, 0, 0, 0, 0, 0, 0, 0, 0, 0, 0, 0, 0,\n",
       "       0, 0, 0, 0, 0, 0, 0, 0, 0, 0, 0, 0])"
      ]
     },
     "execution_count": 19,
     "metadata": {},
     "output_type": "execute_result"
    }
   ],
   "source": [
    "y_test[0:100]"
   ]
  },
  {
   "cell_type": "code",
   "execution_count": null,
   "id": "bb1022db",
   "metadata": {},
   "outputs": [],
   "source": []
  }
 ],
 "metadata": {
  "kernelspec": {
   "display_name": "Python 3 (ipykernel)",
   "language": "python",
   "name": "python3"
  },
  "language_info": {
   "codemirror_mode": {
    "name": "ipython",
    "version": 3
   },
   "file_extension": ".py",
   "mimetype": "text/x-python",
   "name": "python",
   "nbconvert_exporter": "python",
   "pygments_lexer": "ipython3",
   "version": "3.9.7"
  }
 },
 "nbformat": 4,
 "nbformat_minor": 5
}
