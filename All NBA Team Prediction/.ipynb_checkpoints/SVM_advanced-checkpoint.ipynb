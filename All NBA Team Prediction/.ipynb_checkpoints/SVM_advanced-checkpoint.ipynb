{
 "cells": [
  {
   "cell_type": "markdown",
   "id": "68377974",
   "metadata": {},
   "source": [
    "Import Libraries"
   ]
  },
  {
   "cell_type": "code",
   "execution_count": 1,
   "id": "c5be5e11",
   "metadata": {},
   "outputs": [],
   "source": [
    "import pandas as pd\n",
    "import pylab as pl\n",
    "import numpy as np\n",
    "import scipy.optimize as opt\n",
    "from sklearn import preprocessing\n",
    "from sklearn.model_selection import train_test_split\n",
    "%matplotlib inline \n",
    "import matplotlib.pyplot as plt"
   ]
  },
  {
   "cell_type": "code",
   "execution_count": null,
   "id": "07868e70",
   "metadata": {},
   "outputs": [],
   "source": [
    "Load Data From CSV File"
   ]
  },
  {
   "cell_type": "code",
   "execution_count": 2,
   "id": "a6e7d43a",
   "metadata": {},
   "outputs": [
    {
     "data": {
      "text/html": [
       "<div>\n",
       "<style scoped>\n",
       "    .dataframe tbody tr th:only-of-type {\n",
       "        vertical-align: middle;\n",
       "    }\n",
       "\n",
       "    .dataframe tbody tr th {\n",
       "        vertical-align: top;\n",
       "    }\n",
       "\n",
       "    .dataframe thead th {\n",
       "        text-align: right;\n",
       "    }\n",
       "</style>\n",
       "<table border=\"1\" class=\"dataframe\">\n",
       "  <thead>\n",
       "    <tr style=\"text-align: right;\">\n",
       "      <th></th>\n",
       "      <th>Pos</th>\n",
       "      <th>MP</th>\n",
       "      <th>FG</th>\n",
       "      <th>FGA</th>\n",
       "      <th>FG%</th>\n",
       "      <th>3P</th>\n",
       "      <th>3PA</th>\n",
       "      <th>3P%</th>\n",
       "      <th>2P</th>\n",
       "      <th>2PA</th>\n",
       "      <th>...</th>\n",
       "      <th>ORB</th>\n",
       "      <th>DRB</th>\n",
       "      <th>TRB</th>\n",
       "      <th>AST</th>\n",
       "      <th>STL</th>\n",
       "      <th>BLK</th>\n",
       "      <th>TOV</th>\n",
       "      <th>PF</th>\n",
       "      <th>PTS</th>\n",
       "      <th>isAllNBA</th>\n",
       "    </tr>\n",
       "  </thead>\n",
       "  <tbody>\n",
       "    <tr>\n",
       "      <th>0</th>\n",
       "      <td>SF</td>\n",
       "      <td>40.4</td>\n",
       "      <td>9.5</td>\n",
       "      <td>17.7</td>\n",
       "      <td>0.536</td>\n",
       "      <td>0.5</td>\n",
       "      <td>1.6</td>\n",
       "      <td>0.301</td>\n",
       "      <td>9.0</td>\n",
       "      <td>16.0</td>\n",
       "      <td>...</td>\n",
       "      <td>1.7</td>\n",
       "      <td>3.7</td>\n",
       "      <td>5.4</td>\n",
       "      <td>4.0</td>\n",
       "      <td>2.1</td>\n",
       "      <td>0.8</td>\n",
       "      <td>3.0</td>\n",
       "      <td>2.1</td>\n",
       "      <td>25.7</td>\n",
       "      <td>1</td>\n",
       "    </tr>\n",
       "    <tr>\n",
       "      <th>1</th>\n",
       "      <td>PF</td>\n",
       "      <td>40.3</td>\n",
       "      <td>10.3</td>\n",
       "      <td>19.6</td>\n",
       "      <td>0.527</td>\n",
       "      <td>0.0</td>\n",
       "      <td>0.2</td>\n",
       "      <td>0.286</td>\n",
       "      <td>10.3</td>\n",
       "      <td>19.4</td>\n",
       "      <td>...</td>\n",
       "      <td>2.9</td>\n",
       "      <td>8.9</td>\n",
       "      <td>11.8</td>\n",
       "      <td>3.3</td>\n",
       "      <td>1.1</td>\n",
       "      <td>1.0</td>\n",
       "      <td>3.0</td>\n",
       "      <td>3.3</td>\n",
       "      <td>29.0</td>\n",
       "      <td>1</td>\n",
       "    </tr>\n",
       "    <tr>\n",
       "      <th>2</th>\n",
       "      <td>SG</td>\n",
       "      <td>39.3</td>\n",
       "      <td>9.1</td>\n",
       "      <td>18.5</td>\n",
       "      <td>0.494</td>\n",
       "      <td>0.5</td>\n",
       "      <td>1.5</td>\n",
       "      <td>0.348</td>\n",
       "      <td>8.6</td>\n",
       "      <td>17.0</td>\n",
       "      <td>...</td>\n",
       "      <td>1.9</td>\n",
       "      <td>4.0</td>\n",
       "      <td>5.9</td>\n",
       "      <td>3.1</td>\n",
       "      <td>1.6</td>\n",
       "      <td>0.4</td>\n",
       "      <td>3.0</td>\n",
       "      <td>2.7</td>\n",
       "      <td>23.9</td>\n",
       "      <td>0</td>\n",
       "    </tr>\n",
       "    <tr>\n",
       "      <th>3</th>\n",
       "      <td>PG</td>\n",
       "      <td>39.2</td>\n",
       "      <td>9.0</td>\n",
       "      <td>18.9</td>\n",
       "      <td>0.476</td>\n",
       "      <td>1.2</td>\n",
       "      <td>3.1</td>\n",
       "      <td>0.385</td>\n",
       "      <td>7.8</td>\n",
       "      <td>15.8</td>\n",
       "      <td>...</td>\n",
       "      <td>1.1</td>\n",
       "      <td>3.0</td>\n",
       "      <td>4.0</td>\n",
       "      <td>9.7</td>\n",
       "      <td>2.6</td>\n",
       "      <td>0.1</td>\n",
       "      <td>3.3</td>\n",
       "      <td>2.8</td>\n",
       "      <td>22.9</td>\n",
       "      <td>0</td>\n",
       "    </tr>\n",
       "    <tr>\n",
       "      <th>4</th>\n",
       "      <td>SF</td>\n",
       "      <td>39.0</td>\n",
       "      <td>7.2</td>\n",
       "      <td>16.0</td>\n",
       "      <td>0.448</td>\n",
       "      <td>0.0</td>\n",
       "      <td>0.1</td>\n",
       "      <td>0.200</td>\n",
       "      <td>7.1</td>\n",
       "      <td>15.9</td>\n",
       "      <td>...</td>\n",
       "      <td>2.3</td>\n",
       "      <td>4.9</td>\n",
       "      <td>7.2</td>\n",
       "      <td>4.2</td>\n",
       "      <td>2.0</td>\n",
       "      <td>0.6</td>\n",
       "      <td>2.5</td>\n",
       "      <td>3.1</td>\n",
       "      <td>18.0</td>\n",
       "      <td>0</td>\n",
       "    </tr>\n",
       "  </tbody>\n",
       "</table>\n",
       "<p>5 rows × 25 columns</p>\n",
       "</div>"
      ],
      "text/plain": [
       "  Pos    MP    FG   FGA    FG%   3P  3PA    3P%    2P   2PA  ...  ORB  DRB  \\\n",
       "0  SF  40.4   9.5  17.7  0.536  0.5  1.6  0.301   9.0  16.0  ...  1.7  3.7   \n",
       "1  PF  40.3  10.3  19.6  0.527  0.0  0.2  0.286  10.3  19.4  ...  2.9  8.9   \n",
       "2  SG  39.3   9.1  18.5  0.494  0.5  1.5  0.348   8.6  17.0  ...  1.9  4.0   \n",
       "3  PG  39.2   9.0  18.9  0.476  1.2  3.1  0.385   7.8  15.8  ...  1.1  3.0   \n",
       "4  SF  39.0   7.2  16.0  0.448  0.0  0.1  0.200   7.1  15.9  ...  2.3  4.9   \n",
       "\n",
       "    TRB  AST  STL  BLK  TOV   PF   PTS  isAllNBA  \n",
       "0   5.4  4.0  2.1  0.8  3.0  2.1  25.7         1  \n",
       "1  11.8  3.3  1.1  1.0  3.0  3.3  29.0         1  \n",
       "2   5.9  3.1  1.6  0.4  3.0  2.7  23.9         0  \n",
       "3   4.0  9.7  2.6  0.1  3.3  2.8  22.9         0  \n",
       "4   7.2  4.2  2.0  0.6  2.5  3.1  18.0         0  \n",
       "\n",
       "[5 rows x 25 columns]"
      ]
     },
     "execution_count": 2,
     "metadata": {},
     "output_type": "execute_result"
    }
   ],
   "source": [
    "my_data = pd.read_csv(\"1991_advanced.csv\")\n",
    "my_data.head()"
   ]
  },
  {
   "cell_type": "code",
   "execution_count": 3,
   "id": "6df7793a",
   "metadata": {},
   "outputs": [
    {
     "data": {
      "image/png": "[encoded data removed]",
      "text/plain": [
       "<Figure size 432x288 with 1 Axes>"
      ]
     },
     "metadata": {
      "needs_background": "light"
     },
     "output_type": "display_data"
    }
   ],
   "source": [
    "ax = my_data[my_data['isAllNBA'] == 1][0:50].plot(kind='scatter', x='MP', y='BPM', color='DarkBlue', label='All-NBA');\n",
    "my_data[my_data['isAllNBA'] == 0][0:50].plot(kind='scatter', x='MP', y='BPM', color='Yellow', label='not All-NBA', ax=ax);\n",
    "plt.show()"
   ]
  },
  {
   "cell_type": "markdown",
   "id": "14fa11c1",
   "metadata": {},
   "source": [
    "Data pre-processing and selection"
   ]
  },
  {
   "cell_type": "code",
   "execution_count": 4,
   "id": "50776755",
   "metadata": {},
   "outputs": [
    {
     "data": {
      "text/plain": [
       "array([[3, 40.4, 9.5, 17.7, 0.536, 0.5, 1.6, 0.301, 9.0, 16.0, 0.56,\n",
       "        0.55, 6.3, 7.1, 0.884, 1.7, 3.7, 5.4, 4.0, 2.1, 0.8, 3.0, 2.1,\n",
       "        25.7],\n",
       "       [1, 40.3, 10.3, 19.6, 0.527, 0.0, 0.2, 0.286, 10.3, 19.4, 0.529,\n",
       "        0.528, 8.3, 10.8, 0.77, 2.9, 8.9, 11.8, 3.3, 1.1, 1.0, 3.0, 3.3,\n",
       "        29.0],\n",
       "       [4, 39.3, 9.1, 18.5, 0.494, 0.5, 1.5, 0.348, 8.6, 17.0, 0.506,\n",
       "        0.508, 5.1, 6.0, 0.847, 1.9, 4.0, 5.9, 3.1, 1.6, 0.4, 3.0, 2.7,\n",
       "        23.9],\n",
       "       [2, 39.2, 9.0, 18.9, 0.476, 1.2, 3.1, 0.385, 7.8, 15.8, 0.494,\n",
       "        0.508, 3.7, 4.6, 0.803, 1.1, 3.0, 4.0, 9.7, 2.6, 0.1, 3.3, 2.8,\n",
       "        22.9],\n",
       "       [3, 39.0, 7.2, 16.0, 0.448, 0.0, 0.1, 0.2, 7.1, 15.9, 0.45, 0.449,\n",
       "        3.6, 4.5, 0.798, 2.3, 4.9, 7.2, 4.2, 2.0, 0.6, 2.5, 3.1, 18.0]],\n",
       "      dtype=object)"
      ]
     },
     "execution_count": 4,
     "metadata": {},
     "output_type": "execute_result"
    }
   ],
   "source": [
    "feature_df = my_data[['Pos', 'MP', 'FG', 'FGA', 'FG%', '3P', '3PA', '3P%', '2P', '2PA', '2P%', 'eFG%', 'FT', 'FTA', 'FT%', 'ORB', 'DRB', 'TRB', 'AST', 'STL', 'BLK', 'TOV', 'PF', 'PTS']].values\n",
    "le_pos = preprocessing.LabelEncoder()\n",
    "le_pos.fit(['PG','SG','SF','PF','C'])\n",
    "feature_df[:,0] = le_pos.transform(feature_df[:,0])\n",
    "X_train = np.asarray(feature_df)\n",
    "X_train[0:5]"
   ]
  },
  {
   "cell_type": "code",
   "execution_count": 5,
   "id": "89e4da35",
   "metadata": {},
   "outputs": [
    {
     "data": {
      "text/plain": [
       "array([1, 1, 0, 0, 0])"
      ]
     },
     "execution_count": 5,
     "metadata": {},
     "output_type": "execute_result"
    }
   ],
   "source": [
    "my_data['isAllNBA'] = my_data['isAllNBA'].astype('int')\n",
    "y_train = np.asarray(my_data['isAllNBA'])\n",
    "y_train [0:5]"
   ]
  },
  {
   "cell_type": "code",
   "execution_count": 6,
   "id": "b5b8c401",
   "metadata": {},
   "outputs": [
    {
     "data": {
      "text/html": [
       "<div>\n",
       "<style scoped>\n",
       "    .dataframe tbody tr th:only-of-type {\n",
       "        vertical-align: middle;\n",
       "    }\n",
       "\n",
       "    .dataframe tbody tr th {\n",
       "        vertical-align: top;\n",
       "    }\n",
       "\n",
       "    .dataframe thead th {\n",
       "        text-align: right;\n",
       "    }\n",
       "</style>\n",
       "<table border=\"1\" class=\"dataframe\">\n",
       "  <thead>\n",
       "    <tr style=\"text-align: right;\">\n",
       "      <th></th>\n",
       "      <th>Pos</th>\n",
       "      <th>MP</th>\n",
       "      <th>FG</th>\n",
       "      <th>FGA</th>\n",
       "      <th>FG%</th>\n",
       "      <th>3P</th>\n",
       "      <th>3PA</th>\n",
       "      <th>3P%</th>\n",
       "      <th>2P</th>\n",
       "      <th>2PA</th>\n",
       "      <th>...</th>\n",
       "      <th>ORB</th>\n",
       "      <th>DRB</th>\n",
       "      <th>TRB</th>\n",
       "      <th>AST</th>\n",
       "      <th>STL</th>\n",
       "      <th>BLK</th>\n",
       "      <th>TOV</th>\n",
       "      <th>PF</th>\n",
       "      <th>PTS</th>\n",
       "      <th>isAllNBA</th>\n",
       "    </tr>\n",
       "  </thead>\n",
       "  <tbody>\n",
       "    <tr>\n",
       "      <th>0</th>\n",
       "      <td>SF</td>\n",
       "      <td>41.3</td>\n",
       "      <td>10.2</td>\n",
       "      <td>19.6</td>\n",
       "      <td>0.524</td>\n",
       "      <td>0.8</td>\n",
       "      <td>2.2</td>\n",
       "      <td>0.366</td>\n",
       "      <td>9.5</td>\n",
       "      <td>17.4</td>\n",
       "      <td>...</td>\n",
       "      <td>1.6</td>\n",
       "      <td>4.0</td>\n",
       "      <td>5.6</td>\n",
       "      <td>3.5</td>\n",
       "      <td>2.1</td>\n",
       "      <td>0.8</td>\n",
       "      <td>2.5</td>\n",
       "      <td>2.1</td>\n",
       "      <td>25.6</td>\n",
       "      <td>1</td>\n",
       "    </tr>\n",
       "    <tr>\n",
       "      <th>1</th>\n",
       "      <td>PG</td>\n",
       "      <td>41.1</td>\n",
       "      <td>9.1</td>\n",
       "      <td>19.7</td>\n",
       "      <td>0.461</td>\n",
       "      <td>1.6</td>\n",
       "      <td>4.6</td>\n",
       "      <td>0.338</td>\n",
       "      <td>7.5</td>\n",
       "      <td>15.0</td>\n",
       "      <td>...</td>\n",
       "      <td>1.0</td>\n",
       "      <td>2.8</td>\n",
       "      <td>3.8</td>\n",
       "      <td>10.0</td>\n",
       "      <td>2.0</td>\n",
       "      <td>0.2</td>\n",
       "      <td>3.3</td>\n",
       "      <td>2.6</td>\n",
       "      <td>23.4</td>\n",
       "      <td>1</td>\n",
       "    </tr>\n",
       "    <tr>\n",
       "      <th>2</th>\n",
       "      <td>PF</td>\n",
       "      <td>40.3</td>\n",
       "      <td>4.2</td>\n",
       "      <td>7.7</td>\n",
       "      <td>0.539</td>\n",
       "      <td>0.4</td>\n",
       "      <td>1.2</td>\n",
       "      <td>0.317</td>\n",
       "      <td>3.8</td>\n",
       "      <td>6.5</td>\n",
       "      <td>...</td>\n",
       "      <td>6.4</td>\n",
       "      <td>12.3</td>\n",
       "      <td>18.7</td>\n",
       "      <td>2.3</td>\n",
       "      <td>0.8</td>\n",
       "      <td>0.9</td>\n",
       "      <td>1.7</td>\n",
       "      <td>3.0</td>\n",
       "      <td>9.8</td>\n",
       "      <td>1</td>\n",
       "    </tr>\n",
       "    <tr>\n",
       "      <th>3</th>\n",
       "      <td>SF</td>\n",
       "      <td>39.0</td>\n",
       "      <td>8.3</td>\n",
       "      <td>18.6</td>\n",
       "      <td>0.447</td>\n",
       "      <td>0.2</td>\n",
       "      <td>0.8</td>\n",
       "      <td>0.209</td>\n",
       "      <td>8.2</td>\n",
       "      <td>17.9</td>\n",
       "      <td>...</td>\n",
       "      <td>1.8</td>\n",
       "      <td>3.8</td>\n",
       "      <td>5.6</td>\n",
       "      <td>4.7</td>\n",
       "      <td>1.4</td>\n",
       "      <td>0.4</td>\n",
       "      <td>2.4</td>\n",
       "      <td>1.6</td>\n",
       "      <td>19.9</td>\n",
       "      <td>0</td>\n",
       "    </tr>\n",
       "    <tr>\n",
       "      <th>4</th>\n",
       "      <td>SG</td>\n",
       "      <td>38.9</td>\n",
       "      <td>7.2</td>\n",
       "      <td>16.0</td>\n",
       "      <td>0.448</td>\n",
       "      <td>0.6</td>\n",
       "      <td>1.5</td>\n",
       "      <td>0.408</td>\n",
       "      <td>6.6</td>\n",
       "      <td>14.5</td>\n",
       "      <td>...</td>\n",
       "      <td>1.0</td>\n",
       "      <td>1.3</td>\n",
       "      <td>2.3</td>\n",
       "      <td>4.6</td>\n",
       "      <td>0.9</td>\n",
       "      <td>0.1</td>\n",
       "      <td>2.4</td>\n",
       "      <td>1.8</td>\n",
       "      <td>19.9</td>\n",
       "      <td>0</td>\n",
       "    </tr>\n",
       "  </tbody>\n",
       "</table>\n",
       "<p>5 rows × 25 columns</p>\n",
       "</div>"
      ],
      "text/plain": [
       "  Pos    MP    FG   FGA    FG%   3P  3PA    3P%   2P   2PA  ...  ORB   DRB  \\\n",
       "0  SF  41.3  10.2  19.6  0.524  0.8  2.2  0.366  9.5  17.4  ...  1.6   4.0   \n",
       "1  PG  41.1   9.1  19.7  0.461  1.6  4.6  0.338  7.5  15.0  ...  1.0   2.8   \n",
       "2  PF  40.3   4.2   7.7  0.539  0.4  1.2  0.317  3.8   6.5  ...  6.4  12.3   \n",
       "3  SF  39.0   8.3  18.6  0.447  0.2  0.8  0.209  8.2  17.9  ...  1.8   3.8   \n",
       "4  SG  38.9   7.2  16.0  0.448  0.6  1.5  0.408  6.6  14.5  ...  1.0   1.3   \n",
       "\n",
       "    TRB   AST  STL  BLK  TOV   PF   PTS  isAllNBA  \n",
       "0   5.6   3.5  2.1  0.8  2.5  2.1  25.6         1  \n",
       "1   3.8  10.0  2.0  0.2  3.3  2.6  23.4         1  \n",
       "2  18.7   2.3  0.8  0.9  1.7  3.0   9.8         1  \n",
       "3   5.6   4.7  1.4  0.4  2.4  1.6  19.9         0  \n",
       "4   2.3   4.6  0.9  0.1  2.4  1.8  19.9         0  \n",
       "\n",
       "[5 rows x 25 columns]"
      ]
     },
     "execution_count": 6,
     "metadata": {},
     "output_type": "execute_result"
    }
   ],
   "source": [
    "my_data2 = pd.read_csv(\"1992_stats.csv\")\n",
    "my_data2.head()"
   ]
  },
  {
   "cell_type": "code",
   "execution_count": 7,
   "id": "939203c4",
   "metadata": {},
   "outputs": [
    {
     "data": {
      "text/plain": [
       "array([[3, 41.3, 10.2, 19.6, 0.524, 0.8, 2.2, 0.366, 9.5, 17.4, 0.544,\n",
       "        0.544, 4.3, 5.2, 0.833, 1.6, 4.0, 5.6, 3.5, 2.1, 0.8, 2.5, 2.1,\n",
       "        25.6],\n",
       "       [2, 41.1, 9.1, 19.7, 0.461, 1.6, 4.6, 0.338, 7.5, 15.0, 0.499,\n",
       "        0.501, 3.7, 4.8, 0.766, 1.0, 2.8, 3.8, 10.0, 2.0, 0.2, 3.3, 2.6,\n",
       "        23.4],\n",
       "       [1, 40.3, 4.2, 7.7, 0.539, 0.4, 1.2, 0.317, 3.8, 6.5, 0.581,\n",
       "        0.564, 1.0, 1.7, 0.6, 6.4, 12.3, 18.7, 2.3, 0.8, 0.9, 1.7, 3.0,\n",
       "        9.8],\n",
       "       [3, 39.0, 8.3, 18.6, 0.447, 0.2, 0.8, 0.209, 8.2, 17.9, 0.457,\n",
       "        0.451, 3.1, 3.8, 0.814, 1.8, 3.8, 5.6, 4.7, 1.4, 0.4, 2.4, 1.6,\n",
       "        19.9],\n",
       "       [4, 38.9, 7.2, 16.0, 0.448, 0.6, 1.5, 0.408, 6.6, 14.5, 0.452,\n",
       "        0.466, 5.0, 5.8, 0.867, 1.0, 1.3, 2.3, 4.6, 0.9, 0.1, 2.4, 1.8,\n",
       "        19.9]], dtype=object)"
      ]
     },
     "execution_count": 7,
     "metadata": {},
     "output_type": "execute_result"
    }
   ],
   "source": [
    "feature_df2 = my_data2[['Pos', 'MP', 'FG', 'FGA', 'FG%', '3P', '3PA', '3P%', '2P', '2PA', '2P%', 'eFG%', 'FT', 'FTA', 'FT%', 'ORB', 'DRB', 'TRB', 'AST', 'STL', 'BLK', 'TOV', 'PF', 'PTS']].values\n",
    "le_pos2 = preprocessing.LabelEncoder()\n",
    "le_pos2.fit(['PG','SG','SF','PF','C'])\n",
    "feature_df2[:,0] = le_pos2.transform(feature_df2[:,0])\n",
    "X_test = np.asarray(feature_df2)\n",
    "X_test[0:5]"
   ]
  },
  {
   "cell_type": "code",
   "execution_count": 8,
   "id": "62d7a728",
   "metadata": {},
   "outputs": [
    {
     "data": {
      "text/plain": [
       "array([1, 1, 1, 0, 0])"
      ]
     },
     "execution_count": 8,
     "metadata": {},
     "output_type": "execute_result"
    }
   ],
   "source": [
    "my_data2['isAllNBA'] = my_data2['isAllNBA'].astype('int')\n",
    "y_test = np.asarray(my_data2['isAllNBA'])\n",
    "y_test [0:5]"
   ]
  },
  {
   "cell_type": "markdown",
   "id": "6f0fea21",
   "metadata": {},
   "source": [
    "Modeling"
   ]
  },
  {
   "cell_type": "code",
   "execution_count": 9,
   "id": "7e4ccf80",
   "metadata": {},
   "outputs": [
    {
     "data": {
      "text/plain": [
       "SVC()"
      ]
     },
     "execution_count": 9,
     "metadata": {},
     "output_type": "execute_result"
    }
   ],
   "source": [
    "from sklearn import svm\n",
    "clf = svm.SVC(kernel='rbf')\n",
    "clf.fit(X_train, y_train) "
   ]
  },
  {
   "cell_type": "code",
   "execution_count": 10,
   "id": "199522f2",
   "metadata": {},
   "outputs": [
    {
     "data": {
      "text/plain": [
       "array([0, 0, 0, 0, 0])"
      ]
     },
     "execution_count": 10,
     "metadata": {},
     "output_type": "execute_result"
    }
   ],
   "source": [
    "yhat = clf.predict(X_test)\n",
    "yhat [0:5]"
   ]
  },
  {
   "cell_type": "markdown",
   "id": "b07efaab",
   "metadata": {},
   "source": [
    "Evaluation"
   ]
  },
  {
   "cell_type": "code",
   "execution_count": 11,
   "id": "666b7c5d",
   "metadata": {},
   "outputs": [],
   "source": [
    "from sklearn.metrics import classification_report, confusion_matrix\n",
    "import itertools"
   ]
  },
  {
   "cell_type": "code",
   "execution_count": 12,
   "id": "9d19f8cb",
   "metadata": {},
   "outputs": [],
   "source": [
    "def plot_confusion_matrix(cm, classes,\n",
    "                          normalize=False,\n",
    "                          title='Confusion matrix',\n",
    "                          cmap=plt.cm.Blues):\n",
    "    \"\"\"\n",
    "    This function prints and plots the confusion matrix.\n",
    "    Normalization can be applied by setting `normalize=True`.\n",
    "    \"\"\"\n",
    "    if normalize:\n",
    "        cm = cm.astype('float') / cm.sum(axis=1)[:, np.newaxis]\n",
    "        print(\"Normalized confusion matrix\")\n",
    "    else:\n",
    "        print('Confusion matrix, without normalization')\n",
    "\n",
    "    print(cm)\n",
    "\n",
    "    plt.imshow(cm, interpolation='nearest', cmap=cmap)\n",
    "    plt.title(title)\n",
    "    plt.colorbar()\n",
    "    tick_marks = np.arange(len(classes))\n",
    "    plt.xticks(tick_marks, classes, rotation=45)\n",
    "    plt.yticks(tick_marks, classes)\n",
    "\n",
    "    fmt = '.2f' if normalize else 'd'\n",
    "    thresh = cm.max() / 2.\n",
    "    for i, j in itertools.product(range(cm.shape[0]), range(cm.shape[1])):\n",
    "        plt.text(j, i, format(cm[i, j], fmt),\n",
    "                 horizontalalignment=\"center\",\n",
    "                 color=\"white\" if cm[i, j] > thresh else \"black\")\n",
    "\n",
    "    plt.tight_layout()\n",
    "    plt.ylabel('True label')\n",
    "    plt.xlabel('Predicted label')"
   ]
  },
  {
   "cell_type": "code",
   "execution_count": 13,
   "id": "09d197a9",
   "metadata": {},
   "outputs": [
    {
     "name": "stdout",
     "output_type": "stream",
     "text": [
      "              precision    recall  f1-score   support\n",
      "\n",
      "           0       0.91      1.00      0.95       135\n",
      "           1       1.00      0.13      0.24        15\n",
      "\n",
      "    accuracy                           0.91       150\n",
      "   macro avg       0.96      0.57      0.59       150\n",
      "weighted avg       0.92      0.91      0.88       150\n",
      "\n",
      "Confusion matrix, without normalization\n",
      "[[135   0]\n",
      " [ 13   2]]\n"
     ]
    },
    {
     "data": {
      "image/png": "[encoded data removed]",
      "text/plain": [
       "<Figure size 432x288 with 2 Axes>"
      ]
     },
     "metadata": {
      "needs_background": "light"
     },
     "output_type": "display_data"
    }
   ],
   "source": [
    "# Compute confusion matrix\n",
    "cnf_matrix = confusion_matrix(y_test, yhat, labels=[0,1])\n",
    "np.set_printoptions(precision=2)\n",
    "\n",
    "print (classification_report(y_test, yhat))\n",
    "\n",
    "# Plot non-normalized confusion matrix\n",
    "plt.figure()\n",
    "plot_confusion_matrix(cnf_matrix, classes=['Not All-NBA(0)','All-NBA(1)'],normalize= False,  title='Confusion matrix')"
   ]
  },
  {
   "cell_type": "code",
   "execution_count": 14,
   "id": "10f64eff",
   "metadata": {},
   "outputs": [
    {
     "data": {
      "text/plain": [
       "0.8821866555809602"
      ]
     },
     "execution_count": 14,
     "metadata": {},
     "output_type": "execute_result"
    }
   ],
   "source": [
    "from sklearn.metrics import f1_score\n",
    "f1_score(y_test, yhat, average='weighted') "
   ]
  },
  {
   "cell_type": "code",
   "execution_count": 15,
   "id": "06619b81",
   "metadata": {},
   "outputs": [
    {
     "data": {
      "text/plain": [
       "0.9121621621621622"
      ]
     },
     "execution_count": 15,
     "metadata": {},
     "output_type": "execute_result"
    }
   ],
   "source": [
    "from sklearn.metrics import jaccard_score\n",
    "jaccard_score(y_test, yhat,pos_label=0)"
   ]
  },
  {
   "cell_type": "code",
   "execution_count": 16,
   "id": "3446b7ca",
   "metadata": {},
   "outputs": [
    {
     "name": "stdout",
     "output_type": "stream",
     "text": [
      "              precision    recall  f1-score   support\n",
      "\n",
      "           0       0.91      1.00      0.95       135\n",
      "           1       1.00      0.13      0.24        15\n",
      "\n",
      "    accuracy                           0.91       150\n",
      "   macro avg       0.96      0.57      0.59       150\n",
      "weighted avg       0.92      0.91      0.88       150\n",
      "\n",
      "Confusion matrix, without normalization\n",
      "[[135   0]\n",
      " [ 13   2]]\n",
      "Avg F1-score: 0.8822\n",
      "Jaccard score: 0.9122\n"
     ]
    },
    {
     "data": {
      "image/png": "[encoded data removed]",
      "text/plain": [
       "<Figure size 432x288 with 2 Axes>"
      ]
     },
     "metadata": {
      "needs_background": "light"
     },
     "output_type": "display_data"
    }
   ],
   "source": [
    "from sklearn import svm\n",
    "clf2 = svm.SVC(kernel='linear')\n",
    "clf2.fit(X_train, y_train) \n",
    "yhat2 = clf.predict(X_test)\n",
    "yhat2 [0:5]\n",
    "cnf_matrix = confusion_matrix(y_test, yhat2, labels=[0, 1])\n",
    "np.set_printoptions(precision=2)\n",
    "print (classification_report(y_test, yhat2))\n",
    "plt.figure()\n",
    "plot_confusion_matrix(cnf_matrix, classes=['Not All-NBA(0)','All-NBA(1)'],normalize= False,  title='Confusion matrix')\n",
    "print(\"Avg F1-score: %.4f\" % f1_score(y_test, yhat2, average='weighted'))\n",
    "print(\"Jaccard score: %.4f\" % jaccard_score(y_test, yhat2,pos_label=0))"
   ]
  },
  {
   "cell_type": "code",
   "execution_count": 17,
   "id": "707b87d3",
   "metadata": {},
   "outputs": [
    {
     "data": {
      "text/plain": [
       "array([0, 0, 0, 0, 0, 1, 0, 0, 0, 0, 0, 0, 0, 0, 0, 0, 0, 1, 0, 0, 0, 0,\n",
       "       0, 0, 0, 0, 0, 0, 0, 0, 0, 0, 0, 0, 0, 0, 0, 0, 0, 0, 0, 0, 0, 0,\n",
       "       0, 0, 0, 0, 0, 0, 0, 0, 0, 0, 0, 0, 0, 0, 0, 0, 0, 0, 0, 0, 0, 0,\n",
       "       0, 0, 0, 0, 0, 0, 0, 0, 0, 0, 0, 0, 0, 0, 0, 0, 0, 0, 0, 0, 0, 0,\n",
       "       0, 0, 0, 0, 0, 0, 0, 0, 0, 0, 0, 0])"
      ]
     },
     "execution_count": 17,
     "metadata": {},
     "output_type": "execute_result"
    }
   ],
   "source": [
    "yhat[0:100]"
   ]
  },
  {
   "cell_type": "code",
   "execution_count": 18,
   "id": "3d0e24b7",
   "metadata": {},
   "outputs": [
    {
     "data": {
      "text/plain": [
       "array([0, 0, 0, 0, 0, 1, 0, 0, 0, 0, 0, 0, 0, 0, 0, 0, 0, 1, 0, 0, 0, 0,\n",
       "       0, 0, 0, 0, 0, 0, 0, 0, 0, 0, 0, 0, 0, 0, 0, 0, 0, 0, 0, 0, 0, 0,\n",
       "       0, 0, 0, 0, 0, 0, 0, 0, 0, 0, 0, 0, 0, 0, 0, 0, 0, 0, 0, 0, 0, 0,\n",
       "       0, 0, 0, 0, 0, 0, 0, 0, 0, 0, 0, 0, 0, 0, 0, 0, 0, 0, 0, 0, 0, 0,\n",
       "       0, 0, 0, 0, 0, 0, 0, 0, 0, 0, 0, 0])"
      ]
     },
     "execution_count": 18,
     "metadata": {},
     "output_type": "execute_result"
    }
   ],
   "source": [
    "yhat2[0:100]"
   ]
  },
  {
   "cell_type": "code",
   "execution_count": null,
   "id": "bb1022db",
   "metadata": {},
   "outputs": [],
   "source": []
  }
 ],
 "metadata": {
  "kernelspec": {
   "display_name": "Python 3 (ipykernel)",
   "language": "python",
   "name": "python3"
  },
  "language_info": {
   "codemirror_mode": {
    "name": "ipython",
    "version": 3
   },
   "file_extension": ".py",
   "mimetype": "text/x-python",
   "name": "python",
   "nbconvert_exporter": "python",
   "pygments_lexer": "ipython3",
   "version": "3.9.7"
  }
 },
 "nbformat": 4,
 "nbformat_minor": 5
}
