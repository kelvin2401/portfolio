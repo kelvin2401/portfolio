{
  "nbformat": 4,
  "nbformat_minor": 0,
  "metadata": {
    "colab": {
      "name": "FP_Kelompok2.ipynb",
      "provenance": [],
      "collapsed_sections": []
    },
    "kernelspec": {
      "name": "python3",
      "display_name": "Python 3"
    },
    "language_info": {
      "name": "python"
    }
  },
  "cells": [
    {
      "cell_type": "code",
      "execution_count": 36,
      "metadata": {
        "id": "AT9pEkFibk1M"
      },
      "outputs": [],
      "source": [
        "import pandas as pd\n",
        "import numpy as np\n",
        "import matplotlib.pyplot as plt\n",
        "import seaborn as sns\n",
        "from sklearn.feature_extraction.text import CountVectorizer\n",
        "from sklearn.feature_extraction.text import TfidfVectorizer\n",
        "from sklearn.model_selection import train_test_split"
      ]
    },
    {
      "cell_type": "code",
      "source": [
        "df = pd.read_csv('https://raw.githubusercontent.com/kelvin2401/fpdatmin/main/Reviews2.csv')"
      ],
      "metadata": {
        "id": "SZByj9ql_UoR"
      },
      "execution_count": 37,
      "outputs": []
    },
    {
      "cell_type": "code",
      "source": [
        "df.dtypes"
      ],
      "metadata": {
        "colab": {
          "base_uri": "https://localhost:8080/"
        },
        "id": "yWoJg1QLABfp",
        "outputId": "3331c04b-3f6b-4ff5-9035-9a0aa7ebfe30"
      },
      "execution_count": 38,
      "outputs": [
        {
          "output_type": "execute_result",
          "data": {
            "text/plain": [
              "Score       int64\n",
              "Summary    object\n",
              "dtype: object"
            ]
          },
          "metadata": {},
          "execution_count": 38
        }
      ]
    },
    {
      "cell_type": "code",
      "source": [
        "plt.figure(figsize=(15, 8))\n",
        "sns.countplot(x=df['Score'], edgecolor='black', saturation=0.55)\n",
        "plt.show()"
      ],
      "metadata": {
        "colab": {
          "base_uri": "https://localhost:8080/",
          "height": 497
        },
        "id": "yyechXaLhmV1",
        "outputId": "ea0cebb6-1676-4ad7-8bca-fdde368aa88f"
      },
      "execution_count": 39,
      "outputs": [
        {
          "output_type": "display_data",
          "data": {
            "text/plain": [
              "<Figure size 1080x576 with 1 Axes>"
            ],
            "image/png": "[encoded data removed]"
          },
          "metadata": {
            "needs_background": "light"
          }
        }
      ]
    },
    {
      "cell_type": "code",
      "source": [
        "df.isnull().sum()"
      ],
      "metadata": {
        "colab": {
          "base_uri": "https://localhost:8080/"
        },
        "id": "6fiJ6hYotRYh",
        "outputId": "b4e44bf1-6fae-4c2a-e7c4-ef075abe0c26"
      },
      "execution_count": 40,
      "outputs": [
        {
          "output_type": "execute_result",
          "data": {
            "text/plain": [
              "Score       0\n",
              "Summary    27\n",
              "dtype: int64"
            ]
          },
          "metadata": {},
          "execution_count": 40
        }
      ]
    },
    {
      "cell_type": "code",
      "source": [
        "df = df.dropna()"
      ],
      "metadata": {
        "id": "vyT80puStZVX"
      },
      "execution_count": 41,
      "outputs": []
    },
    {
      "cell_type": "code",
      "source": [
        "df = df.sample(n=10000)"
      ],
      "metadata": {
        "id": "Dl19Z1Cqsbwv"
      },
      "execution_count": 42,
      "outputs": []
    },
    {
      "cell_type": "code",
      "source": [
        "df['Summary'] = df['Summary'].astype(str)"
      ],
      "metadata": {
        "id": "STq9NziPFqqA"
      },
      "execution_count": 43,
      "outputs": []
    },
    {
      "cell_type": "code",
      "source": [
        "import nltk\n",
        "from nltk.stem import PorterStemmer\n",
        "from nltk.tokenize import sent_tokenize, word_tokenize\n",
        "import re\n",
        "import string\n",
        "def text_cleaning(text):\n",
        "    '''\n",
        "    Make text lowercase, remove text in square brackets,remove links,remove special characters\n",
        "    and remove words containing numbers.\n",
        "    '''\n",
        "    text = text.lower()\n",
        "    text = re.sub('\\[.*?\\]', '', text)\n",
        "    text = re.sub(\"\\\\W\",\" \",text) # remove special chars\n",
        "    text = re.sub('https?://\\S+|www\\.\\S+', '', text)\n",
        "    text = re.sub('<.*?>+', '', text)\n",
        "    text = re.sub('[%s]' % re.escape(string.punctuation), '', text)\n",
        "    text = re.sub('\\n', '', text)\n",
        "    text = re.sub('\\w*\\d\\w*', '', text)\n",
        "    \n",
        "    return text"
      ],
      "metadata": {
        "id": "caCxCyplD2a4"
      },
      "execution_count": 44,
      "outputs": []
    },
    {
      "cell_type": "code",
      "source": [
        "df['Summary']=df['Summary'].apply(text_cleaning)"
      ],
      "metadata": {
        "id": "YFrMhsLND5cy"
      },
      "execution_count": 45,
      "outputs": []
    },
    {
      "cell_type": "code",
      "source": [
        "df"
      ],
      "metadata": {
        "colab": {
          "base_uri": "https://localhost:8080/",
          "height": 424
        },
        "id": "9jUqKJD-D8cK",
        "outputId": "2582e5b9-cc47-4624-ba6e-527de4c7d988"
      },
      "execution_count": 46,
      "outputs": [
        {
          "output_type": "execute_result",
          "data": {
            "text/plain": [
              "        Score                                            Summary\n",
              "14598       4                            tastes a little grind y\n",
              "100169      5  i searched high and low until i found mrs  gra...\n",
              "394005      5                                          excellent\n",
              "566014      5                      one of the best protein bars \n",
              "67816       4                                       i like them \n",
              "...       ...                                                ...\n",
              "485387      5                                          favorite \n",
              "279384      3                                      chai low carb\n",
              "457642      5    great taste  fast shipping    excellent seller \n",
              "19525       5                          all of our dogs love this\n",
              "168962      5                                     great product \n",
              "\n",
              "[10000 rows x 2 columns]"
            ],
            "text/html": [
              "\n",
              "  <div id=\"df-81258d5a-e404-4e05-8ec6-87b5328f62b0\">\n",
              "    <div class=\"colab-df-container\">\n",
              "      <div>\n",
              "<style scoped>\n",
              "    .dataframe tbody tr th:only-of-type {\n",
              "        vertical-align: middle;\n",
              "    }\n",
              "\n",
              "    .dataframe tbody tr th {\n",
              "        vertical-align: top;\n",
              "    }\n",
              "\n",
              "    .dataframe thead th {\n",
              "        text-align: right;\n",
              "    }\n",
              "</style>\n",
              "<table border=\"1\" class=\"dataframe\">\n",
              "  <thead>\n",
              "    <tr style=\"text-align: right;\">\n",
              "      <th></th>\n",
              "      <th>Score</th>\n",
              "      <th>Summary</th>\n",
              "    </tr>\n",
              "  </thead>\n",
              "  <tbody>\n",
              "    <tr>\n",
              "      <th>14598</th>\n",
              "      <td>4</td>\n",
              "      <td>tastes a little grind y</td>\n",
              "    </tr>\n",
              "    <tr>\n",
              "      <th>100169</th>\n",
              "      <td>5</td>\n",
              "      <td>i searched high and low until i found mrs  gra...</td>\n",
              "    </tr>\n",
              "    <tr>\n",
              "      <th>394005</th>\n",
              "      <td>5</td>\n",
              "      <td>excellent</td>\n",
              "    </tr>\n",
              "    <tr>\n",
              "      <th>566014</th>\n",
              "      <td>5</td>\n",
              "      <td>one of the best protein bars</td>\n",
              "    </tr>\n",
              "    <tr>\n",
              "      <th>67816</th>\n",
              "      <td>4</td>\n",
              "      <td>i like them</td>\n",
              "    </tr>\n",
              "    <tr>\n",
              "      <th>...</th>\n",
              "      <td>...</td>\n",
              "      <td>...</td>\n",
              "    </tr>\n",
              "    <tr>\n",
              "      <th>485387</th>\n",
              "      <td>5</td>\n",
              "      <td>favorite</td>\n",
              "    </tr>\n",
              "    <tr>\n",
              "      <th>279384</th>\n",
              "      <td>3</td>\n",
              "      <td>chai low carb</td>\n",
              "    </tr>\n",
              "    <tr>\n",
              "      <th>457642</th>\n",
              "      <td>5</td>\n",
              "      <td>great taste  fast shipping    excellent seller</td>\n",
              "    </tr>\n",
              "    <tr>\n",
              "      <th>19525</th>\n",
              "      <td>5</td>\n",
              "      <td>all of our dogs love this</td>\n",
              "    </tr>\n",
              "    <tr>\n",
              "      <th>168962</th>\n",
              "      <td>5</td>\n",
              "      <td>great product</td>\n",
              "    </tr>\n",
              "  </tbody>\n",
              "</table>\n",
              "<p>10000 rows × 2 columns</p>\n",
              "</div>\n",
              "      <button class=\"colab-df-convert\" onclick=\"convertToInteractive('df-81258d5a-e404-4e05-8ec6-87b5328f62b0')\"\n",
              "              title=\"Convert this dataframe to an interactive table.\"\n",
              "              style=\"display:none;\">\n",
              "        \n",
              "  <svg xmlns=\"http://www.w3.org/2000/svg\" height=\"24px\"viewBox=\"0 0 24 24\"\n",
              "       width=\"24px\">\n",
              "    <path d=\"M0 0h24v24H0V0z\" fill=\"none\"/>\n",
              "    <path d=\"M18.56 5.44l.94 2.06.94-2.06 2.06-.94-2.06-.94-.94-2.06-.94 2.06-2.06.94zm-11 1L8.5 8.5l.94-2.06 2.06-.94-2.06-.94L8.5 2.5l-.94 2.06-2.06.94zm10 10l.94 2.06.94-2.06 2.06-.94-2.06-.94-.94-2.06-.94 2.06-2.06.94z\"/><path d=\"M17.41 7.96l-1.37-1.37c-.4-.4-.92-.59-1.43-.59-.52 0-1.04.2-1.43.59L10.3 9.45l-7.72 7.72c-.78.78-.78 2.05 0 2.83L4 21.41c.39.39.9.59 1.41.59.51 0 1.02-.2 1.41-.59l7.78-7.78 2.81-2.81c.8-.78.8-2.07 0-2.86zM5.41 20L4 18.59l7.72-7.72 1.47 1.35L5.41 20z\"/>\n",
              "  </svg>\n",
              "      </button>\n",
              "      \n",
              "  <style>\n",
              "    .colab-df-container {\n",
              "      display:flex;\n",
              "      flex-wrap:wrap;\n",
              "      gap: 12px;\n",
              "    }\n",
              "\n",
              "    .colab-df-convert {\n",
              "      background-color: #E8F0FE;\n",
              "      border: none;\n",
              "      border-radius: 50%;\n",
              "      cursor: pointer;\n",
              "      display: none;\n",
              "      fill: #1967D2;\n",
              "      height: 32px;\n",
              "      padding: 0 0 0 0;\n",
              "      width: 32px;\n",
              "    }\n",
              "\n",
              "    .colab-df-convert:hover {\n",
              "      background-color: #E2EBFA;\n",
              "      box-shadow: 0px 1px 2px rgba(60, 64, 67, 0.3), 0px 1px 3px 1px rgba(60, 64, 67, 0.15);\n",
              "      fill: #174EA6;\n",
              "    }\n",
              "\n",
              "    [theme=dark] .colab-df-convert {\n",
              "      background-color: #3B4455;\n",
              "      fill: #D2E3FC;\n",
              "    }\n",
              "\n",
              "    [theme=dark] .colab-df-convert:hover {\n",
              "      background-color: #434B5C;\n",
              "      box-shadow: 0px 1px 3px 1px rgba(0, 0, 0, 0.15);\n",
              "      filter: drop-shadow(0px 1px 2px rgba(0, 0, 0, 0.3));\n",
              "      fill: #FFFFFF;\n",
              "    }\n",
              "  </style>\n",
              "\n",
              "      <script>\n",
              "        const buttonEl =\n",
              "          document.querySelector('#df-81258d5a-e404-4e05-8ec6-87b5328f62b0 button.colab-df-convert');\n",
              "        buttonEl.style.display =\n",
              "          google.colab.kernel.accessAllowed ? 'block' : 'none';\n",
              "\n",
              "        async function convertToInteractive(key) {\n",
              "          const element = document.querySelector('#df-81258d5a-e404-4e05-8ec6-87b5328f62b0');\n",
              "          const dataTable =\n",
              "            await google.colab.kernel.invokeFunction('convertToInteractive',\n",
              "                                                     [key], {});\n",
              "          if (!dataTable) return;\n",
              "\n",
              "          const docLinkHtml = 'Like what you see? Visit the ' +\n",
              "            '<a target=\"_blank\" href=https://colab.research.google.com/notebooks/data_table.ipynb>data table notebook</a>'\n",
              "            + ' to learn more about interactive tables.';\n",
              "          element.innerHTML = '';\n",
              "          dataTable['output_type'] = 'display_data';\n",
              "          await google.colab.output.renderOutput(dataTable, element);\n",
              "          const docLink = document.createElement('div');\n",
              "          docLink.innerHTML = docLinkHtml;\n",
              "          element.appendChild(docLink);\n",
              "        }\n",
              "      </script>\n",
              "    </div>\n",
              "  </div>\n",
              "  "
            ]
          },
          "metadata": {},
          "execution_count": 46
        }
      ]
    },
    {
      "cell_type": "code",
      "source": [
        "y=df['Score']\n",
        "x=df['Summary']"
      ],
      "metadata": {
        "id": "zE3wAs6OF3Uj"
      },
      "execution_count": 47,
      "outputs": []
    },
    {
      "cell_type": "code",
      "source": [
        "from sklearn.model_selection import train_test_split\n",
        "x_train,x_test,y_train,y_test=train_test_split(x,y,random_state=0,test_size=0.2)"
      ],
      "metadata": {
        "id": "zcx_0d0JF-hn"
      },
      "execution_count": 48,
      "outputs": []
    },
    {
      "cell_type": "code",
      "source": [
        "from sklearn.linear_model import LogisticRegression\n",
        "from sklearn.feature_extraction.text import CountVectorizer\n",
        "from sklearn.feature_extraction.text import TfidfTransformer\n",
        "count_vect = CountVectorizer(ngram_range=(1,2),stop_words='english')\n",
        "X_train_counts = count_vect.fit_transform(x_train) \n",
        "tfidf_transformer = TfidfTransformer()\n",
        "X_train_tfidf = tfidf_transformer.fit_transform(X_train_counts)\n",
        "X_new_counts = count_vect.transform(x_test)\n",
        "X_test_tfidf = tfidf_transformer.transform(X_new_counts)\n",
        "lr=LogisticRegression(max_iter=100000)"
      ],
      "metadata": {
        "id": "-33xdmNHGC1l"
      },
      "execution_count": 49,
      "outputs": []
    },
    {
      "cell_type": "code",
      "source": [
        "from sklearn.metrics import accuracy_score\n",
        "lr.fit(X_train_tfidf,y_train)\n",
        "pred_1=lr.predict(X_test_tfidf)"
      ],
      "metadata": {
        "id": "E9VjKhwPGE16"
      },
      "execution_count": 55,
      "outputs": []
    },
    {
      "cell_type": "code",
      "source": [
        "import itertools\n",
        "def plot_confusion_matrix(cm, classes,\n",
        "                          normalize=False,\n",
        "                          title='Confusion matrix',\n",
        "                          cmap=plt.cm.Blues):\n",
        "    \"\"\"\n",
        "    This function prints and plots the confusion matrix.\n",
        "    Normalization can be applied by setting `normalize=True`.\n",
        "    \"\"\"\n",
        "    if normalize:\n",
        "        cm = cm.astype('float') / cm.sum(axis=1)[:, np.newaxis]\n",
        "        print(\"Normalized confusion matrix\")\n",
        "    else:\n",
        "        print('Confusion matrix, without normalization')\n",
        "\n",
        "    print(cm)\n",
        "\n",
        "    plt.imshow(cm, interpolation='nearest', cmap=cmap)\n",
        "    plt.title(title)\n",
        "    plt.colorbar()\n",
        "    tick_marks = np.arange(len(classes))\n",
        "    plt.xticks(tick_marks, classes, rotation=45)\n",
        "    plt.yticks(tick_marks, classes)\n",
        "\n",
        "    fmt = '.2f' if normalize else 'd'\n",
        "    thresh = cm.max() / 2.\n",
        "    for i, j in itertools.product(range(cm.shape[0]), range(cm.shape[1])):\n",
        "        plt.text(j, i, format(cm[i, j], fmt),\n",
        "                 horizontalalignment=\"center\",\n",
        "                 color=\"white\" if cm[i, j] > thresh else \"black\")\n",
        "\n",
        "    plt.tight_layout()\n",
        "    plt.ylabel('True label')\n",
        "    plt.xlabel('Predicted label')"
      ],
      "metadata": {
        "id": "pIU8OuBcGHMf"
      },
      "execution_count": 56,
      "outputs": []
    },
    {
      "cell_type": "code",
      "source": [
        "from sklearn.metrics import classification_report, confusion_matrix\n",
        "# Compute confusion matrix\n",
        "cnf_matrix = confusion_matrix(y_test, pred_1, labels=[1,2,3,4,5])\n",
        "np.set_printoptions(precision=2)\n",
        "\n",
        "print (classification_report(y_test, pred_1))\n",
        "\n",
        "# Plot non-normalized confusion matrix\n",
        "plt.figure()\n",
        "plot_confusion_matrix(cnf_matrix, classes=['1','2','3','4','5'],normalize= False,  title='Confusion matrix')"
      ],
      "metadata": {
        "colab": {
          "base_uri": "https://localhost:8080/",
          "height": 639
        },
        "id": "Vx6nV-9veUmJ",
        "outputId": "1b295051-345a-4842-dc74-45b3500a2138"
      },
      "execution_count": 57,
      "outputs": [
        {
          "output_type": "stream",
          "name": "stdout",
          "text": [
            "              precision    recall  f1-score   support\n",
            "\n",
            "           1       0.61      0.23      0.34       168\n",
            "           2       0.44      0.10      0.17       106\n",
            "           3       0.67      0.12      0.21       129\n",
            "           4       0.34      0.08      0.12       279\n",
            "           5       0.71      0.98      0.82      1318\n",
            "\n",
            "    accuracy                           0.69      2000\n",
            "   macro avg       0.55      0.30      0.33      2000\n",
            "weighted avg       0.63      0.69      0.61      2000\n",
            "\n",
            "Confusion matrix, without normalization\n",
            "[[  39    6    4    4  115]\n",
            " [  13   11    3    6   73]\n",
            " [   4    5   16   10   94]\n",
            " [   1    1    1   21  255]\n",
            " [   7    2    0   20 1289]]\n"
          ]
        },
        {
          "output_type": "display_data",
          "data": {
            "text/plain": [
              "<Figure size 432x288 with 2 Axes>"
            ],
            "image/png": "[encoded data removed]"
          },
          "metadata": {
            "needs_background": "light"
          }
        }
      ]
    },
    {
      "cell_type": "code",
      "source": [
        "from sklearn.naive_bayes import MultinomialNB\n",
        "naive_bayes = MultinomialNB()\n",
        "naive_bayes.fit(X_train_tfidf , y_train)\n",
        " \n",
        "#Predict on test data\n",
        "pred_mulnb = naive_bayes.predict(X_test_tfidf)"
      ],
      "metadata": {
        "id": "G1RQRtk4gtwH"
      },
      "execution_count": 59,
      "outputs": []
    },
    {
      "cell_type": "code",
      "source": [
        "# Compute confusion matrix\n",
        "cnf_matrix = confusion_matrix(y_test, pred_mulnb, labels=[1,2,3,4,5])\n",
        "np.set_printoptions(precision=2)\n",
        "\n",
        "print (classification_report(y_test, pred_mulnb))\n",
        "\n",
        "# Plot non-normalized confusion matrix\n",
        "plt.figure()\n",
        "plot_confusion_matrix(cnf_matrix, classes=['1','2','3','4','5'],normalize= False,  title='Confusion matrix')"
      ],
      "metadata": {
        "colab": {
          "base_uri": "https://localhost:8080/",
          "height": 639
        },
        "id": "zPAl3llimzRk",
        "outputId": "b1454e11-0b78-41ff-c7f9-f897a3a5e52b"
      },
      "execution_count": 60,
      "outputs": [
        {
          "output_type": "stream",
          "name": "stdout",
          "text": [
            "              precision    recall  f1-score   support\n",
            "\n",
            "           1       0.92      0.07      0.12       168\n",
            "           2       0.40      0.04      0.07       106\n",
            "           3       0.67      0.05      0.09       129\n",
            "           4       1.00      0.01      0.02       279\n",
            "           5       0.67      1.00      0.80      1318\n",
            "\n",
            "    accuracy                           0.67      2000\n",
            "   macro avg       0.73      0.23      0.22      2000\n",
            "weighted avg       0.72      0.67      0.55      2000\n",
            "\n",
            "Confusion matrix, without normalization\n",
            "[[  11    5    1    0  151]\n",
            " [   1    4    2    0   99]\n",
            " [   0    1    6    0  122]\n",
            " [   0    0    0    3  276]\n",
            " [   0    0    0    0 1318]]\n"
          ]
        },
        {
          "output_type": "display_data",
          "data": {
            "text/plain": [
              "<Figure size 432x288 with 2 Axes>"
            ],
            "image/png": "[encoded data removed]"
          },
          "metadata": {
            "needs_background": "light"
          }
        }
      ]
    },
    {
      "cell_type": "code",
      "source": [
        "from sklearn.naive_bayes import BernoulliNB\n",
        "naive_bayes_bernoulli = BernoulliNB()\n",
        "naive_bayes_bernoulli.fit(X_train_tfidf , y_train)\n",
        " \n",
        "#Predict on test data\n",
        "pred_bernb = naive_bayes_bernoulli.predict(X_test_tfidf)"
      ],
      "metadata": {
        "id": "hYCUF1dUoK-H"
      },
      "execution_count": 63,
      "outputs": []
    },
    {
      "cell_type": "code",
      "source": [
        "# Compute confusion matrix\n",
        "cnf_matrix = confusion_matrix(y_test, pred_bernb, labels=[1,2,3,4,5])\n",
        "np.set_printoptions(precision=2)\n",
        "\n",
        "print (classification_report(y_test, pred_bernb))\n",
        "\n",
        "# Plot non-normalized confusion matrix\n",
        "plt.figure()\n",
        "plot_confusion_matrix(cnf_matrix, classes=['1','2','3','4','5'],normalize= False,  title='Confusion matrix')"
      ],
      "metadata": {
        "colab": {
          "base_uri": "https://localhost:8080/",
          "height": 769
        },
        "id": "fFwxVfP1oNjz",
        "outputId": "5688ef03-e7f4-4a75-d717-4ae4fa49fa1e"
      },
      "execution_count": 64,
      "outputs": [
        {
          "output_type": "stream",
          "name": "stderr",
          "text": [
            "/usr/local/lib/python3.7/dist-packages/sklearn/metrics/_classification.py:1318: UndefinedMetricWarning: Precision and F-score are ill-defined and being set to 0.0 in labels with no predicted samples. Use `zero_division` parameter to control this behavior.\n",
            "  _warn_prf(average, modifier, msg_start, len(result))\n",
            "/usr/local/lib/python3.7/dist-packages/sklearn/metrics/_classification.py:1318: UndefinedMetricWarning: Precision and F-score are ill-defined and being set to 0.0 in labels with no predicted samples. Use `zero_division` parameter to control this behavior.\n",
            "  _warn_prf(average, modifier, msg_start, len(result))\n",
            "/usr/local/lib/python3.7/dist-packages/sklearn/metrics/_classification.py:1318: UndefinedMetricWarning: Precision and F-score are ill-defined and being set to 0.0 in labels with no predicted samples. Use `zero_division` parameter to control this behavior.\n",
            "  _warn_prf(average, modifier, msg_start, len(result))\n"
          ]
        },
        {
          "output_type": "stream",
          "name": "stdout",
          "text": [
            "              precision    recall  f1-score   support\n",
            "\n",
            "           1       0.00      0.00      0.00       168\n",
            "           2       0.00      0.00      0.00       106\n",
            "           3       0.00      0.00      0.00       129\n",
            "           4       1.00      0.00      0.01       279\n",
            "           5       0.66      1.00      0.79      1318\n",
            "\n",
            "    accuracy                           0.66      2000\n",
            "   macro avg       0.33      0.20      0.16      2000\n",
            "weighted avg       0.57      0.66      0.52      2000\n",
            "\n",
            "Confusion matrix, without normalization\n",
            "[[   0    0    0    0  168]\n",
            " [   0    0    0    0  106]\n",
            " [   0    0    0    0  129]\n",
            " [   0    0    0    1  278]\n",
            " [   0    0    0    0 1318]]\n"
          ]
        },
        {
          "output_type": "display_data",
          "data": {
            "text/plain": [
              "<Figure size 432x288 with 2 Axes>"
            ],
            "image/png": "[encoded data removed]"
          },
          "metadata": {
            "needs_background": "light"
          }
        }
      ]
    },
    {
      "cell_type": "code",
      "source": [
        "from sklearn import svm\n",
        "from sklearn.svm import SVC\n",
        "clf = svm.SVC(kernel='rbf')\n",
        "clf.fit(X_train_tfidf, y_train) \n",
        "predSVM = clf.predict(X_test_tfidf)"
      ],
      "metadata": {
        "id": "iPAjsAIuorg_"
      },
      "execution_count": 67,
      "outputs": []
    },
    {
      "cell_type": "code",
      "source": [
        "# Compute confusion matrix\n",
        "cnf_matrix = confusion_matrix(y_test, predSVM, labels=[1,2,3,4,5])\n",
        "np.set_printoptions(precision=2)\n",
        "\n",
        "print (classification_report(y_test, predSVM))\n",
        "\n",
        "# Plot non-normalized confusion matrix\n",
        "plt.figure()\n",
        "plot_confusion_matrix(cnf_matrix, classes=['1','2','3','4','5'],normalize= False,  title='Confusion matrix')"
      ],
      "metadata": {
        "colab": {
          "base_uri": "https://localhost:8080/",
          "height": 639
        },
        "id": "YT08S79WpPY0",
        "outputId": "fd7b7340-1a38-4968-c165-20715100a7ea"
      },
      "execution_count": 68,
      "outputs": [
        {
          "output_type": "stream",
          "name": "stdout",
          "text": [
            "              precision    recall  f1-score   support\n",
            "\n",
            "           1       0.57      0.23      0.33       168\n",
            "           2       0.42      0.12      0.19       106\n",
            "           3       0.57      0.13      0.21       129\n",
            "           4       0.48      0.08      0.13       279\n",
            "           5       0.71      0.98      0.82      1318\n",
            "\n",
            "    accuracy                           0.69      2000\n",
            "   macro avg       0.55      0.31      0.34      2000\n",
            "weighted avg       0.64      0.69      0.61      2000\n",
            "\n",
            "Confusion matrix, without normalization\n",
            "[[  39    8    5    1  115]\n",
            " [  16   13    5    2   70]\n",
            " [   3    4   17    5  100]\n",
            " [   1    3    1   21  253]\n",
            " [   9    3    2   15 1289]]\n"
          ]
        },
        {
          "output_type": "display_data",
          "data": {
            "text/plain": [
              "<Figure size 432x288 with 2 Axes>"
            ],
            "image/png": "[encoded data removed]"
          },
          "metadata": {
            "needs_background": "light"
          }
        }
      ]
    },
    {
      "cell_type": "code",
      "source": [
        "clf2 = svm.SVC(kernel='linear')\n",
        "clf2.fit(X_train_tfidf, y_train) \n",
        "predSVM2 = clf2.predict(X_test_tfidf)"
      ],
      "metadata": {
        "id": "b8G4dEE8ppIo"
      },
      "execution_count": 70,
      "outputs": []
    },
    {
      "cell_type": "code",
      "source": [
        "# Compute confusion matrix\n",
        "cnf_matrix = confusion_matrix(y_test, predSVM2, labels=[1,2,3,4,5])\n",
        "np.set_printoptions(precision=2)\n",
        "\n",
        "print (classification_report(y_test, predSVM2))\n",
        "\n",
        "# Plot non-normalized confusion matrix\n",
        "plt.figure()\n",
        "plot_confusion_matrix(cnf_matrix, classes=['1','2','3','4','5'],normalize= False,  title='Confusion matrix')"
      ],
      "metadata": {
        "colab": {
          "base_uri": "https://localhost:8080/",
          "height": 639
        },
        "id": "WR0_SMRSpztn",
        "outputId": "bc548211-6718-4d5a-84a6-e1dba36ff41c"
      },
      "execution_count": 71,
      "outputs": [
        {
          "output_type": "stream",
          "name": "stdout",
          "text": [
            "              precision    recall  f1-score   support\n",
            "\n",
            "           1       0.55      0.33      0.42       168\n",
            "           2       0.31      0.13      0.19       106\n",
            "           3       0.56      0.16      0.24       129\n",
            "           4       0.36      0.10      0.16       279\n",
            "           5       0.73      0.96      0.83      1318\n",
            "\n",
            "    accuracy                           0.69      2000\n",
            "   macro avg       0.50      0.34      0.37      2000\n",
            "weighted avg       0.63      0.69      0.63      2000\n",
            "\n",
            "Confusion matrix, without normalization\n",
            "[[  56   11    5    6   90]\n",
            " [  19   14    6    5   62]\n",
            " [   8    8   20   10   83]\n",
            " [   7    6    2   28  236]\n",
            " [  11    6    3   28 1270]]\n"
          ]
        },
        {
          "output_type": "display_data",
          "data": {
            "text/plain": [
              "<Figure size 432x288 with 2 Axes>"
            ],
            "image/png": "[encoded data removed]"
          },
          "metadata": {
            "needs_background": "light"
          }
        }
      ]
    },
    {
      "cell_type": "code",
      "source": [
        "from sklearn.neural_network import MLPClassifier\n",
        "mlp = MLPClassifier(hidden_layer_sizes=(64, ), activation='relu',max_iter=1000, epsilon=1e-08)\n",
        "mlp.fit(X_train_tfidf, y_train)\n",
        "predANN = mlp.predict(X_test_tfidf)"
      ],
      "metadata": {
        "id": "1yTpoeogp6D3"
      },
      "execution_count": 72,
      "outputs": []
    },
    {
      "cell_type": "code",
      "source": [
        "# Compute confusion matrix\n",
        "cnf_matrix = confusion_matrix(y_test, predANN, labels=[1,2,3,4,5])\n",
        "np.set_printoptions(precision=2)\n",
        "\n",
        "print (classification_report(y_test, predANN))\n",
        "\n",
        "# Plot non-normalized confusion matrix\n",
        "plt.figure()\n",
        "plot_confusion_matrix(cnf_matrix, classes=['1','2','3','4','5'],normalize= False,  title='Confusion matrix')"
      ],
      "metadata": {
        "colab": {
          "base_uri": "https://localhost:8080/",
          "height": 639
        },
        "id": "o94A1rHNrHsi",
        "outputId": "ed1c7c8c-16a5-4d6a-83cb-0f3243acec8f"
      },
      "execution_count": 73,
      "outputs": [
        {
          "output_type": "stream",
          "name": "stdout",
          "text": [
            "              precision    recall  f1-score   support\n",
            "\n",
            "           1       0.41      0.33      0.36       168\n",
            "           2       0.22      0.19      0.20       106\n",
            "           3       0.25      0.20      0.22       129\n",
            "           4       0.25      0.24      0.24       279\n",
            "           5       0.77      0.82      0.79      1318\n",
            "\n",
            "    accuracy                           0.62      2000\n",
            "   macro avg       0.38      0.36      0.37      2000\n",
            "weighted avg       0.60      0.62      0.61      2000\n",
            "\n",
            "Confusion matrix, without normalization\n",
            "[[  55   20   18   15   60]\n",
            " [  22   20   11   10   43]\n",
            " [  12   14   26   27   50]\n",
            " [  13   11   16   66  173]\n",
            " [  32   26   35  143 1082]]\n"
          ]
        },
        {
          "output_type": "display_data",
          "data": {
            "text/plain": [
              "<Figure size 432x288 with 2 Axes>"
            ],
            "image/png": "[encoded data removed]"
          },
          "metadata": {
            "needs_background": "light"
          }
        }
      ]
    },
    {
      "cell_type": "code",
      "source": [
        "from sklearn.ensemble import RandomForestRegressor\n",
        "rf = RandomForestRegressor(n_estimators = 100, random_state = 42, max_samples = 1000)\n",
        "rf.fit(X_train_tfidf, y_train);"
      ],
      "metadata": {
        "id": "D7Q6sj0CxSD1"
      },
      "execution_count": 77,
      "outputs": []
    },
    {
      "cell_type": "code",
      "source": [
        "predrf = rf.predict(X_test_tfidf)"
      ],
      "metadata": {
        "id": "gUPMWJg_yFIl"
      },
      "execution_count": 80,
      "outputs": []
    },
    {
      "cell_type": "code",
      "source": [
        "# Calculate the absolute errors\n",
        "errors = abs(predrf - y_test)\n",
        "# Calculate mean absolute percentage error (MAPE)\n",
        "mape = 100 * (errors / y_test)\n",
        "# Calculate and display accuracy\n",
        "accuracy = 100 - np.mean(mape)\n",
        "print('Accuracy:', round(accuracy, 2), '%.')"
      ],
      "metadata": {
        "colab": {
          "base_uri": "https://localhost:8080/"
        },
        "id": "ZGD3hy0dyJgk",
        "outputId": "fe464241-f64b-4480-c83d-a320bd710870"
      },
      "execution_count": 84,
      "outputs": [
        {
          "output_type": "stream",
          "name": "stdout",
          "text": [
            "Accuracy: 64.9 %.\n"
          ]
        }
      ]
    }
  ]
}