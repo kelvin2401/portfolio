{
  "nbformat": 4,
  "nbformat_minor": 0,
  "metadata": {
    "colab": {
      "provenance": []
    },
    "kernelspec": {
      "name": "python3",
      "display_name": "Python 3"
    },
    "language_info": {
      "name": "python"
    }
  },
  "cells": [
    {
      "cell_type": "markdown",
      "source": [
        "Install dan import library"
      ],
      "metadata": {
        "id": "HPUZ7lkMViBY"
      }
    },
    {
      "cell_type": "code",
      "execution_count": null,
      "metadata": {
        "colab": {
          "base_uri": "https://localhost:8080/"
        },
        "id": "YYYM41hWZb0V",
        "outputId": "98775c53-0399-433e-f478-ad98853ffb2d",
        "scrolled": true
      },
      "outputs": [
        {
          "output_type": "stream",
          "name": "stdout",
          "text": [
            "Looking in indexes: https://pypi.org/simple, https://us-python.pkg.dev/colab-wheels/public/simple/\n",
            "Collecting nlp-id\n",
            "  Downloading nlp_id-0.1.13.0.tar.gz (7.9 MB)\n",
            "\u001b[K     |████████████████████████████████| 7.9 MB 4.8 MB/s \n",
            "\u001b[?25hCollecting scikit-learn==1.1.0\n",
            "  Downloading scikit_learn-1.1.0-cp38-cp38-manylinux_2_17_x86_64.manylinux2014_x86_64.whl (31.0 MB)\n",
            "\u001b[K     |████████████████████████████████| 31.0 MB 1.5 MB/s \n",
            "\u001b[?25hCollecting nltk==3.4.5\n",
            "  Downloading nltk-3.4.5.zip (1.5 MB)\n",
            "\u001b[K     |████████████████████████████████| 1.5 MB 45.6 MB/s \n",
            "\u001b[?25hCollecting wget==3.2\n",
            "  Downloading wget-3.2.zip (10 kB)\n",
            "Requirement already satisfied: six in /usr/local/lib/python3.8/dist-packages (from nltk==3.4.5->nlp-id) (1.15.0)\n",
            "Requirement already satisfied: threadpoolctl>=2.0.0 in /usr/local/lib/python3.8/dist-packages (from scikit-learn==1.1.0->nlp-id) (3.1.0)\n",
            "Requirement already satisfied: scipy>=1.3.2 in /usr/local/lib/python3.8/dist-packages (from scikit-learn==1.1.0->nlp-id) (1.7.3)\n",
            "Requirement already satisfied: joblib>=1.0.0 in /usr/local/lib/python3.8/dist-packages (from scikit-learn==1.1.0->nlp-id) (1.2.0)\n",
            "Requirement already satisfied: numpy>=1.17.3 in /usr/local/lib/python3.8/dist-packages (from scikit-learn==1.1.0->nlp-id) (1.21.6)\n",
            "Building wheels for collected packages: nlp-id, nltk, wget\n",
            "  Building wheel for nlp-id (setup.py) ... \u001b[?25l\u001b[?25hdone\n",
            "  Created wheel for nlp-id: filename=nlp_id-0.1.13.0-py3-none-any.whl size=8074943 sha256=49165a99e2c1fd108f4afb7f4ffb5cd3a8ba4a1ef75b6ef7eaf5569625b4455c\n",
            "  Stored in directory: /root/.cache/pip/wheels/c9/40/1e/1f65670842151a87e008b5df647bf5d8b034e762e1934fd7f3\n",
            "  Building wheel for nltk (setup.py) ... \u001b[?25l\u001b[?25hdone\n",
            "  Created wheel for nltk: filename=nltk-3.4.5-py3-none-any.whl size=1449924 sha256=04d5ce7127117080856a69c9aed07d22625f70c21ba589122a2bb11ea10b1419\n",
            "  Stored in directory: /root/.cache/pip/wheels/23/18/48/8fd6ec11da38406b309470566d6f099c04805d2ec61d7829e7\n",
            "  Building wheel for wget (setup.py) ... \u001b[?25l\u001b[?25hdone\n",
            "  Created wheel for wget: filename=wget-3.2-py3-none-any.whl size=9674 sha256=9818eddd0b09ddac9ed58feb368dcfcf23a2b10662c28b77fad003b564f30190\n",
            "  Stored in directory: /root/.cache/pip/wheels/bd/a8/c3/3cf2c14a1837a4e04bd98631724e81f33f462d86a1d895fae0\n",
            "Successfully built nlp-id nltk wget\n",
            "Installing collected packages: wget, scikit-learn, nltk, nlp-id\n",
            "  Attempting uninstall: scikit-learn\n",
            "    Found existing installation: scikit-learn 1.0.2\n",
            "    Uninstalling scikit-learn-1.0.2:\n",
            "      Successfully uninstalled scikit-learn-1.0.2\n",
            "  Attempting uninstall: nltk\n",
            "    Found existing installation: nltk 3.7\n",
            "    Uninstalling nltk-3.7:\n",
            "      Successfully uninstalled nltk-3.7\n",
            "Successfully installed nlp-id-0.1.13.0 nltk-3.4.5 scikit-learn-1.1.0 wget-3.2\n",
            "Looking in indexes: https://pypi.org/simple, https://us-python.pkg.dev/colab-wheels/public/simple/\n",
            "Collecting Sastrawi\n",
            "  Downloading Sastrawi-1.0.1-py2.py3-none-any.whl (209 kB)\n",
            "\u001b[K     |████████████████████████████████| 209 kB 4.8 MB/s \n",
            "\u001b[?25hInstalling collected packages: Sastrawi\n",
            "Successfully installed Sastrawi-1.0.1\n",
            "Looking in indexes: https://pypi.org/simple, https://us-python.pkg.dev/colab-wheels/public/simple/\n",
            "Requirement already satisfied: wordcloud in /usr/local/lib/python3.8/dist-packages (1.8.2.2)\n",
            "Requirement already satisfied: numpy>=1.6.1 in /usr/local/lib/python3.8/dist-packages (from wordcloud) (1.21.6)\n",
            "Requirement already satisfied: pillow in /usr/local/lib/python3.8/dist-packages (from wordcloud) (7.1.2)\n",
            "Requirement already satisfied: matplotlib in /usr/local/lib/python3.8/dist-packages (from wordcloud) (3.2.2)\n",
            "Requirement already satisfied: pyparsing!=2.0.4,!=2.1.2,!=2.1.6,>=2.0.1 in /usr/local/lib/python3.8/dist-packages (from matplotlib->wordcloud) (3.0.9)\n",
            "Requirement already satisfied: kiwisolver>=1.0.1 in /usr/local/lib/python3.8/dist-packages (from matplotlib->wordcloud) (1.4.4)\n",
            "Requirement already satisfied: cycler>=0.10 in /usr/local/lib/python3.8/dist-packages (from matplotlib->wordcloud) (0.11.0)\n",
            "Requirement already satisfied: python-dateutil>=2.1 in /usr/local/lib/python3.8/dist-packages (from matplotlib->wordcloud) (2.8.2)\n",
            "Requirement already satisfied: six>=1.5 in /usr/local/lib/python3.8/dist-packages (from python-dateutil>=2.1->matplotlib->wordcloud) (1.15.0)\n",
            "Looking in indexes: https://pypi.org/simple, https://us-python.pkg.dev/colab-wheels/public/simple/\n",
            "Collecting scikit-multilearn\n",
            "  Downloading scikit_multilearn-0.2.0-py3-none-any.whl (89 kB)\n",
            "\u001b[K     |████████████████████████████████| 89 kB 3.7 MB/s \n",
            "\u001b[?25hInstalling collected packages: scikit-multilearn\n",
            "Successfully installed scikit-multilearn-0.2.0\n"
          ]
        }
      ],
      "source": [
        "!pip install nlp-id \n",
        "!pip install Sastrawi\n",
        "!pip install wordcloud\n",
        "!pip install scikit-multilearn"
      ]
    },
    {
      "cell_type": "code",
      "execution_count": null,
      "metadata": {
        "id": "k3zdqlZbrxIS"
      },
      "outputs": [],
      "source": [
        "import pandas as pd \n",
        "import numpy as np\n",
        "import seaborn as sns\n",
        "import matplotlib.pyplot as plt\n",
        "from tqdm import tqdm\n",
        "import re\n",
        "import warnings\n",
        "warnings.filterwarnings(\"ignore\")\n",
        "from sklearn.feature_extraction.text import TfidfVectorizer\n",
        "from sklearn.pipeline import Pipeline\n",
        "from sklearn.multiclass import OneVsRestClassifier\n",
        "from sklearn.naive_bayes import GaussianNB\n",
        "from skmultilearn.problem_transform import BinaryRelevance\n",
        "from skmultilearn.problem_transform import ClassifierChain\n",
        "from skmultilearn.problem_transform import LabelPowerset\n",
        "from skmultilearn.adapt import MLkNN\n",
        "from scipy.sparse import csr_matrix, lil_matrix\n",
        "from sklearn.neighbors import KNeighborsClassifier\n",
        "from sklearn.model_selection import train_test_split, GridSearchCV\n",
        "from sklearn import svm\n",
        "from sklearn.linear_model import LogisticRegression\n",
        "from sklearn.naive_bayes import MultinomialNB\n",
        "from sklearn.metrics import accuracy_score"
      ]
    },
    {
      "cell_type": "markdown",
      "source": [
        "Load data dari Bu Yulian (train data)"
      ],
      "metadata": {
        "id": "tMt0KgfpVl_w"
      }
    },
    {
      "cell_type": "code",
      "execution_count": null,
      "metadata": {
        "colab": {
          "base_uri": "https://localhost:8080/"
        },
        "id": "drfuNAHKsaPo",
        "outputId": "4dcb8f66-5478-46b4-d817-d4ee7587d9c0"
      },
      "outputs": [
        {
          "output_type": "execute_result",
          "data": {
            "text/plain": [
              "(900, 8)"
            ]
          },
          "metadata": {},
          "execution_count": 3
        }
      ],
      "source": [
        "data_raw = pd.read_csv('https://raw.githubusercontent.com/kelvin2401/stki/main/datasetcoba.csv')\n",
        "#data_raw = data_raw.loc[np.random.choice(data_raw.index, size=2000)]\n",
        "data_raw.shape"
      ]
    },
    {
      "cell_type": "markdown",
      "source": [
        "#Preprocessing"
      ],
      "metadata": {
        "id": "pBwQHJdUVpoi"
      }
    },
    {
      "cell_type": "code",
      "execution_count": null,
      "metadata": {
        "id": "Cx9h5VGJFAsb",
        "outputId": "40c39146-5956-4e03-a5ff-e7f69b50d765",
        "colab": {
          "base_uri": "https://localhost:8080/"
        }
      },
      "outputs": [
        {
          "output_type": "stream",
          "name": "stdout",
          "text": [
            "Tweet     0\n",
            "KS       35\n",
            "KH       35\n",
            "DH       35\n",
            "TDH      35\n",
            "SWA      35\n",
            "LO       35\n",
            "AK       36\n",
            "dtype: int64\n"
          ]
        }
      ],
      "source": [
        "missing_values_check = data_raw.isnull().sum()\n",
        "print(missing_values_check)"
      ]
    },
    {
      "cell_type": "code",
      "execution_count": null,
      "metadata": {
        "id": "UMDq7swDFAse"
      },
      "outputs": [],
      "source": [
        "data_raw_baru=data_raw.dropna(axis=0)"
      ]
    },
    {
      "cell_type": "code",
      "execution_count": null,
      "metadata": {
        "id": "iqyUW7kvFAsg",
        "outputId": "a4d0b911-5f55-4c57-a683-95c4a08a9804",
        "colab": {
          "base_uri": "https://localhost:8080/"
        }
      },
      "outputs": [
        {
          "output_type": "stream",
          "name": "stdout",
          "text": [
            "['KS', 'KH', 'DH', 'TDH', 'SWA', 'LO', 'AK']\n"
          ]
        }
      ],
      "source": [
        "categories = list(data_raw_baru.columns.values)\n",
        "categories = categories[1:]\n",
        "print(categories)"
      ]
    },
    {
      "cell_type": "code",
      "source": [
        "# Import kamus bahasa slang\n",
        "slang_dict = pd.read_csv('https://raw.githubusercontent.com/kelvin2401/stki/main/slang.txt', delimiter = \";\")\n",
        "dict_slang = dict(slang_dict.values)\n",
        "print (slang_dict)"
      ],
      "metadata": {
        "colab": {
          "base_uri": "https://localhost:8080/"
        },
        "outputId": "5f2c69ca-3ed1-4679-80e1-4522aeab265b",
        "id": "xqkGGZ6lZ8Sa"
      },
      "execution_count": null,
      "outputs": [
        {
          "output_type": "stream",
          "name": "stdout",
          "text": [
            "          &                                          dan\n",
            "0         +                                       tambah\n",
            "1         /                                         atau\n",
            "2     22nya                                   dua-duanya\n",
            "3        3m  mencuci tangan memakai masker menjaga jarak\n",
            "4       7an                                       tujuan\n",
            "...     ...                                          ...\n",
            "5592  yyaaa                                           ya\n",
            "5593      z                                         saja\n",
            "5594     za                                         saja\n",
            "5595   zama                                        zaman\n",
            "5596   zonk                                        bodoh\n",
            "\n",
            "[5597 rows x 2 columns]\n"
          ]
        }
      ]
    },
    {
      "cell_type": "code",
      "execution_count": null,
      "metadata": {
        "id": "LLHXCLBUZ8Sa"
      },
      "outputs": [],
      "source": [
        "# https://github.com/kumparan/nlp-id\n",
        "from nlp_id.tokenizer import Tokenizer\n",
        "from nlp_id.lemmatizer import Lemmatizer \n",
        "\n",
        "lemmatizer = Lemmatizer()\n",
        "tokenizer = Tokenizer()"
      ]
    },
    {
      "cell_type": "code",
      "execution_count": null,
      "metadata": {
        "id": "cI26TJVaZ8Sa"
      },
      "outputs": [],
      "source": [
        "from Sastrawi.StopWordRemover.StopWordRemoverFactory import StopWordRemoverFactory, StopWordRemover, ArrayDictionary\n",
        "stop_factory = StopWordRemoverFactory()\n",
        "more_stopword = ['dengan', 'ia','bahwa','oleh','aku','kamu','bukan','nya','iya','user','sih','jadi','deh','rt','kalau','apa','mau','memang']\n",
        "data_stopword = stop_factory.get_stop_words() + more_stopword # menambah stopword\n",
        "\n",
        "def preprocess(s):\n",
        "    s = re.sub(r'(\\\\x[0-9a-fA-Z]{2})', '', s)\n",
        "  #Remove URL\n",
        "    s = re.sub(r'https?://\\S+|www\\.\\S+', \" \", s)\n",
        "  #Remove Mentions\n",
        "    s = re.sub(r'@\\w+',' ',s)\n",
        "  #Remove Punctuation\n",
        "    s= re.sub(r'[^\\w\\s\\d]',' ',s)\n",
        "  #Remove Digits\n",
        "    s = re.sub(r'\\d+', ' ', s)\n",
        "  #Remove HTML tags\n",
        "    s = re.sub('r<.*?>',' ', s)\n",
        "  #Remove Hastags\n",
        "    s = re.sub(r'#\\w+', ' ', s)\n",
        "    s = re.sub(r'[^a-zA-Z]', ' ', s) # remove symbol dan angka\n",
        "    hasil=[]\n",
        "    word_token = tokenizer.tokenize(s) #tokenisaai\n",
        "    for word in word_token:\n",
        "        word = word.strip().lower()   #case folding\n",
        "        if word in dict_slang:\n",
        "            word= dict_slang[word]\n",
        "        if word not in data_stopword: #stopword removal\n",
        "            word = lemmatizer.lemmatize(word) #lemmatization\n",
        "            hasil.append(word)\n",
        "        else:\n",
        "            continue\n",
        "    result_sentence = \" \".join(hasil).strip() #penggabungan kata hasil pre prosesing\n",
        "    #print(result_sentence)\n",
        "    return result_sentence"
      ]
    },
    {
      "cell_type": "code",
      "execution_count": null,
      "metadata": {
        "outputId": "9143d148-cf3e-4455-c090-d040de01b824",
        "colab": {
          "base_uri": "https://localhost:8080/",
          "height": 53
        },
        "id": "Ws-THTtKZ8Sb"
      },
      "outputs": [
        {
          "output_type": "stream",
          "name": "stderr",
          "text": [
            "100%|██████████| 864/864 [00:00<00:00, 2640.61it/s]\n"
          ]
        },
        {
          "output_type": "execute_result",
          "data": {
            "text/plain": [
              "'Done!'"
            ],
            "application/vnd.google.colaboratory.intrinsic+json": {
              "type": "string"
            }
          },
          "metadata": {},
          "execution_count": 10
        }
      ],
      "source": [
        "#Melakukan Proses Pre Prosesing pada Kolom text Dataset \n",
        "result_preprocess = []\n",
        "for i, row in tqdm(data_raw_baru.iterrows(), total=data_raw_baru.shape[0]):\n",
        "  result_preprocess.append(preprocess(row['Tweet']))\n",
        "'Done!'"
      ]
    },
    {
      "cell_type": "code",
      "execution_count": null,
      "metadata": {
        "id": "tQc5OF9rZ8Sb"
      },
      "outputs": [],
      "source": [
        "#Menampilkan hasil pre prosesing pada kolom baru yaitu text clean\n",
        "data_raw_baru['text_clean'] = result_preprocess"
      ]
    },
    {
      "cell_type": "code",
      "execution_count": null,
      "metadata": {
        "outputId": "3d30b27a-75d8-4e50-ac1a-24cc661160f3",
        "colab": {
          "base_uri": "https://localhost:8080/"
        },
        "id": "OhspQDzuZ8Sb"
      },
      "outputs": [
        {
          "output_type": "execute_result",
          "data": {
            "text/plain": [
              "0                    salah jokowi ahok kafir kafir ateis\n",
              "1      biar biar tahi kena bapak loh kan suka sama ah...\n",
              "2      prestasi ahok mjadi mafia koruptor nista agama...\n",
              "3      ulama kompak nyata haram pimpin kafir pilih ah...\n",
              "4      dik tinggi bodoh larang bawa agama biar orang ...\n",
              "                             ...                        \n",
              "892                                          wasit picek\n",
              "893    orang kaya indonesia orang indonesia orang cin...\n",
              "896           manusia berkelakuan cebong hina marah hina\n",
              "897     media pura bego ajak bego orang nama bodoh parah\n",
              "899                                            wong gila\n",
              "Name: text_clean, Length: 864, dtype: object"
            ]
          },
          "metadata": {},
          "execution_count": 12
        }
      ],
      "source": [
        "data_raw_baru['text_clean']"
      ]
    },
    {
      "cell_type": "code",
      "source": [
        "train = data_raw_baru\n",
        "train_text = train['text_clean']"
      ],
      "metadata": {
        "id": "UYKiZM55Z8Sb"
      },
      "execution_count": null,
      "outputs": []
    },
    {
      "cell_type": "markdown",
      "source": [
        "Load data manual labeling (test data)"
      ],
      "metadata": {
        "id": "2Ub96KOnV031"
      }
    },
    {
      "cell_type": "code",
      "execution_count": null,
      "metadata": {
        "colab": {
          "base_uri": "https://localhost:8080/",
          "height": 560
        },
        "id": "db-rGTH8EsXT",
        "outputId": "168bcbf7-cb78-4717-a5bc-85b4aecda217"
      },
      "outputs": [
        {
          "output_type": "execute_result",
          "data": {
            "text/plain": [
              "   Unnamed: 0  Unnamed: 0.1  index                   Id  \\\n",
              "0           0             0    182  1492310337122889729   \n",
              "1           1             1   1208  1492328251255308290   \n",
              "2           2             2   1207  1492346287034757120   \n",
              "3           3             3    181  1492352188148219908   \n",
              "4           4             4   1206  1492380257420455937   \n",
              "\n",
              "                  Tweet Time  \\\n",
              "0  2022-02-12 01:31:24+00:00   \n",
              "1  2022-02-12 02:42:35+00:00   \n",
              "2  2022-02-12 03:54:15+00:00   \n",
              "3  2022-02-12 04:17:42+00:00   \n",
              "4  2022-02-12 06:09:15+00:00   \n",
              "\n",
              "                                                 Url  \\\n",
              "0  https://twitter.com/CatatanAli07/status/149231...   \n",
              "1  https://twitter.com/RheinaHerlina/status/14923...   \n",
              "2  https://twitter.com/didihadid_/status/14923462...   \n",
              "3  https://twitter.com/CatatanAli07/status/149235...   \n",
              "4  https://twitter.com/ArgentianaA/status/1492380...   \n",
              "\n",
              "                                          Tweet Text  Likes Count  \\\n",
              "0            #FotoProfilBaru https://t.co/2nj1RH1qRV            0   \n",
              "1                          @CatatanAli07 Ras🤸‍♀️🤸‍♀️            0   \n",
              "2                             @CatatanAli07 Eh Sapri            0   \n",
              "3  JILAT TERUS \\n\\nISENG ISENG BERHADIAH YA DIE 😂...            1   \n",
              "4                     @CatatanAli07 Ali banget itu 😆            0   \n",
              "\n",
              "   Reply Count  Retweet Count  ...  User Following Count  User Likes Count  \\\n",
              "0            0              0  ...                1559.0             226.0   \n",
              "1            1              0  ...               12813.0          121022.0   \n",
              "2            1              0  ...                1704.0           37228.0   \n",
              "3            0              1  ...                1559.0             226.0   \n",
              "4            1              0  ...                2602.0            5488.0   \n",
              "\n",
              "  User Tweets Count  KS  KH  DH  TDH  SWA  LO  AK  \n",
              "0            4473.0 NaN NaN NaN  NaN  NaN NaN NaN  \n",
              "1           61084.0 NaN NaN NaN  NaN  NaN NaN NaN  \n",
              "2          159285.0 NaN NaN NaN  NaN  NaN NaN NaN  \n",
              "3            4473.0 NaN NaN NaN  NaN  NaN NaN NaN  \n",
              "4          291584.0 NaN NaN NaN  NaN  NaN NaN NaN  \n",
              "\n",
              "[5 rows x 25 columns]"
            ],
            "text/html": [
              "\n",
              "  <div id=\"df-6e6dd62d-f3cb-4f83-99cb-12b9b4234cbe\">\n",
              "    <div class=\"colab-df-container\">\n",
              "      <div>\n",
              "<style scoped>\n",
              "    .dataframe tbody tr th:only-of-type {\n",
              "        vertical-align: middle;\n",
              "    }\n",
              "\n",
              "    .dataframe tbody tr th {\n",
              "        vertical-align: top;\n",
              "    }\n",
              "\n",
              "    .dataframe thead th {\n",
              "        text-align: right;\n",
              "    }\n",
              "</style>\n",
              "<table border=\"1\" class=\"dataframe\">\n",
              "  <thead>\n",
              "    <tr style=\"text-align: right;\">\n",
              "      <th></th>\n",
              "      <th>Unnamed: 0</th>\n",
              "      <th>Unnamed: 0.1</th>\n",
              "      <th>index</th>\n",
              "      <th>Id</th>\n",
              "      <th>Tweet Time</th>\n",
              "      <th>Url</th>\n",
              "      <th>Tweet Text</th>\n",
              "      <th>Likes Count</th>\n",
              "      <th>Reply Count</th>\n",
              "      <th>Retweet Count</th>\n",
              "      <th>...</th>\n",
              "      <th>User Following Count</th>\n",
              "      <th>User Likes Count</th>\n",
              "      <th>User Tweets Count</th>\n",
              "      <th>KS</th>\n",
              "      <th>KH</th>\n",
              "      <th>DH</th>\n",
              "      <th>TDH</th>\n",
              "      <th>SWA</th>\n",
              "      <th>LO</th>\n",
              "      <th>AK</th>\n",
              "    </tr>\n",
              "  </thead>\n",
              "  <tbody>\n",
              "    <tr>\n",
              "      <th>0</th>\n",
              "      <td>0</td>\n",
              "      <td>0</td>\n",
              "      <td>182</td>\n",
              "      <td>1492310337122889729</td>\n",
              "      <td>2022-02-12 01:31:24+00:00</td>\n",
              "      <td>https://twitter.com/CatatanAli07/status/149231...</td>\n",
              "      <td>#FotoProfilBaru https://t.co/2nj1RH1qRV</td>\n",
              "      <td>0</td>\n",
              "      <td>0</td>\n",
              "      <td>0</td>\n",
              "      <td>...</td>\n",
              "      <td>1559.0</td>\n",
              "      <td>226.0</td>\n",
              "      <td>4473.0</td>\n",
              "      <td>NaN</td>\n",
              "      <td>NaN</td>\n",
              "      <td>NaN</td>\n",
              "      <td>NaN</td>\n",
              "      <td>NaN</td>\n",
              "      <td>NaN</td>\n",
              "      <td>NaN</td>\n",
              "    </tr>\n",
              "    <tr>\n",
              "      <th>1</th>\n",
              "      <td>1</td>\n",
              "      <td>1</td>\n",
              "      <td>1208</td>\n",
              "      <td>1492328251255308290</td>\n",
              "      <td>2022-02-12 02:42:35+00:00</td>\n",
              "      <td>https://twitter.com/RheinaHerlina/status/14923...</td>\n",
              "      <td>@CatatanAli07 Ras🤸‍♀️🤸‍♀️</td>\n",
              "      <td>0</td>\n",
              "      <td>1</td>\n",
              "      <td>0</td>\n",
              "      <td>...</td>\n",
              "      <td>12813.0</td>\n",
              "      <td>121022.0</td>\n",
              "      <td>61084.0</td>\n",
              "      <td>NaN</td>\n",
              "      <td>NaN</td>\n",
              "      <td>NaN</td>\n",
              "      <td>NaN</td>\n",
              "      <td>NaN</td>\n",
              "      <td>NaN</td>\n",
              "      <td>NaN</td>\n",
              "    </tr>\n",
              "    <tr>\n",
              "      <th>2</th>\n",
              "      <td>2</td>\n",
              "      <td>2</td>\n",
              "      <td>1207</td>\n",
              "      <td>1492346287034757120</td>\n",
              "      <td>2022-02-12 03:54:15+00:00</td>\n",
              "      <td>https://twitter.com/didihadid_/status/14923462...</td>\n",
              "      <td>@CatatanAli07 Eh Sapri</td>\n",
              "      <td>0</td>\n",
              "      <td>1</td>\n",
              "      <td>0</td>\n",
              "      <td>...</td>\n",
              "      <td>1704.0</td>\n",
              "      <td>37228.0</td>\n",
              "      <td>159285.0</td>\n",
              "      <td>NaN</td>\n",
              "      <td>NaN</td>\n",
              "      <td>NaN</td>\n",
              "      <td>NaN</td>\n",
              "      <td>NaN</td>\n",
              "      <td>NaN</td>\n",
              "      <td>NaN</td>\n",
              "    </tr>\n",
              "    <tr>\n",
              "      <th>3</th>\n",
              "      <td>3</td>\n",
              "      <td>3</td>\n",
              "      <td>181</td>\n",
              "      <td>1492352188148219908</td>\n",
              "      <td>2022-02-12 04:17:42+00:00</td>\n",
              "      <td>https://twitter.com/CatatanAli07/status/149235...</td>\n",
              "      <td>JILAT TERUS \\n\\nISENG ISENG BERHADIAH YA DIE 😂...</td>\n",
              "      <td>1</td>\n",
              "      <td>0</td>\n",
              "      <td>1</td>\n",
              "      <td>...</td>\n",
              "      <td>1559.0</td>\n",
              "      <td>226.0</td>\n",
              "      <td>4473.0</td>\n",
              "      <td>NaN</td>\n",
              "      <td>NaN</td>\n",
              "      <td>NaN</td>\n",
              "      <td>NaN</td>\n",
              "      <td>NaN</td>\n",
              "      <td>NaN</td>\n",
              "      <td>NaN</td>\n",
              "    </tr>\n",
              "    <tr>\n",
              "      <th>4</th>\n",
              "      <td>4</td>\n",
              "      <td>4</td>\n",
              "      <td>1206</td>\n",
              "      <td>1492380257420455937</td>\n",
              "      <td>2022-02-12 06:09:15+00:00</td>\n",
              "      <td>https://twitter.com/ArgentianaA/status/1492380...</td>\n",
              "      <td>@CatatanAli07 Ali banget itu 😆</td>\n",
              "      <td>0</td>\n",
              "      <td>1</td>\n",
              "      <td>0</td>\n",
              "      <td>...</td>\n",
              "      <td>2602.0</td>\n",
              "      <td>5488.0</td>\n",
              "      <td>291584.0</td>\n",
              "      <td>NaN</td>\n",
              "      <td>NaN</td>\n",
              "      <td>NaN</td>\n",
              "      <td>NaN</td>\n",
              "      <td>NaN</td>\n",
              "      <td>NaN</td>\n",
              "      <td>NaN</td>\n",
              "    </tr>\n",
              "  </tbody>\n",
              "</table>\n",
              "<p>5 rows × 25 columns</p>\n",
              "</div>\n",
              "      <button class=\"colab-df-convert\" onclick=\"convertToInteractive('df-6e6dd62d-f3cb-4f83-99cb-12b9b4234cbe')\"\n",
              "              title=\"Convert this dataframe to an interactive table.\"\n",
              "              style=\"display:none;\">\n",
              "        \n",
              "  <svg xmlns=\"http://www.w3.org/2000/svg\" height=\"24px\"viewBox=\"0 0 24 24\"\n",
              "       width=\"24px\">\n",
              "    <path d=\"M0 0h24v24H0V0z\" fill=\"none\"/>\n",
              "    <path d=\"M18.56 5.44l.94 2.06.94-2.06 2.06-.94-2.06-.94-.94-2.06-.94 2.06-2.06.94zm-11 1L8.5 8.5l.94-2.06 2.06-.94-2.06-.94L8.5 2.5l-.94 2.06-2.06.94zm10 10l.94 2.06.94-2.06 2.06-.94-2.06-.94-.94-2.06-.94 2.06-2.06.94z\"/><path d=\"M17.41 7.96l-1.37-1.37c-.4-.4-.92-.59-1.43-.59-.52 0-1.04.2-1.43.59L10.3 9.45l-7.72 7.72c-.78.78-.78 2.05 0 2.83L4 21.41c.39.39.9.59 1.41.59.51 0 1.02-.2 1.41-.59l7.78-7.78 2.81-2.81c.8-.78.8-2.07 0-2.86zM5.41 20L4 18.59l7.72-7.72 1.47 1.35L5.41 20z\"/>\n",
              "  </svg>\n",
              "      </button>\n",
              "      \n",
              "  <style>\n",
              "    .colab-df-container {\n",
              "      display:flex;\n",
              "      flex-wrap:wrap;\n",
              "      gap: 12px;\n",
              "    }\n",
              "\n",
              "    .colab-df-convert {\n",
              "      background-color: #E8F0FE;\n",
              "      border: none;\n",
              "      border-radius: 50%;\n",
              "      cursor: pointer;\n",
              "      display: none;\n",
              "      fill: #1967D2;\n",
              "      height: 32px;\n",
              "      padding: 0 0 0 0;\n",
              "      width: 32px;\n",
              "    }\n",
              "\n",
              "    .colab-df-convert:hover {\n",
              "      background-color: #E2EBFA;\n",
              "      box-shadow: 0px 1px 2px rgba(60, 64, 67, 0.3), 0px 1px 3px 1px rgba(60, 64, 67, 0.15);\n",
              "      fill: #174EA6;\n",
              "    }\n",
              "\n",
              "    [theme=dark] .colab-df-convert {\n",
              "      background-color: #3B4455;\n",
              "      fill: #D2E3FC;\n",
              "    }\n",
              "\n",
              "    [theme=dark] .colab-df-convert:hover {\n",
              "      background-color: #434B5C;\n",
              "      box-shadow: 0px 1px 3px 1px rgba(0, 0, 0, 0.15);\n",
              "      filter: drop-shadow(0px 1px 2px rgba(0, 0, 0, 0.3));\n",
              "      fill: #FFFFFF;\n",
              "    }\n",
              "  </style>\n",
              "\n",
              "      <script>\n",
              "        const buttonEl =\n",
              "          document.querySelector('#df-6e6dd62d-f3cb-4f83-99cb-12b9b4234cbe button.colab-df-convert');\n",
              "        buttonEl.style.display =\n",
              "          google.colab.kernel.accessAllowed ? 'block' : 'none';\n",
              "\n",
              "        async function convertToInteractive(key) {\n",
              "          const element = document.querySelector('#df-6e6dd62d-f3cb-4f83-99cb-12b9b4234cbe');\n",
              "          const dataTable =\n",
              "            await google.colab.kernel.invokeFunction('convertToInteractive',\n",
              "                                                     [key], {});\n",
              "          if (!dataTable) return;\n",
              "\n",
              "          const docLinkHtml = 'Like what you see? Visit the ' +\n",
              "            '<a target=\"_blank\" href=https://colab.research.google.com/notebooks/data_table.ipynb>data table notebook</a>'\n",
              "            + ' to learn more about interactive tables.';\n",
              "          element.innerHTML = '';\n",
              "          dataTable['output_type'] = 'display_data';\n",
              "          await google.colab.output.renderOutput(dataTable, element);\n",
              "          const docLink = document.createElement('div');\n",
              "          docLink.innerHTML = docLinkHtml;\n",
              "          element.appendChild(docLink);\n",
              "        }\n",
              "      </script>\n",
              "    </div>\n",
              "  </div>\n",
              "  "
            ]
          },
          "metadata": {},
          "execution_count": 14
        }
      ],
      "source": [
        "data_raw = pd.read_csv('https://raw.githubusercontent.com/muhammadariffaizin/sistem-temu-kembali-informasi/master/2_labelling/catatanali07_merged_labelled.csv')\n",
        "data_raw.head()"
      ]
    },
    {
      "cell_type": "markdown",
      "source": [
        "Preprocessing test data"
      ],
      "metadata": {
        "id": "4iIbxqNMV5lt"
      }
    },
    {
      "cell_type": "code",
      "source": [
        "data_raw = data_raw.dropna(how='all',subset=['KS','KH','DH','TDH','SWA','LO','AK'])"
      ],
      "metadata": {
        "id": "ZuopZwtvPyUq"
      },
      "execution_count": null,
      "outputs": []
    },
    {
      "cell_type": "code",
      "source": [
        "data_raw"
      ],
      "metadata": {
        "colab": {
          "base_uri": "https://localhost:8080/",
          "height": 1000
        },
        "id": "sz_xqeBZT0zH",
        "outputId": "7f8288fa-f16f-4560-dfa8-b88fead9ad7a"
      },
      "execution_count": null,
      "outputs": [
        {
          "output_type": "execute_result",
          "data": {
            "text/plain": [
              "      Unnamed: 0  Unnamed: 0.1  index                   Id  \\\n",
              "141          141           141    162  1513374464251428864   \n",
              "151          151           151    160  1513389082495557632   \n",
              "179          179           179    156  1513479880931160064   \n",
              "303          303           303    140  1517035651870629888   \n",
              "306          306           306    139  1517062652434202624   \n",
              "...          ...           ...    ...                  ...   \n",
              "1177        1177          1177      7  1545609653739958272   \n",
              "1178        1178          1178      6  1545734677410893824   \n",
              "1180        1180          1180      5  1545836847682945024   \n",
              "1201        1201          1201      3  1574365780224794624   \n",
              "1202        1202          1202    186  1574366418279092224   \n",
              "\n",
              "                     Tweet Time  \\\n",
              "141   2022-04-11 04:32:44+00:00   \n",
              "151   2022-04-11 05:30:49+00:00   \n",
              "179   2022-04-11 11:31:37+00:00   \n",
              "303   2022-04-21 07:00:59+00:00   \n",
              "306   2022-04-21 08:48:16+00:00   \n",
              "...                         ...   \n",
              "1177  2022-07-09 03:23:52+00:00   \n",
              "1178  2022-07-09 11:40:40+00:00   \n",
              "1180  2022-07-09 18:26:39+00:00   \n",
              "1201  2022-09-26 11:50:26+00:00   \n",
              "1202  2022-09-26 11:52:59+00:00   \n",
              "\n",
              "                                                    Url  \\\n",
              "141   https://twitter.com/CatatanAli07/status/151337...   \n",
              "151   https://twitter.com/CatatanAli07/status/151338...   \n",
              "179   https://twitter.com/CatatanAli07/status/151347...   \n",
              "303   https://twitter.com/CatatanAli07/status/151703...   \n",
              "306   https://twitter.com/CatatanAli07/status/151706...   \n",
              "...                                                 ...   \n",
              "1177  https://twitter.com/CatatanAli07/status/154560...   \n",
              "1178  https://twitter.com/CatatanAli07/status/154573...   \n",
              "1180  https://twitter.com/CatatanAli07/status/154583...   \n",
              "1201  https://twitter.com/CatatanAli07/status/157436...   \n",
              "1202  https://twitter.com/CatatanAli07/status/157436...   \n",
              "\n",
              "                                             Tweet Text  Likes Count  \\\n",
              "141   TODAY, \\n\\nThousands of people take part in a ...           81   \n",
              "151   Yang kemarin juga dihajar cebong karna provoka...           11   \n",
              "179   Muda doang NYALI kalah sama ADE ARMANDO \\n\\nPa...           84   \n",
              "303   Alhamdulillah Puasa hari ini dapat Tambahan PA...            3   \n",
              "306   Gua Difitnah Dapat TANAH dari morotin Pacar\\nG...          142   \n",
              "...                                                 ...          ...   \n",
              "1177    Kan itu nama ko setan 🙄 https://t.co/gI4q8JOfgc            0   \n",
              "1178  Dulu pernah dapat GA PARFUM udah 2 Tahun gak d...            0   \n",
              "1180                                                  🤗            0   \n",
              "1201  Jika PEMERINTAH ingin memberantas PERJUDIAN be...            5   \n",
              "1202      @TheEagle_BEN berhentilah ko main judi bodoh!            0   \n",
              "\n",
              "      Reply Count  Retweet Count  ...  User Following Count  User Likes Count  \\\n",
              "141             5             50  ...                1559.0             226.0   \n",
              "151             2              2  ...                1559.0             226.0   \n",
              "179            14             17  ...                1559.0             226.0   \n",
              "303             1              4  ...                1559.0             226.0   \n",
              "306            44              7  ...                1559.0             226.0   \n",
              "...           ...            ...  ...                   ...               ...   \n",
              "1177            0              0  ...                1559.0             226.0   \n",
              "1178            0              0  ...                1559.0             226.0   \n",
              "1180            0              0  ...                1559.0             226.0   \n",
              "1201            5              3  ...                1559.0             226.0   \n",
              "1202            1              0  ...                1558.0             224.0   \n",
              "\n",
              "     User Tweets Count   KS   KH   DH  TDH  SWA   LO   AK  \n",
              "141             4473.0  NaN  NaN  NaN  NaN  NaN  NaN  1.0  \n",
              "151             4473.0  NaN  NaN  1.0  NaN  NaN  NaN  NaN  \n",
              "179             4473.0  NaN  NaN  NaN  1.0  NaN  NaN  NaN  \n",
              "303             4473.0  0.0  0.0  0.0  0.0  0.0  0.0  0.0  \n",
              "306             4473.0  0.0  0.0  0.0  0.0  0.0  0.0  0.0  \n",
              "...                ...  ...  ...  ...  ...  ...  ...  ...  \n",
              "1177            4473.0  0.0  0.0  1.0  1.0  0.0  0.0  0.0  \n",
              "1178            4473.0  0.0  0.0  0.0  0.0  0.0  0.0  0.0  \n",
              "1180            4473.0  0.0  0.0  0.0  0.0  0.0  0.0  0.0  \n",
              "1201            4473.0  0.0  0.0  0.0  0.0  0.0  0.0  0.0  \n",
              "1202            4430.0  0.0  0.0  1.0  1.0  0.0  0.0  0.0  \n",
              "\n",
              "[79 rows x 25 columns]"
            ],
            "text/html": [
              "\n",
              "  <div id=\"df-75b53e1f-cc1a-4e64-bf22-6b69d87a95f7\">\n",
              "    <div class=\"colab-df-container\">\n",
              "      <div>\n",
              "<style scoped>\n",
              "    .dataframe tbody tr th:only-of-type {\n",
              "        vertical-align: middle;\n",
              "    }\n",
              "\n",
              "    .dataframe tbody tr th {\n",
              "        vertical-align: top;\n",
              "    }\n",
              "\n",
              "    .dataframe thead th {\n",
              "        text-align: right;\n",
              "    }\n",
              "</style>\n",
              "<table border=\"1\" class=\"dataframe\">\n",
              "  <thead>\n",
              "    <tr style=\"text-align: right;\">\n",
              "      <th></th>\n",
              "      <th>Unnamed: 0</th>\n",
              "      <th>Unnamed: 0.1</th>\n",
              "      <th>index</th>\n",
              "      <th>Id</th>\n",
              "      <th>Tweet Time</th>\n",
              "      <th>Url</th>\n",
              "      <th>Tweet Text</th>\n",
              "      <th>Likes Count</th>\n",
              "      <th>Reply Count</th>\n",
              "      <th>Retweet Count</th>\n",
              "      <th>...</th>\n",
              "      <th>User Following Count</th>\n",
              "      <th>User Likes Count</th>\n",
              "      <th>User Tweets Count</th>\n",
              "      <th>KS</th>\n",
              "      <th>KH</th>\n",
              "      <th>DH</th>\n",
              "      <th>TDH</th>\n",
              "      <th>SWA</th>\n",
              "      <th>LO</th>\n",
              "      <th>AK</th>\n",
              "    </tr>\n",
              "  </thead>\n",
              "  <tbody>\n",
              "    <tr>\n",
              "      <th>141</th>\n",
              "      <td>141</td>\n",
              "      <td>141</td>\n",
              "      <td>162</td>\n",
              "      <td>1513374464251428864</td>\n",
              "      <td>2022-04-11 04:32:44+00:00</td>\n",
              "      <td>https://twitter.com/CatatanAli07/status/151337...</td>\n",
              "      <td>TODAY, \\n\\nThousands of people take part in a ...</td>\n",
              "      <td>81</td>\n",
              "      <td>5</td>\n",
              "      <td>50</td>\n",
              "      <td>...</td>\n",
              "      <td>1559.0</td>\n",
              "      <td>226.0</td>\n",
              "      <td>4473.0</td>\n",
              "      <td>NaN</td>\n",
              "      <td>NaN</td>\n",
              "      <td>NaN</td>\n",
              "      <td>NaN</td>\n",
              "      <td>NaN</td>\n",
              "      <td>NaN</td>\n",
              "      <td>1.0</td>\n",
              "    </tr>\n",
              "    <tr>\n",
              "      <th>151</th>\n",
              "      <td>151</td>\n",
              "      <td>151</td>\n",
              "      <td>160</td>\n",
              "      <td>1513389082495557632</td>\n",
              "      <td>2022-04-11 05:30:49+00:00</td>\n",
              "      <td>https://twitter.com/CatatanAli07/status/151338...</td>\n",
              "      <td>Yang kemarin juga dihajar cebong karna provoka...</td>\n",
              "      <td>11</td>\n",
              "      <td>2</td>\n",
              "      <td>2</td>\n",
              "      <td>...</td>\n",
              "      <td>1559.0</td>\n",
              "      <td>226.0</td>\n",
              "      <td>4473.0</td>\n",
              "      <td>NaN</td>\n",
              "      <td>NaN</td>\n",
              "      <td>1.0</td>\n",
              "      <td>NaN</td>\n",
              "      <td>NaN</td>\n",
              "      <td>NaN</td>\n",
              "      <td>NaN</td>\n",
              "    </tr>\n",
              "    <tr>\n",
              "      <th>179</th>\n",
              "      <td>179</td>\n",
              "      <td>179</td>\n",
              "      <td>156</td>\n",
              "      <td>1513479880931160064</td>\n",
              "      <td>2022-04-11 11:31:37+00:00</td>\n",
              "      <td>https://twitter.com/CatatanAli07/status/151347...</td>\n",
              "      <td>Muda doang NYALI kalah sama ADE ARMANDO \\n\\nPa...</td>\n",
              "      <td>84</td>\n",
              "      <td>14</td>\n",
              "      <td>17</td>\n",
              "      <td>...</td>\n",
              "      <td>1559.0</td>\n",
              "      <td>226.0</td>\n",
              "      <td>4473.0</td>\n",
              "      <td>NaN</td>\n",
              "      <td>NaN</td>\n",
              "      <td>NaN</td>\n",
              "      <td>1.0</td>\n",
              "      <td>NaN</td>\n",
              "      <td>NaN</td>\n",
              "      <td>NaN</td>\n",
              "    </tr>\n",
              "    <tr>\n",
              "      <th>303</th>\n",
              "      <td>303</td>\n",
              "      <td>303</td>\n",
              "      <td>140</td>\n",
              "      <td>1517035651870629888</td>\n",
              "      <td>2022-04-21 07:00:59+00:00</td>\n",
              "      <td>https://twitter.com/CatatanAli07/status/151703...</td>\n",
              "      <td>Alhamdulillah Puasa hari ini dapat Tambahan PA...</td>\n",
              "      <td>3</td>\n",
              "      <td>1</td>\n",
              "      <td>4</td>\n",
              "      <td>...</td>\n",
              "      <td>1559.0</td>\n",
              "      <td>226.0</td>\n",
              "      <td>4473.0</td>\n",
              "      <td>0.0</td>\n",
              "      <td>0.0</td>\n",
              "      <td>0.0</td>\n",
              "      <td>0.0</td>\n",
              "      <td>0.0</td>\n",
              "      <td>0.0</td>\n",
              "      <td>0.0</td>\n",
              "    </tr>\n",
              "    <tr>\n",
              "      <th>306</th>\n",
              "      <td>306</td>\n",
              "      <td>306</td>\n",
              "      <td>139</td>\n",
              "      <td>1517062652434202624</td>\n",
              "      <td>2022-04-21 08:48:16+00:00</td>\n",
              "      <td>https://twitter.com/CatatanAli07/status/151706...</td>\n",
              "      <td>Gua Difitnah Dapat TANAH dari morotin Pacar\\nG...</td>\n",
              "      <td>142</td>\n",
              "      <td>44</td>\n",
              "      <td>7</td>\n",
              "      <td>...</td>\n",
              "      <td>1559.0</td>\n",
              "      <td>226.0</td>\n",
              "      <td>4473.0</td>\n",
              "      <td>0.0</td>\n",
              "      <td>0.0</td>\n",
              "      <td>0.0</td>\n",
              "      <td>0.0</td>\n",
              "      <td>0.0</td>\n",
              "      <td>0.0</td>\n",
              "      <td>0.0</td>\n",
              "    </tr>\n",
              "    <tr>\n",
              "      <th>...</th>\n",
              "      <td>...</td>\n",
              "      <td>...</td>\n",
              "      <td>...</td>\n",
              "      <td>...</td>\n",
              "      <td>...</td>\n",
              "      <td>...</td>\n",
              "      <td>...</td>\n",
              "      <td>...</td>\n",
              "      <td>...</td>\n",
              "      <td>...</td>\n",
              "      <td>...</td>\n",
              "      <td>...</td>\n",
              "      <td>...</td>\n",
              "      <td>...</td>\n",
              "      <td>...</td>\n",
              "      <td>...</td>\n",
              "      <td>...</td>\n",
              "      <td>...</td>\n",
              "      <td>...</td>\n",
              "      <td>...</td>\n",
              "      <td>...</td>\n",
              "    </tr>\n",
              "    <tr>\n",
              "      <th>1177</th>\n",
              "      <td>1177</td>\n",
              "      <td>1177</td>\n",
              "      <td>7</td>\n",
              "      <td>1545609653739958272</td>\n",
              "      <td>2022-07-09 03:23:52+00:00</td>\n",
              "      <td>https://twitter.com/CatatanAli07/status/154560...</td>\n",
              "      <td>Kan itu nama ko setan 🙄 https://t.co/gI4q8JOfgc</td>\n",
              "      <td>0</td>\n",
              "      <td>0</td>\n",
              "      <td>0</td>\n",
              "      <td>...</td>\n",
              "      <td>1559.0</td>\n",
              "      <td>226.0</td>\n",
              "      <td>4473.0</td>\n",
              "      <td>0.0</td>\n",
              "      <td>0.0</td>\n",
              "      <td>1.0</td>\n",
              "      <td>1.0</td>\n",
              "      <td>0.0</td>\n",
              "      <td>0.0</td>\n",
              "      <td>0.0</td>\n",
              "    </tr>\n",
              "    <tr>\n",
              "      <th>1178</th>\n",
              "      <td>1178</td>\n",
              "      <td>1178</td>\n",
              "      <td>6</td>\n",
              "      <td>1545734677410893824</td>\n",
              "      <td>2022-07-09 11:40:40+00:00</td>\n",
              "      <td>https://twitter.com/CatatanAli07/status/154573...</td>\n",
              "      <td>Dulu pernah dapat GA PARFUM udah 2 Tahun gak d...</td>\n",
              "      <td>0</td>\n",
              "      <td>0</td>\n",
              "      <td>0</td>\n",
              "      <td>...</td>\n",
              "      <td>1559.0</td>\n",
              "      <td>226.0</td>\n",
              "      <td>4473.0</td>\n",
              "      <td>0.0</td>\n",
              "      <td>0.0</td>\n",
              "      <td>0.0</td>\n",
              "      <td>0.0</td>\n",
              "      <td>0.0</td>\n",
              "      <td>0.0</td>\n",
              "      <td>0.0</td>\n",
              "    </tr>\n",
              "    <tr>\n",
              "      <th>1180</th>\n",
              "      <td>1180</td>\n",
              "      <td>1180</td>\n",
              "      <td>5</td>\n",
              "      <td>1545836847682945024</td>\n",
              "      <td>2022-07-09 18:26:39+00:00</td>\n",
              "      <td>https://twitter.com/CatatanAli07/status/154583...</td>\n",
              "      <td>🤗</td>\n",
              "      <td>0</td>\n",
              "      <td>0</td>\n",
              "      <td>0</td>\n",
              "      <td>...</td>\n",
              "      <td>1559.0</td>\n",
              "      <td>226.0</td>\n",
              "      <td>4473.0</td>\n",
              "      <td>0.0</td>\n",
              "      <td>0.0</td>\n",
              "      <td>0.0</td>\n",
              "      <td>0.0</td>\n",
              "      <td>0.0</td>\n",
              "      <td>0.0</td>\n",
              "      <td>0.0</td>\n",
              "    </tr>\n",
              "    <tr>\n",
              "      <th>1201</th>\n",
              "      <td>1201</td>\n",
              "      <td>1201</td>\n",
              "      <td>3</td>\n",
              "      <td>1574365780224794624</td>\n",
              "      <td>2022-09-26 11:50:26+00:00</td>\n",
              "      <td>https://twitter.com/CatatanAli07/status/157436...</td>\n",
              "      <td>Jika PEMERINTAH ingin memberantas PERJUDIAN be...</td>\n",
              "      <td>5</td>\n",
              "      <td>5</td>\n",
              "      <td>3</td>\n",
              "      <td>...</td>\n",
              "      <td>1559.0</td>\n",
              "      <td>226.0</td>\n",
              "      <td>4473.0</td>\n",
              "      <td>0.0</td>\n",
              "      <td>0.0</td>\n",
              "      <td>0.0</td>\n",
              "      <td>0.0</td>\n",
              "      <td>0.0</td>\n",
              "      <td>0.0</td>\n",
              "      <td>0.0</td>\n",
              "    </tr>\n",
              "    <tr>\n",
              "      <th>1202</th>\n",
              "      <td>1202</td>\n",
              "      <td>1202</td>\n",
              "      <td>186</td>\n",
              "      <td>1574366418279092224</td>\n",
              "      <td>2022-09-26 11:52:59+00:00</td>\n",
              "      <td>https://twitter.com/CatatanAli07/status/157436...</td>\n",
              "      <td>@TheEagle_BEN berhentilah ko main judi bodoh!</td>\n",
              "      <td>0</td>\n",
              "      <td>1</td>\n",
              "      <td>0</td>\n",
              "      <td>...</td>\n",
              "      <td>1558.0</td>\n",
              "      <td>224.0</td>\n",
              "      <td>4430.0</td>\n",
              "      <td>0.0</td>\n",
              "      <td>0.0</td>\n",
              "      <td>1.0</td>\n",
              "      <td>1.0</td>\n",
              "      <td>0.0</td>\n",
              "      <td>0.0</td>\n",
              "      <td>0.0</td>\n",
              "    </tr>\n",
              "  </tbody>\n",
              "</table>\n",
              "<p>79 rows × 25 columns</p>\n",
              "</div>\n",
              "      <button class=\"colab-df-convert\" onclick=\"convertToInteractive('df-75b53e1f-cc1a-4e64-bf22-6b69d87a95f7')\"\n",
              "              title=\"Convert this dataframe to an interactive table.\"\n",
              "              style=\"display:none;\">\n",
              "        \n",
              "  <svg xmlns=\"http://www.w3.org/2000/svg\" height=\"24px\"viewBox=\"0 0 24 24\"\n",
              "       width=\"24px\">\n",
              "    <path d=\"M0 0h24v24H0V0z\" fill=\"none\"/>\n",
              "    <path d=\"M18.56 5.44l.94 2.06.94-2.06 2.06-.94-2.06-.94-.94-2.06-.94 2.06-2.06.94zm-11 1L8.5 8.5l.94-2.06 2.06-.94-2.06-.94L8.5 2.5l-.94 2.06-2.06.94zm10 10l.94 2.06.94-2.06 2.06-.94-2.06-.94-.94-2.06-.94 2.06-2.06.94z\"/><path d=\"M17.41 7.96l-1.37-1.37c-.4-.4-.92-.59-1.43-.59-.52 0-1.04.2-1.43.59L10.3 9.45l-7.72 7.72c-.78.78-.78 2.05 0 2.83L4 21.41c.39.39.9.59 1.41.59.51 0 1.02-.2 1.41-.59l7.78-7.78 2.81-2.81c.8-.78.8-2.07 0-2.86zM5.41 20L4 18.59l7.72-7.72 1.47 1.35L5.41 20z\"/>\n",
              "  </svg>\n",
              "      </button>\n",
              "      \n",
              "  <style>\n",
              "    .colab-df-container {\n",
              "      display:flex;\n",
              "      flex-wrap:wrap;\n",
              "      gap: 12px;\n",
              "    }\n",
              "\n",
              "    .colab-df-convert {\n",
              "      background-color: #E8F0FE;\n",
              "      border: none;\n",
              "      border-radius: 50%;\n",
              "      cursor: pointer;\n",
              "      display: none;\n",
              "      fill: #1967D2;\n",
              "      height: 32px;\n",
              "      padding: 0 0 0 0;\n",
              "      width: 32px;\n",
              "    }\n",
              "\n",
              "    .colab-df-convert:hover {\n",
              "      background-color: #E2EBFA;\n",
              "      box-shadow: 0px 1px 2px rgba(60, 64, 67, 0.3), 0px 1px 3px 1px rgba(60, 64, 67, 0.15);\n",
              "      fill: #174EA6;\n",
              "    }\n",
              "\n",
              "    [theme=dark] .colab-df-convert {\n",
              "      background-color: #3B4455;\n",
              "      fill: #D2E3FC;\n",
              "    }\n",
              "\n",
              "    [theme=dark] .colab-df-convert:hover {\n",
              "      background-color: #434B5C;\n",
              "      box-shadow: 0px 1px 3px 1px rgba(0, 0, 0, 0.15);\n",
              "      filter: drop-shadow(0px 1px 2px rgba(0, 0, 0, 0.3));\n",
              "      fill: #FFFFFF;\n",
              "    }\n",
              "  </style>\n",
              "\n",
              "      <script>\n",
              "        const buttonEl =\n",
              "          document.querySelector('#df-75b53e1f-cc1a-4e64-bf22-6b69d87a95f7 button.colab-df-convert');\n",
              "        buttonEl.style.display =\n",
              "          google.colab.kernel.accessAllowed ? 'block' : 'none';\n",
              "\n",
              "        async function convertToInteractive(key) {\n",
              "          const element = document.querySelector('#df-75b53e1f-cc1a-4e64-bf22-6b69d87a95f7');\n",
              "          const dataTable =\n",
              "            await google.colab.kernel.invokeFunction('convertToInteractive',\n",
              "                                                     [key], {});\n",
              "          if (!dataTable) return;\n",
              "\n",
              "          const docLinkHtml = 'Like what you see? Visit the ' +\n",
              "            '<a target=\"_blank\" href=https://colab.research.google.com/notebooks/data_table.ipynb>data table notebook</a>'\n",
              "            + ' to learn more about interactive tables.';\n",
              "          element.innerHTML = '';\n",
              "          dataTable['output_type'] = 'display_data';\n",
              "          await google.colab.output.renderOutput(dataTable, element);\n",
              "          const docLink = document.createElement('div');\n",
              "          docLink.innerHTML = docLinkHtml;\n",
              "          element.appendChild(docLink);\n",
              "        }\n",
              "      </script>\n",
              "    </div>\n",
              "  </div>\n",
              "  "
            ]
          },
          "metadata": {},
          "execution_count": 16
        }
      ]
    },
    {
      "cell_type": "code",
      "source": [
        "data_raw_baru=data_raw"
      ],
      "metadata": {
        "id": "EgVlm-p_Wn5G"
      },
      "execution_count": null,
      "outputs": []
    },
    {
      "cell_type": "code",
      "execution_count": null,
      "metadata": {
        "outputId": "6d99322d-681c-441a-f5d6-38641d7e0e7e",
        "colab": {
          "base_uri": "https://localhost:8080/",
          "height": 53
        },
        "id": "Ptaul-zLWgDa"
      },
      "outputs": [
        {
          "output_type": "stream",
          "name": "stderr",
          "text": [
            "100%|██████████| 79/79 [00:00<00:00, 2494.17it/s]\n"
          ]
        },
        {
          "output_type": "execute_result",
          "data": {
            "text/plain": [
              "'Done!'"
            ],
            "application/vnd.google.colaboratory.intrinsic+json": {
              "type": "string"
            }
          },
          "metadata": {},
          "execution_count": 18
        }
      ],
      "source": [
        "#Melakukan Proses Pre Prosesing pada Kolom text Dataset \n",
        "result_preprocess = []\n",
        "for i, row in tqdm(data_raw_baru.iterrows(), total=data_raw_baru.shape[0]):\n",
        "  result_preprocess.append(preprocess(row['Tweet Text']))\n",
        "'Done!'"
      ]
    },
    {
      "cell_type": "code",
      "execution_count": null,
      "metadata": {
        "id": "xooT5OJiWgDa"
      },
      "outputs": [],
      "source": [
        "#Menampilkan hasil pre prosesing pada kolom baru yaitu text clean\n",
        "data_raw_baru['text_clean'] = result_preprocess"
      ]
    },
    {
      "cell_type": "code",
      "execution_count": null,
      "metadata": {
        "outputId": "997d2762-3f96-4a50-923a-05c2f2dab642",
        "colab": {
          "base_uri": "https://localhost:8080/"
        },
        "id": "kVayMgJKWgDa"
      },
      "outputs": [
        {
          "output_type": "execute_result",
          "data": {
            "text/plain": [
              "141     today thousands of people take part a demonstr...\n",
              "151     kemarin hajar cebong provokasi yakin turun rum...\n",
              "179          muda nyali kalah sama adek armando payah per\n",
              "303     alhamdulillah puasa hari tambah pahala orang o...\n",
              "306     fitnah tanah morotin pacar fitnah mokondo fitn...\n",
              "                              ...                        \n",
              "1177                                   kan nama kok setan\n",
              "1178                 dulu pernah parfum tahun kirim kirim\n",
              "1180                                                     \n",
              "1201    perintah berantas judi berantas dulu sosial me...\n",
              "1202                        henti lah kok main judi bodoh\n",
              "Name: text_clean, Length: 79, dtype: object"
            ]
          },
          "metadata": {},
          "execution_count": 20
        }
      ],
      "source": [
        "data_raw_baru['text_clean']"
      ]
    },
    {
      "cell_type": "code",
      "source": [
        "test_text = data_raw_baru['text_clean']"
      ],
      "metadata": {
        "id": "Ih_NPFr2WasX"
      },
      "execution_count": null,
      "outputs": []
    },
    {
      "cell_type": "code",
      "source": [
        "y_test = data_raw_baru.drop(labels = ['Unnamed: 0','Id','Tweet Time','Url','Tweet Text','Likes Count','Reply Count','Retweet Count','Retweeted Tweet','User Id','User Name','User Location',\n",
        "                             'text_clean','Unnamed: 0.1','index','User Follower Count','User Following Count','User Likes Count','User Tweets Count'], axis=1)"
      ],
      "metadata": {
        "id": "G1x_1JCgUDAt"
      },
      "execution_count": null,
      "outputs": []
    },
    {
      "cell_type": "code",
      "source": [
        "y_test = y_test.fillna(0)\n",
        "y_test"
      ],
      "metadata": {
        "colab": {
          "base_uri": "https://localhost:8080/",
          "height": 424
        },
        "id": "zyvALB6yXNIK",
        "outputId": "f31972bc-4a83-4032-cf73-3b26e1acf15e"
      },
      "execution_count": null,
      "outputs": [
        {
          "output_type": "execute_result",
          "data": {
            "text/plain": [
              "       KS   KH   DH  TDH  SWA   LO   AK\n",
              "141   0.0  0.0  0.0  0.0  0.0  0.0  1.0\n",
              "151   0.0  0.0  1.0  0.0  0.0  0.0  0.0\n",
              "179   0.0  0.0  0.0  1.0  0.0  0.0  0.0\n",
              "303   0.0  0.0  0.0  0.0  0.0  0.0  0.0\n",
              "306   0.0  0.0  0.0  0.0  0.0  0.0  0.0\n",
              "...   ...  ...  ...  ...  ...  ...  ...\n",
              "1177  0.0  0.0  1.0  1.0  0.0  0.0  0.0\n",
              "1178  0.0  0.0  0.0  0.0  0.0  0.0  0.0\n",
              "1180  0.0  0.0  0.0  0.0  0.0  0.0  0.0\n",
              "1201  0.0  0.0  0.0  0.0  0.0  0.0  0.0\n",
              "1202  0.0  0.0  1.0  1.0  0.0  0.0  0.0\n",
              "\n",
              "[79 rows x 7 columns]"
            ],
            "text/html": [
              "\n",
              "  <div id=\"df-047da61b-f69a-4bc9-b392-50896f823a9d\">\n",
              "    <div class=\"colab-df-container\">\n",
              "      <div>\n",
              "<style scoped>\n",
              "    .dataframe tbody tr th:only-of-type {\n",
              "        vertical-align: middle;\n",
              "    }\n",
              "\n",
              "    .dataframe tbody tr th {\n",
              "        vertical-align: top;\n",
              "    }\n",
              "\n",
              "    .dataframe thead th {\n",
              "        text-align: right;\n",
              "    }\n",
              "</style>\n",
              "<table border=\"1\" class=\"dataframe\">\n",
              "  <thead>\n",
              "    <tr style=\"text-align: right;\">\n",
              "      <th></th>\n",
              "      <th>KS</th>\n",
              "      <th>KH</th>\n",
              "      <th>DH</th>\n",
              "      <th>TDH</th>\n",
              "      <th>SWA</th>\n",
              "      <th>LO</th>\n",
              "      <th>AK</th>\n",
              "    </tr>\n",
              "  </thead>\n",
              "  <tbody>\n",
              "    <tr>\n",
              "      <th>141</th>\n",
              "      <td>0.0</td>\n",
              "      <td>0.0</td>\n",
              "      <td>0.0</td>\n",
              "      <td>0.0</td>\n",
              "      <td>0.0</td>\n",
              "      <td>0.0</td>\n",
              "      <td>1.0</td>\n",
              "    </tr>\n",
              "    <tr>\n",
              "      <th>151</th>\n",
              "      <td>0.0</td>\n",
              "      <td>0.0</td>\n",
              "      <td>1.0</td>\n",
              "      <td>0.0</td>\n",
              "      <td>0.0</td>\n",
              "      <td>0.0</td>\n",
              "      <td>0.0</td>\n",
              "    </tr>\n",
              "    <tr>\n",
              "      <th>179</th>\n",
              "      <td>0.0</td>\n",
              "      <td>0.0</td>\n",
              "      <td>0.0</td>\n",
              "      <td>1.0</td>\n",
              "      <td>0.0</td>\n",
              "      <td>0.0</td>\n",
              "      <td>0.0</td>\n",
              "    </tr>\n",
              "    <tr>\n",
              "      <th>303</th>\n",
              "      <td>0.0</td>\n",
              "      <td>0.0</td>\n",
              "      <td>0.0</td>\n",
              "      <td>0.0</td>\n",
              "      <td>0.0</td>\n",
              "      <td>0.0</td>\n",
              "      <td>0.0</td>\n",
              "    </tr>\n",
              "    <tr>\n",
              "      <th>306</th>\n",
              "      <td>0.0</td>\n",
              "      <td>0.0</td>\n",
              "      <td>0.0</td>\n",
              "      <td>0.0</td>\n",
              "      <td>0.0</td>\n",
              "      <td>0.0</td>\n",
              "      <td>0.0</td>\n",
              "    </tr>\n",
              "    <tr>\n",
              "      <th>...</th>\n",
              "      <td>...</td>\n",
              "      <td>...</td>\n",
              "      <td>...</td>\n",
              "      <td>...</td>\n",
              "      <td>...</td>\n",
              "      <td>...</td>\n",
              "      <td>...</td>\n",
              "    </tr>\n",
              "    <tr>\n",
              "      <th>1177</th>\n",
              "      <td>0.0</td>\n",
              "      <td>0.0</td>\n",
              "      <td>1.0</td>\n",
              "      <td>1.0</td>\n",
              "      <td>0.0</td>\n",
              "      <td>0.0</td>\n",
              "      <td>0.0</td>\n",
              "    </tr>\n",
              "    <tr>\n",
              "      <th>1178</th>\n",
              "      <td>0.0</td>\n",
              "      <td>0.0</td>\n",
              "      <td>0.0</td>\n",
              "      <td>0.0</td>\n",
              "      <td>0.0</td>\n",
              "      <td>0.0</td>\n",
              "      <td>0.0</td>\n",
              "    </tr>\n",
              "    <tr>\n",
              "      <th>1180</th>\n",
              "      <td>0.0</td>\n",
              "      <td>0.0</td>\n",
              "      <td>0.0</td>\n",
              "      <td>0.0</td>\n",
              "      <td>0.0</td>\n",
              "      <td>0.0</td>\n",
              "      <td>0.0</td>\n",
              "    </tr>\n",
              "    <tr>\n",
              "      <th>1201</th>\n",
              "      <td>0.0</td>\n",
              "      <td>0.0</td>\n",
              "      <td>0.0</td>\n",
              "      <td>0.0</td>\n",
              "      <td>0.0</td>\n",
              "      <td>0.0</td>\n",
              "      <td>0.0</td>\n",
              "    </tr>\n",
              "    <tr>\n",
              "      <th>1202</th>\n",
              "      <td>0.0</td>\n",
              "      <td>0.0</td>\n",
              "      <td>1.0</td>\n",
              "      <td>1.0</td>\n",
              "      <td>0.0</td>\n",
              "      <td>0.0</td>\n",
              "      <td>0.0</td>\n",
              "    </tr>\n",
              "  </tbody>\n",
              "</table>\n",
              "<p>79 rows × 7 columns</p>\n",
              "</div>\n",
              "      <button class=\"colab-df-convert\" onclick=\"convertToInteractive('df-047da61b-f69a-4bc9-b392-50896f823a9d')\"\n",
              "              title=\"Convert this dataframe to an interactive table.\"\n",
              "              style=\"display:none;\">\n",
              "        \n",
              "  <svg xmlns=\"http://www.w3.org/2000/svg\" height=\"24px\"viewBox=\"0 0 24 24\"\n",
              "       width=\"24px\">\n",
              "    <path d=\"M0 0h24v24H0V0z\" fill=\"none\"/>\n",
              "    <path d=\"M18.56 5.44l.94 2.06.94-2.06 2.06-.94-2.06-.94-.94-2.06-.94 2.06-2.06.94zm-11 1L8.5 8.5l.94-2.06 2.06-.94-2.06-.94L8.5 2.5l-.94 2.06-2.06.94zm10 10l.94 2.06.94-2.06 2.06-.94-2.06-.94-.94-2.06-.94 2.06-2.06.94z\"/><path d=\"M17.41 7.96l-1.37-1.37c-.4-.4-.92-.59-1.43-.59-.52 0-1.04.2-1.43.59L10.3 9.45l-7.72 7.72c-.78.78-.78 2.05 0 2.83L4 21.41c.39.39.9.59 1.41.59.51 0 1.02-.2 1.41-.59l7.78-7.78 2.81-2.81c.8-.78.8-2.07 0-2.86zM5.41 20L4 18.59l7.72-7.72 1.47 1.35L5.41 20z\"/>\n",
              "  </svg>\n",
              "      </button>\n",
              "      \n",
              "  <style>\n",
              "    .colab-df-container {\n",
              "      display:flex;\n",
              "      flex-wrap:wrap;\n",
              "      gap: 12px;\n",
              "    }\n",
              "\n",
              "    .colab-df-convert {\n",
              "      background-color: #E8F0FE;\n",
              "      border: none;\n",
              "      border-radius: 50%;\n",
              "      cursor: pointer;\n",
              "      display: none;\n",
              "      fill: #1967D2;\n",
              "      height: 32px;\n",
              "      padding: 0 0 0 0;\n",
              "      width: 32px;\n",
              "    }\n",
              "\n",
              "    .colab-df-convert:hover {\n",
              "      background-color: #E2EBFA;\n",
              "      box-shadow: 0px 1px 2px rgba(60, 64, 67, 0.3), 0px 1px 3px 1px rgba(60, 64, 67, 0.15);\n",
              "      fill: #174EA6;\n",
              "    }\n",
              "\n",
              "    [theme=dark] .colab-df-convert {\n",
              "      background-color: #3B4455;\n",
              "      fill: #D2E3FC;\n",
              "    }\n",
              "\n",
              "    [theme=dark] .colab-df-convert:hover {\n",
              "      background-color: #434B5C;\n",
              "      box-shadow: 0px 1px 3px 1px rgba(0, 0, 0, 0.15);\n",
              "      filter: drop-shadow(0px 1px 2px rgba(0, 0, 0, 0.3));\n",
              "      fill: #FFFFFF;\n",
              "    }\n",
              "  </style>\n",
              "\n",
              "      <script>\n",
              "        const buttonEl =\n",
              "          document.querySelector('#df-047da61b-f69a-4bc9-b392-50896f823a9d button.colab-df-convert');\n",
              "        buttonEl.style.display =\n",
              "          google.colab.kernel.accessAllowed ? 'block' : 'none';\n",
              "\n",
              "        async function convertToInteractive(key) {\n",
              "          const element = document.querySelector('#df-047da61b-f69a-4bc9-b392-50896f823a9d');\n",
              "          const dataTable =\n",
              "            await google.colab.kernel.invokeFunction('convertToInteractive',\n",
              "                                                     [key], {});\n",
              "          if (!dataTable) return;\n",
              "\n",
              "          const docLinkHtml = 'Like what you see? Visit the ' +\n",
              "            '<a target=\"_blank\" href=https://colab.research.google.com/notebooks/data_table.ipynb>data table notebook</a>'\n",
              "            + ' to learn more about interactive tables.';\n",
              "          element.innerHTML = '';\n",
              "          dataTable['output_type'] = 'display_data';\n",
              "          await google.colab.output.renderOutput(dataTable, element);\n",
              "          const docLink = document.createElement('div');\n",
              "          docLink.innerHTML = docLinkHtml;\n",
              "          element.appendChild(docLink);\n",
              "        }\n",
              "      </script>\n",
              "    </div>\n",
              "  </div>\n",
              "  "
            ]
          },
          "metadata": {},
          "execution_count": 23
        }
      ]
    },
    {
      "cell_type": "markdown",
      "source": [
        "#Feature Extraction (TFIDF)"
      ],
      "metadata": {
        "id": "c8MAs7VZV8Bx"
      }
    },
    {
      "cell_type": "code",
      "source": [
        "from sklearn.feature_extraction.text import TfidfVectorizer\n",
        "vectorizer = TfidfVectorizer(strip_accents='unicode', analyzer='word', ngram_range=(1,3), norm='l2')\n",
        "vectorizer.fit(train_text)\n",
        "vectorizer.fit(test_text)"
      ],
      "metadata": {
        "colab": {
          "base_uri": "https://localhost:8080/",
          "height": 74
        },
        "id": "TZIPKtxeXsrr",
        "outputId": "773ea550-7182-4c44-e287-228debdd0427"
      },
      "execution_count": null,
      "outputs": [
        {
          "output_type": "execute_result",
          "data": {
            "text/plain": [
              "TfidfVectorizer(ngram_range=(1, 3), strip_accents='unicode')"
            ],
            "text/html": [
              "<style>#sk-container-id-1 {color: black;background-color: white;}#sk-container-id-1 pre{padding: 0;}#sk-container-id-1 div.sk-toggleable {background-color: white;}#sk-container-id-1 label.sk-toggleable__label {cursor: pointer;display: block;width: 100%;margin-bottom: 0;padding: 0.3em;box-sizing: border-box;text-align: center;}#sk-container-id-1 label.sk-toggleable__label-arrow:before {content: \"▸\";float: left;margin-right: 0.25em;color: #696969;}#sk-container-id-1 label.sk-toggleable__label-arrow:hover:before {color: black;}#sk-container-id-1 div.sk-estimator:hover label.sk-toggleable__label-arrow:before {color: black;}#sk-container-id-1 div.sk-toggleable__content {max-height: 0;max-width: 0;overflow: hidden;text-align: left;background-color: #f0f8ff;}#sk-container-id-1 div.sk-toggleable__content pre {margin: 0.2em;color: black;border-radius: 0.25em;background-color: #f0f8ff;}#sk-container-id-1 input.sk-toggleable__control:checked~div.sk-toggleable__content {max-height: 200px;max-width: 100%;overflow: auto;}#sk-container-id-1 input.sk-toggleable__control:checked~label.sk-toggleable__label-arrow:before {content: \"▾\";}#sk-container-id-1 div.sk-estimator input.sk-toggleable__control:checked~label.sk-toggleable__label {background-color: #d4ebff;}#sk-container-id-1 div.sk-label input.sk-toggleable__control:checked~label.sk-toggleable__label {background-color: #d4ebff;}#sk-container-id-1 input.sk-hidden--visually {border: 0;clip: rect(1px 1px 1px 1px);clip: rect(1px, 1px, 1px, 1px);height: 1px;margin: -1px;overflow: hidden;padding: 0;position: absolute;width: 1px;}#sk-container-id-1 div.sk-estimator {font-family: monospace;background-color: #f0f8ff;border: 1px dotted black;border-radius: 0.25em;box-sizing: border-box;margin-bottom: 0.5em;}#sk-container-id-1 div.sk-estimator:hover {background-color: #d4ebff;}#sk-container-id-1 div.sk-parallel-item::after {content: \"\";width: 100%;border-bottom: 1px solid gray;flex-grow: 1;}#sk-container-id-1 div.sk-label:hover label.sk-toggleable__label {background-color: #d4ebff;}#sk-container-id-1 div.sk-serial::before {content: \"\";position: absolute;border-left: 1px solid gray;box-sizing: border-box;top: 0;bottom: 0;left: 50%;z-index: 0;}#sk-container-id-1 div.sk-serial {display: flex;flex-direction: column;align-items: center;background-color: white;padding-right: 0.2em;padding-left: 0.2em;position: relative;}#sk-container-id-1 div.sk-item {position: relative;z-index: 1;}#sk-container-id-1 div.sk-parallel {display: flex;align-items: stretch;justify-content: center;background-color: white;position: relative;}#sk-container-id-1 div.sk-item::before, #sk-container-id-1 div.sk-parallel-item::before {content: \"\";position: absolute;border-left: 1px solid gray;box-sizing: border-box;top: 0;bottom: 0;left: 50%;z-index: -1;}#sk-container-id-1 div.sk-parallel-item {display: flex;flex-direction: column;z-index: 1;position: relative;background-color: white;}#sk-container-id-1 div.sk-parallel-item:first-child::after {align-self: flex-end;width: 50%;}#sk-container-id-1 div.sk-parallel-item:last-child::after {align-self: flex-start;width: 50%;}#sk-container-id-1 div.sk-parallel-item:only-child::after {width: 0;}#sk-container-id-1 div.sk-dashed-wrapped {border: 1px dashed gray;margin: 0 0.4em 0.5em 0.4em;box-sizing: border-box;padding-bottom: 0.4em;background-color: white;}#sk-container-id-1 div.sk-label label {font-family: monospace;font-weight: bold;display: inline-block;line-height: 1.2em;}#sk-container-id-1 div.sk-label-container {text-align: center;}#sk-container-id-1 div.sk-container {/* jupyter's `normalize.less` sets `[hidden] { display: none; }` but bootstrap.min.css set `[hidden] { display: none !important; }` so we also need the `!important` here to be able to override the default hidden behavior on the sphinx rendered scikit-learn.org. See: https://github.com/scikit-learn/scikit-learn/issues/21755 */display: inline-block !important;position: relative;}#sk-container-id-1 div.sk-text-repr-fallback {display: none;}</style><div id=\"sk-container-id-1\" class=\"sk-top-container\"><div class=\"sk-text-repr-fallback\"><pre>TfidfVectorizer(ngram_range=(1, 3), strip_accents=&#x27;unicode&#x27;)</pre><b>In a Jupyter environment, please rerun this cell to show the HTML representation or trust the notebook. <br />On GitHub, the HTML representation is unable to render, please try loading this page with nbviewer.org.</b></div><div class=\"sk-container\" hidden><div class=\"sk-item\"><div class=\"sk-estimator sk-toggleable\"><input class=\"sk-toggleable__control sk-hidden--visually\" id=\"sk-estimator-id-1\" type=\"checkbox\" checked><label for=\"sk-estimator-id-1\" class=\"sk-toggleable__label sk-toggleable__label-arrow\">TfidfVectorizer</label><div class=\"sk-toggleable__content\"><pre>TfidfVectorizer(ngram_range=(1, 3), strip_accents=&#x27;unicode&#x27;)</pre></div></div></div></div></div>"
            ]
          },
          "metadata": {},
          "execution_count": 24
        }
      ]
    },
    {
      "cell_type": "code",
      "source": [
        "x_train = vectorizer.transform(train_text)\n",
        "x_test = vectorizer.transform(test_text)"
      ],
      "metadata": {
        "id": "YXTv5Hz1X10z"
      },
      "execution_count": null,
      "outputs": []
    },
    {
      "cell_type": "code",
      "source": [
        "y_train = train.drop(labels = ['Tweet','text_clean'], axis=1)"
      ],
      "metadata": {
        "id": "R4yn-Cq1Z8Sc"
      },
      "execution_count": null,
      "outputs": []
    },
    {
      "cell_type": "markdown",
      "source": [
        "#Klasifikasi"
      ],
      "metadata": {
        "id": "ZMvh_dZYV_oA"
      }
    },
    {
      "cell_type": "code",
      "source": [
        "from sklearn.ensemble import BaggingClassifier\n",
        "from skmultilearn.problem_transform import ClassifierChain\n",
        "from sklearn.metrics import multilabel_confusion_matrix\n",
        "import numpy as np\n",
        "from sklearn.metrics import hamming_loss\n",
        "from sklearn.metrics import f1_score\n",
        "from sklearn.metrics import classification_report\n",
        "\n",
        "bagClassifier = ClassifierChain(BaggingClassifier(n_jobs=-1))\n",
        "bagClassifier.fit(x_train, y_train)\n",
        "bagPreds = bagClassifier.predict(x_test)"
      ],
      "metadata": {
        "id": "K3QiSCPVSq-h"
      },
      "execution_count": null,
      "outputs": []
    },
    {
      "cell_type": "markdown",
      "source": [
        "#Evaluasi"
      ],
      "metadata": {
        "id": "58AioIzRWBW_"
      }
    },
    {
      "cell_type": "code",
      "source": [
        "from sklearn.metrics import accuracy_score\n",
        "label_names = ['Konteks Sosial', 'Konteks Historis', 'Dehumanisasi', 'Tuduhan Negatif', 'Serangan Pada Wanita', 'Mempertanyakan Grup', 'Ancaman Kelompok']\n",
        "# accuracy\n",
        "print(\"Accuracy = \",accuracy_score(y_test,bagPreds))\n",
        "print(\"\\n\")\n",
        "f1_score_macro = f1_score(y_test, bagPreds, average='macro', zero_division=0)\n",
        "print('f1_score_macro : ',f1_score_macro)\n",
        "print(\"\\n\")\n",
        "f1_score_micro = f1_score(y_test, bagPreds, average='micro', zero_division=0)\n",
        "print('f1_score_micro : ',f1_score_micro)\n",
        "print(\"\\n\")\n",
        "f1_score_weighted = f1_score(y_test, bagPreds, average='weighted', zero_division=0)\n",
        "print('f1_score_weighted : ',f1_score_weighted)\n",
        "print(\"\\n\")\n",
        "print(classification_report(y_test, bagPreds,target_names=label_names, zero_division=0))\n",
        "print(\"\\n\")\n",
        "multilabel_confusion_matrix(y_test, bagPreds)"
      ],
      "metadata": {
        "colab": {
          "base_uri": "https://localhost:8080/"
        },
        "id": "afk6gdBNYJnX",
        "outputId": "4083d2fe-fb4e-4dfe-af9f-9f64003a771f"
      },
      "execution_count": null,
      "outputs": [
        {
          "output_type": "stream",
          "name": "stdout",
          "text": [
            "Accuracy =  0.0379746835443038\n",
            "\n",
            "\n",
            "f1_score_macro :  0.12036206794991787\n",
            "\n",
            "\n",
            "f1_score_micro :  0.2677165354330709\n",
            "\n",
            "\n",
            "f1_score_weighted :  0.2560979520777019\n",
            "\n",
            "\n",
            "                      precision    recall  f1-score   support\n",
            "\n",
            "      Konteks Sosial       0.38      0.20      0.26        15\n",
            "    Konteks Historis       0.00      0.00      0.00         2\n",
            "        Dehumanisasi       0.24      0.44      0.31         9\n",
            "     Tuduhan Negatif       0.17      0.77      0.27        13\n",
            "Serangan Pada Wanita       0.00      0.00      0.00         0\n",
            " Mempertanyakan Grup       0.00      0.00      0.00         0\n",
            "    Ancaman Kelompok       0.00      0.00      0.00         1\n",
            "\n",
            "           micro avg       0.20      0.42      0.27        40\n",
            "           macro avg       0.11      0.20      0.12        40\n",
            "        weighted avg       0.25      0.42      0.26        40\n",
            "         samples avg       0.18      0.12      0.14        40\n",
            "\n",
            "\n",
            "\n"
          ]
        },
        {
          "output_type": "execute_result",
          "data": {
            "text/plain": [
              "array([[[59,  5],\n",
              "        [12,  3]],\n",
              "\n",
              "       [[77,  0],\n",
              "        [ 2,  0]],\n",
              "\n",
              "       [[57, 13],\n",
              "        [ 5,  4]],\n",
              "\n",
              "       [[16, 50],\n",
              "        [ 3, 10]],\n",
              "\n",
              "       [[79,  0],\n",
              "        [ 0,  0]],\n",
              "\n",
              "       [[79,  0],\n",
              "        [ 0,  0]],\n",
              "\n",
              "       [[76,  2],\n",
              "        [ 1,  0]]])"
            ]
          },
          "metadata": {},
          "execution_count": 28
        }
      ]
    }
  ]
}